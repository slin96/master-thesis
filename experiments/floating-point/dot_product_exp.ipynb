{
 "cells": [
  {
   "cell_type": "code",
   "execution_count": 1,
   "metadata": {
    "collapsed": true
   },
   "outputs": [],
   "source": [
    "import random"
   ]
  },
  {
   "cell_type": "code",
   "execution_count": 2,
   "outputs": [],
   "source": [
    "__FORMAT_SPEC = '.20g'"
   ],
   "metadata": {
    "collapsed": false,
    "pycharm": {
     "name": "#%%\n"
    }
   }
  },
  {
   "cell_type": "code",
   "execution_count": 3,
   "outputs": [],
   "source": [
    "def serial_computation(a, b):\n",
    "    sum = 0\n",
    "    for i in range(len(a)):\n",
    "        tmp = a[i] * b[i]\n",
    "        sum = sum + tmp\n",
    "    return str(format(sum, __FORMAT_SPEC))\n",
    "\n",
    "\n",
    "def parallel_computation(a, b):\n",
    "    one = a[0] * b[0]\n",
    "    two = a[1] * b[1]\n",
    "    three = a[2] * b[2]\n",
    "    four = a[3] * b[3]\n",
    "\n",
    "    tmp1 = one + two\n",
    "    tmp2 = three + four\n",
    "    sum = tmp1 + tmp2\n",
    "\n",
    "    return str(format(sum, __FORMAT_SPEC))\n",
    "\n",
    "\n",
    "def generate_random_lists():\n",
    "    a = [random.uniform(-1, 1) for i in range(4)]\n",
    "    b = [random.uniform(-1, 1) for i in range(4)]\n",
    "    return a, b\n",
    "\n",
    "\n",
    "def diff_results():\n",
    "    found = False\n",
    "    a = b = None\n",
    "    while not found:\n",
    "        a, b = generate_random_lists()\n",
    "        res1 = serial_computation(a, b)\n",
    "        res2 = parallel_computation(a, b)\n",
    "        found = res1 != res2\n",
    "\n",
    "    return a, b"
   ],
   "metadata": {
    "collapsed": false,
    "pycharm": {
     "name": "#%%\n"
    }
   }
  },
  {
   "cell_type": "code",
   "execution_count": 4,
   "outputs": [
    {
     "name": "stdout",
     "output_type": "stream",
     "text": [
      "array 1: [0.2788535969157675, -0.9499784895546661, -0.4499413632617615, -0.5535785237023545]\n",
      "array 2: [0.4729424283280248, 0.3533989748458226, 0.7843591354096908, -0.8261223347411677]\n",
      "dot product (serial method):\t-0.099431763270349693418\n",
      "dot product (parallel method):\t-0.099431763270349665662\n"
     ]
    }
   ],
   "source": [
    "random.seed(42)\n",
    "a, b = diff_results()\n",
    "res1 = serial_computation(a, b)\n",
    "res2 = parallel_computation(a, b)\n",
    "\n",
    "print('array 1: {}'.format(a))\n",
    "print('array 2: {}'.format(b))\n",
    "print('dot product (serial method):\\t{}'.format(res1))\n",
    "print('dot product (parallel method):\\t{}'.format(res2))\n"
   ],
   "metadata": {
    "collapsed": false,
    "pycharm": {
     "name": "#%%\n"
    }
   }
  }
 ],
 "metadata": {
  "kernelspec": {
   "display_name": "Python 3",
   "language": "python",
   "name": "python3"
  },
  "language_info": {
   "codemirror_mode": {
    "name": "ipython",
    "version": 2
   },
   "file_extension": ".py",
   "mimetype": "text/x-python",
   "name": "python",
   "nbconvert_exporter": "python",
   "pygments_lexer": "ipython2",
   "version": "2.7.6"
  }
 },
 "nbformat": 4,
 "nbformat_minor": 0
}