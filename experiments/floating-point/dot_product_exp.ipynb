{
 "cells": [
  {
   "cell_type": "code",
   "execution_count": 1,
   "metadata": {
    "collapsed": true
   },
   "outputs": [],
   "source": [
    "import random"
   ]
  },
  {
   "cell_type": "code",
   "execution_count": 2,
   "outputs": [],
   "source": [
    "__FORMAT_SPEC = '.20g'"
   ],
   "metadata": {
    "collapsed": false,
    "pycharm": {
     "name": "#%%\n"
    }
   }
  },
  {
   "cell_type": "code",
   "execution_count": 3,
   "outputs": [],
   "source": [
    "def serial_computation(a, b):\n",
    "    sum = 0\n",
    "    for i in range(len(a)):\n",
    "        tmp = a[i] * b[i]\n",
    "        sum = sum + tmp\n",
    "    return str(format(sum, __FORMAT_SPEC))"
   ],
   "metadata": {
    "collapsed": false,
    "pycharm": {
     "name": "#%%\n"
    }
   }
  },
  {
   "cell_type": "code",
   "execution_count": 4,
   "outputs": [],
   "source": [
    "def parallel_computation_v1(a, b):\n",
    "    one = a[0] * b[0]\n",
    "    two = a[1] * b[1]\n",
    "    three = a[2] * b[2]\n",
    "    four = a[3] * b[3]\n",
    "\n",
    "    tmp1 = one + two\n",
    "    tmp2 = three + four\n",
    "    sum = tmp1 + tmp2\n",
    "\n",
    "    return str(format(sum, __FORMAT_SPEC))"
   ],
   "metadata": {
    "collapsed": false,
    "pycharm": {
     "name": "#%%\n"
    }
   }
  },
  {
   "cell_type": "code",
   "execution_count": 5,
   "outputs": [],
   "source": [
    "def parallel_computation_v2(a, b):\n",
    "    one = a[0] * b[0]\n",
    "    two = a[1] * b[1]\n",
    "    three = a[2] * b[2]\n",
    "    four = a[3] * b[3]\n",
    "\n",
    "    tmp1 = one + three\n",
    "    tmp2 = two + four\n",
    "    sum = tmp1 + tmp2\n",
    "\n",
    "    return str(format(sum, __FORMAT_SPEC))"
   ],
   "metadata": {
    "collapsed": false,
    "pycharm": {
     "name": "#%%\n"
    }
   }
  },
  {
   "cell_type": "code",
   "execution_count": 6,
   "outputs": [],
   "source": [
    "def generate_random_lists():\n",
    "    a = [random.uniform(-1, 1) for i in range(4)]\n",
    "    b = [random.uniform(-1, 1) for i in range(4)]\n",
    "    return a, b"
   ],
   "metadata": {
    "collapsed": false,
    "pycharm": {
     "name": "#%%\n"
    }
   }
  },
  {
   "cell_type": "code",
   "execution_count": 7,
   "outputs": [],
   "source": [
    "def diff_method_diff_results():\n",
    "    found = False\n",
    "    a = b = None\n",
    "    while not found:\n",
    "        a, b = generate_random_lists()\n",
    "        res1 = serial_computation(a, b)\n",
    "        res2 = parallel_computation_v1(a, b)\n",
    "        found = res1 != res2\n",
    "\n",
    "    return a, b"
   ],
   "metadata": {
    "collapsed": false,
    "pycharm": {
     "name": "#%%\n"
    }
   }
  },
  {
   "cell_type": "code",
   "execution_count": 8,
   "outputs": [],
   "source": [
    "def diff_order_diff_results():\n",
    "    found = False\n",
    "    a = b = None\n",
    "    while not found:\n",
    "        a, b = generate_random_lists()\n",
    "        res1 = parallel_computation_v1(a, b)\n",
    "        res2 = parallel_computation_v2(a, b)\n",
    "        found = res1 != res2\n",
    "\n",
    "    return a, b"
   ],
   "metadata": {
    "collapsed": false,
    "pycharm": {
     "name": "#%%\n"
    }
   }
  },
  {
   "cell_type": "code",
   "execution_count": 9,
   "outputs": [
    {
     "name": "stdout",
     "output_type": "stream",
     "text": [
      "Different results for serial vs parallel computation of dot-product\n",
      "input-array 1: [0.2788535969157675, -0.9499784895546661, -0.4499413632617615, -0.5535785237023545]\n",
      "input-array 2: [0.4729424283280248, 0.3533989748458226, 0.7843591354096908, -0.8261223347411677]\n",
      "dot-product(a,b) (serial method):\t-0.099431763270349693418\n",
      "dot-product(a,b) (parallel method):\t-0.099431763270349665662\n"
     ]
    }
   ],
   "source": [
    "# Different results for serial vs parallel computation of dot-product\n",
    "\n",
    "random.seed(42)\n",
    "a, b = diff_method_diff_results()\n",
    "res1 = serial_computation(a, b)\n",
    "res2 = parallel_computation_v1(a, b)\n",
    "\n",
    "print(\"Different results for serial vs parallel computation of dot-product\")\n",
    "print('input-array 1: {}'.format(a))\n",
    "print('input-array 2: {}'.format(b))\n",
    "print('dot-product(a,b) (serial method):\\t{}'.format(res1))\n",
    "print('dot-product(a,b) (parallel method):\\t{}'.format(res2))"
   ],
   "metadata": {
    "collapsed": false,
    "pycharm": {
     "name": "#%%\n"
    }
   }
  },
  {
   "cell_type": "code",
   "execution_count": 13,
   "outputs": [
    {
     "name": "stdout",
     "output_type": "stream",
     "text": [
      "Different results for parallel executions with different orders\n",
      "input-array 1: [0.9120685437784988, 0.8956549741186988, -0.8868972645463826, -0.8302560096821567]\n",
      "input-array 2: [0.6709977562588991, 0.4719399781370466, 0.3394608028804418, -0.3837270848217116]\n",
      "dot-product(a,b) (parallel method, v1):\t1.0522161960892681964\n",
      "dot-product(a,b) (parallel method, v2):\t1.0522161960892679744\n"
     ]
    }
   ],
   "source": [
    "# Different results for parallel executions with different orders\n",
    "\n",
    "random.seed(2)\n",
    "a, b = diff_order_diff_results()\n",
    "res1 = parallel_computation_v1(a, b)\n",
    "res2 = parallel_computation_v2(a, b)\n",
    "\n",
    "print(\"Different results for parallel executions with different orders\")\n",
    "print('input-array 1: {}'.format(a))\n",
    "print('input-array 2: {}'.format(b))\n",
    "print('dot-product(a,b) (parallel method, v1):\\t{}'.format(res1))\n",
    "print('dot-product(a,b) (parallel method, v2):\\t{}'.format(res2))\n",
    "\n",
    "\n"
   ],
   "metadata": {
    "collapsed": false,
    "pycharm": {
     "name": "#%%\n"
    }
   }
  },
  {
   "cell_type": "code",
   "execution_count": 10,
   "outputs": [],
   "source": [],
   "metadata": {
    "collapsed": false,
    "pycharm": {
     "name": "#%%\n"
    }
   }
  }
 ],
 "metadata": {
  "kernelspec": {
   "display_name": "Python 3",
   "language": "python",
   "name": "python3"
  },
  "language_info": {
   "codemirror_mode": {
    "name": "ipython",
    "version": 2
   },
   "file_extension": ".py",
   "mimetype": "text/x-python",
   "name": "python",
   "nbconvert_exporter": "python",
   "pygments_lexer": "ipython2",
   "version": "2.7.6"
  }
 },
 "nbformat": 4,
 "nbformat_minor": 0
}