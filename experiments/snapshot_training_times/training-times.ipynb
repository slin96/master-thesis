{
 "cells": [
  {
   "cell_type": "code",
   "execution_count": 1,
   "outputs": [],
   "source": [
    "import statistics\n",
    "\n",
    "import pandas as pd\n",
    "\n",
    "from experiments.snapshot_training_times.util import train_times"
   ],
   "metadata": {
    "collapsed": false,
    "pycharm": {
     "name": "#%%\n"
    }
   }
  },
  {
   "cell_type": "code",
   "execution_count": 2,
   "metadata": {
    "collapsed": true
   },
   "outputs": [],
   "source": [
    "RESNET_152 = 'resnet152'\n",
    "RESNET_50 = 'resnet50'\n",
    "RESNET_18 = 'resnet18'\n",
    "GOOGLENET = 'googlenet'\n",
    "MOBILENET = 'mobilenet'\n",
    "U2_LOGS = './snapshot-training-logs/u2'\n",
    "U3_FOOD_LOGS = './snapshot-training-logs/u3-1-food'\n",
    "U3_OUTDOOR_LOGS = './snapshot-training-logs/u3-1-outdoor'\n",
    "MODELS = [MOBILENET, GOOGLENET, RESNET_18, RESNET_50, RESNET_152]\n",
    "LOG_DIRS = [U2_LOGS, U3_FOOD_LOGS, U3_OUTDOOR_LOGS]"
   ]
  },
  {
   "cell_type": "code",
   "execution_count": 3,
   "outputs": [],
   "source": [
    "median_train_times = {}\n",
    "for model in MODELS:\n",
    "    for log_dir in LOG_DIRS:\n",
    "        times = train_times(model, log_dir)\n",
    "        diff_times = [t['diff'] for t in times.values()]\n",
    "        if model not in median_train_times:\n",
    "            median_train_times[model] = {log_dir: statistics.median(diff_times)}\n",
    "        else:\n",
    "            median_train_times[model][log_dir] = statistics.median(diff_times)"
   ],
   "metadata": {
    "collapsed": false,
    "pycharm": {
     "name": "#%%\n"
    }
   }
  },
  {
   "cell_type": "code",
   "execution_count": 4,
   "outputs": [],
   "source": [
    "median_df = pd.DataFrame(median_train_times)"
   ],
   "metadata": {
    "collapsed": false,
    "pycharm": {
     "name": "#%%\n"
    }
   }
  },
  {
   "cell_type": "code",
   "execution_count": 5,
   "outputs": [],
   "source": [
    "median_df = median_df.set_axis(['u2', 'u3-food', 'u3-outdoor'], axis='index')"
   ],
   "metadata": {
    "collapsed": false,
    "pycharm": {
     "name": "#%%\n"
    }
   }
  },
  {
   "cell_type": "code",
   "execution_count": 6,
   "outputs": [],
   "source": [
    "median_df = median_df * 10**-9"
   ],
   "metadata": {
    "collapsed": false,
    "pycharm": {
     "name": "#%%\n"
    }
   }
  },
  {
   "cell_type": "code",
   "execution_count": 7,
   "outputs": [
    {
     "data": {
      "text/plain": "             mobilenet   googlenet    resnet18    resnet50    resnet152\nu2          555.513469  689.225019  640.062407  617.754382  1013.781174\nu3-food       4.646154    7.218117    6.716821    6.407651     9.570410\nu3-outdoor    5.441547    6.436233    5.885947    5.926267     9.369242",
      "text/html": "<div>\n<style scoped>\n    .dataframe tbody tr th:only-of-type {\n        vertical-align: middle;\n    }\n\n    .dataframe tbody tr th {\n        vertical-align: top;\n    }\n\n    .dataframe thead th {\n        text-align: right;\n    }\n</style>\n<table border=\"1\" class=\"dataframe\">\n  <thead>\n    <tr style=\"text-align: right;\">\n      <th></th>\n      <th>mobilenet</th>\n      <th>googlenet</th>\n      <th>resnet18</th>\n      <th>resnet50</th>\n      <th>resnet152</th>\n    </tr>\n  </thead>\n  <tbody>\n    <tr>\n      <th>u2</th>\n      <td>555.513469</td>\n      <td>689.225019</td>\n      <td>640.062407</td>\n      <td>617.754382</td>\n      <td>1013.781174</td>\n    </tr>\n    <tr>\n      <th>u3-food</th>\n      <td>4.646154</td>\n      <td>7.218117</td>\n      <td>6.716821</td>\n      <td>6.407651</td>\n      <td>9.570410</td>\n    </tr>\n    <tr>\n      <th>u3-outdoor</th>\n      <td>5.441547</td>\n      <td>6.436233</td>\n      <td>5.885947</td>\n      <td>5.926267</td>\n      <td>9.369242</td>\n    </tr>\n  </tbody>\n</table>\n</div>"
     },
     "execution_count": 7,
     "metadata": {},
     "output_type": "execute_result"
    }
   ],
   "source": [
    "median_df"
   ],
   "metadata": {
    "collapsed": false,
    "pycharm": {
     "name": "#%%\n"
    }
   }
  },
  {
   "cell_type": "code",
   "execution_count": 8,
   "outputs": [
    {
     "data": {
      "text/plain": "'\\\\begin{tabular}{lrrrrr}\\n\\\\toprule\\n{} &   mobilenet &   googlenet &    resnet18 &    resnet50 &    resnet152 \\\\\\\\\\n\\\\midrule\\nu2         &  555.513469 &  689.225019 &  640.062407 &  617.754382 &  1013.781174 \\\\\\\\\\nu3-food    &    4.646154 &    7.218117 &    6.716821 &    6.407651 &     9.570410 \\\\\\\\\\nu3-outdoor &    5.441547 &    6.436233 &    5.885947 &    5.926267 &     9.369242 \\\\\\\\\\n\\\\bottomrule\\n\\\\end{tabular}\\n'"
     },
     "execution_count": 8,
     "metadata": {},
     "output_type": "execute_result"
    }
   ],
   "source": [
    "median_df.to_latex()"
   ],
   "metadata": {
    "collapsed": false,
    "pycharm": {
     "name": "#%%\n"
    }
   }
  },
  {
   "cell_type": "code",
   "execution_count": 8,
   "outputs": [],
   "source": [],
   "metadata": {
    "collapsed": false,
    "pycharm": {
     "name": "#%%\n"
    }
   }
  }
 ],
 "metadata": {
  "kernelspec": {
   "display_name": "Python 3",
   "language": "python",
   "name": "python3"
  },
  "language_info": {
   "codemirror_mode": {
    "name": "ipython",
    "version": 2
   },
   "file_extension": ".py",
   "mimetype": "text/x-python",
   "name": "python",
   "nbconvert_exporter": "python",
   "pygments_lexer": "ipython2",
   "version": "2.7.6"
  }
 },
 "nbformat": 4,
 "nbformat_minor": 0
}