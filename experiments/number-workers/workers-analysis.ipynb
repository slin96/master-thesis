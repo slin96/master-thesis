{
 "cells": [
  {
   "cell_type": "code",
   "execution_count": 1,
   "metadata": {
    "collapsed": true
   },
   "outputs": [],
   "source": [
    "import torch\n",
    "from mmlib.equal import state_dict_equal\n",
    "\n",
    "from experiments.util.extract_data import ns2s, median_values, extract_data"
   ]
  },
  {
   "cell_type": "code",
   "execution_count": 2,
   "outputs": [],
   "source": [
    "def compare_state_dicts(path1, path2):\n",
    "    dict1 = torch.load(path1)\n",
    "    dict2 = torch.load(path2)\n",
    "    return state_dict_equal(dict1, dict2)"
   ],
   "metadata": {
    "collapsed": false,
    "pycharm": {
     "name": "#%%\n"
    }
   }
  },
  {
   "cell_type": "code",
   "execution_count": 3,
   "outputs": [
    {
     "name": "stdout",
     "output_type": "stream",
     "text": [
      "compare runs with different number of workers\n",
      "0 and 2 workers\n",
      "init model\n",
      "True\n",
      "before training\n",
      "True\n",
      "after 1 epoch\n",
      "False\n",
      "after 2 epochs\n",
      "False\n"
     ]
    }
   ],
   "source": [
    "print('compare runs with different number of workers')\n",
    "print('0 and 2 workers')\n",
    "\n",
    "print('init model')\n",
    "print(compare_state_dicts(\n",
    "    './workers-0-run-1/init-model.pt',\n",
    "    './workers-2-run-1/init-model.pt'))\n",
    "print('before training')\n",
    "print(compare_state_dicts(\n",
    "    './workers-0-run-1/model_m-mobilenet_e-0_d-imagenet_val.pt',\n",
    "    './workers-2-run-1/model_m-mobilenet_e-0_d-imagenet_val.pt'))\n",
    "print('after 1 epoch')\n",
    "print(compare_state_dicts(\n",
    "    './workers-0-run-1/model_m-mobilenet_e-1_d-imagenet_val.pt',\n",
    "    './workers-2-run-1/model_m-mobilenet_e-1_d-imagenet_val.pt'))\n",
    "print('after 2 epochs')\n",
    "print(compare_state_dicts(\n",
    "    './workers-0-run-1/model_m-mobilenet_e-2_d-imagenet_val.pt',\n",
    "    './workers-2-run-1/model_m-mobilenet_e-2_d-imagenet_val.pt'))"
   ],
   "metadata": {
    "collapsed": false,
    "pycharm": {
     "name": "#%%\n"
    }
   }
  },
  {
   "cell_type": "code",
   "execution_count": 4,
   "outputs": [
    {
     "name": "stdout",
     "output_type": "stream",
     "text": [
      "compare runs with different number of workers\n",
      "0 and 5 workers\n",
      "init model\n",
      "True\n",
      "before training\n",
      "True\n",
      "after 1 epoch\n",
      "False\n",
      "after 2 epochs\n",
      "False\n"
     ]
    }
   ],
   "source": [
    "print('compare runs with different number of workers')\n",
    "print('0 and 5 workers')\n",
    "\n",
    "print('init model')\n",
    "print(compare_state_dicts(\n",
    "    './workers-0-run-1/init-model.pt',\n",
    "    './workers-5-run-1/init-model.pt'))\n",
    "print('before training')\n",
    "print(compare_state_dicts(\n",
    "    './workers-0-run-1/model_m-mobilenet_e-0_d-imagenet_val.pt',\n",
    "    './workers-5-run-1/model_m-mobilenet_e-0_d-imagenet_val.pt'))\n",
    "print('after 1 epoch')\n",
    "print(compare_state_dicts(\n",
    "    './workers-0-run-1/model_m-mobilenet_e-1_d-imagenet_val.pt',\n",
    "    './workers-5-run-1/model_m-mobilenet_e-1_d-imagenet_val.pt'))\n",
    "print('after 2 epochs')\n",
    "print(compare_state_dicts(\n",
    "    './workers-0-run-1/model_m-mobilenet_e-2_d-imagenet_val.pt',\n",
    "    './workers-5-run-1/model_m-mobilenet_e-2_d-imagenet_val.pt'))"
   ],
   "metadata": {
    "collapsed": false,
    "pycharm": {
     "name": "#%%\n"
    }
   }
  },
  {
   "cell_type": "code",
   "execution_count": 5,
   "outputs": [
    {
     "name": "stdout",
     "output_type": "stream",
     "text": [
      "compare runs with same number of workers\n",
      "0 workers\n",
      "init model\n",
      "True\n",
      "before training\n",
      "True\n",
      "after 1 epoch\n",
      "True\n",
      "after 2 epochs\n",
      "True\n"
     ]
    }
   ],
   "source": [
    "print('compare runs with same number of workers')\n",
    "print('0 workers')\n",
    "\n",
    "print('init model')\n",
    "print(compare_state_dicts(\n",
    "    './workers-0-run-1/init-model.pt',\n",
    "    './workers-0-run-2/init-model.pt'))\n",
    "print('before training')\n",
    "print(compare_state_dicts(\n",
    "    './workers-0-run-1/model_m-mobilenet_e-0_d-imagenet_val.pt',\n",
    "    './workers-0-run-2/model_m-mobilenet_e-0_d-imagenet_val.pt'))\n",
    "print('after 1 epoch')\n",
    "print(compare_state_dicts(\n",
    "    './workers-0-run-1/model_m-mobilenet_e-1_d-imagenet_val.pt',\n",
    "    './workers-0-run-2/model_m-mobilenet_e-1_d-imagenet_val.pt'))\n",
    "print('after 2 epochs')\n",
    "print(compare_state_dicts(\n",
    "    './workers-0-run-1/model_m-mobilenet_e-2_d-imagenet_val.pt',\n",
    "    './workers-0-run-2/model_m-mobilenet_e-2_d-imagenet_val.pt'))"
   ],
   "metadata": {
    "collapsed": false,
    "pycharm": {
     "name": "#%%\n"
    }
   }
  },
  {
   "cell_type": "code",
   "execution_count": 6,
   "outputs": [
    {
     "name": "stdout",
     "output_type": "stream",
     "text": [
      "compare runs with same number of workers\n",
      "2 workers\n",
      "init model\n",
      "True\n",
      "before training\n",
      "True\n",
      "after 1 epoch\n",
      "True\n",
      "after 2 epochs\n",
      "True\n"
     ]
    }
   ],
   "source": [
    "print('compare runs with same number of workers')\n",
    "print('2 workers')\n",
    "\n",
    "print('init model')\n",
    "print(compare_state_dicts(\n",
    "    './workers-2-run-1/init-model.pt',\n",
    "    './workers-2-run-2/init-model.pt'))\n",
    "print('before training')\n",
    "print(compare_state_dicts(\n",
    "    './workers-2-run-1/model_m-mobilenet_e-0_d-imagenet_val.pt',\n",
    "    './workers-2-run-2/model_m-mobilenet_e-0_d-imagenet_val.pt'))\n",
    "print('after 1 epoch')\n",
    "print(compare_state_dicts(\n",
    "    './workers-2-run-1/model_m-mobilenet_e-1_d-imagenet_val.pt',\n",
    "    './workers-2-run-2/model_m-mobilenet_e-1_d-imagenet_val.pt'))\n",
    "print('after 2 epochs')\n",
    "print(compare_state_dicts(\n",
    "    './workers-2-run-1/model_m-mobilenet_e-2_d-imagenet_val.pt',\n",
    "    './workers-2-run-2/model_m-mobilenet_e-2_d-imagenet_val.pt'))\n"
   ],
   "metadata": {
    "collapsed": false,
    "pycharm": {
     "name": "#%%\n"
    }
   }
  },
  {
   "cell_type": "code",
   "execution_count": 7,
   "outputs": [
    {
     "name": "stdout",
     "output_type": "stream",
     "text": [
      "compare runs with same number of workers\n",
      "5 workers\n",
      "init model\n",
      "True\n",
      "before training\n",
      "True\n",
      "after 1 epoch\n",
      "True\n",
      "after 2 epochs\n",
      "True\n"
     ]
    }
   ],
   "source": [
    "print('compare runs with same number of workers')\n",
    "print('5 workers')\n",
    "\n",
    "print('init model')\n",
    "print(compare_state_dicts(\n",
    "    './workers-5-run-1/init-model.pt',\n",
    "    './workers-5-run-2/init-model.pt'))\n",
    "print('before training')\n",
    "print(compare_state_dicts(\n",
    "    './workers-5-run-1/model_m-mobilenet_e-0_d-imagenet_val.pt',\n",
    "    './workers-5-run-2/model_m-mobilenet_e-0_d-imagenet_val.pt'))\n",
    "print('after 1 epoch')\n",
    "print(compare_state_dicts(\n",
    "    './workers-5-run-1/model_m-mobilenet_e-1_d-imagenet_val.pt',\n",
    "    './workers-5-run-2/model_m-mobilenet_e-1_d-imagenet_val.pt'))\n",
    "print('after 2 epochs')\n",
    "print(compare_state_dicts(\n",
    "    './workers-5-run-1/model_m-mobilenet_e-2_d-imagenet_val.pt',\n",
    "    './workers-5-run-2/model_m-mobilenet_e-2_d-imagenet_val.pt'))"
   ],
   "metadata": {
    "collapsed": false,
    "pycharm": {
     "name": "#%%\n"
    }
   }
  },
  {
   "cell_type": "code",
   "execution_count": 8,
   "outputs": [
    {
     "name": "stdout",
     "output_type": "stream",
     "text": [
      "0 workers, run 1, load_data_median: \t0.5438315\n",
      "0 workers, run 2, load_data_median: \t0.5335095000000001\n",
      "\n",
      "2 workers, run 1, load_data_median: \t0.0028355000000000003\n",
      "2 workers, run 2, load_data_median: \t0.0027570000000000003\n",
      "\n",
      "5 workers, run 1, load_data_median: \t0.002068\n",
      "5 workers, run 2, load_data_median: \t0.0022470000000000003\n"
     ]
    }
   ],
   "source": [
    "    zero_workers_1 = './workers-0-run-1/out.txt'\n",
    "zero_workers_median_1 = list(map(ns2s, median_values(extract_data(zero_workers_1))))\n",
    "zero_workers_2 = './workers-0-run-2/out.txt'\n",
    "zero_workers_median_2 = list(map(ns2s, median_values(extract_data(zero_workers_2))))\n",
    "\n",
    "two_workers_1 = './workers-2-run-1/out.txt'\n",
    "two_workers_median_1 = list(map(ns2s, median_values(extract_data(two_workers_1))))\n",
    "two_workers_2 = './workers-2-run-2/out.txt'\n",
    "two_workers_median_2 = list(map(ns2s, median_values(extract_data(two_workers_2))))\n",
    "\n",
    "five_workers_1 = './workers-5-run-1/out.txt'\n",
    "five_workers_median_1 = list(map(ns2s, median_values(extract_data(five_workers_1))))\n",
    "five_workers_2 = './workers-5-run-2/out.txt'\n",
    "five_workers_median_2 = list(map(ns2s, median_values(extract_data(five_workers_2))))\n",
    "\n",
    "print('0 workers, run 1, load_data_median: \\t{}'.format(zero_workers_median_1[1]))\n",
    "print('0 workers, run 2, load_data_median: \\t{}'.format(zero_workers_median_2[1]))\n",
    "print()\n",
    "print('2 workers, run 1, load_data_median: \\t{}'.format(two_workers_median_1[1]))\n",
    "print('2 workers, run 2, load_data_median: \\t{}'.format(two_workers_median_2[1]))\n",
    "print()\n",
    "print('5 workers, run 1, load_data_median: \\t{}'.format(five_workers_median_1[1]))\n",
    "print('5 workers, run 2, load_data_median: \\t{}'.format(five_workers_median_2[1]))\n"
   ],
   "metadata": {
    "collapsed": false,
    "pycharm": {
     "name": "#%%\n"
    }
   }
  },
  {
   "cell_type": "code",
   "execution_count": 8,
   "outputs": [],
   "source": [],
   "metadata": {
    "collapsed": false,
    "pycharm": {
     "name": "#%%\n"
    }
   }
  }
 ],
 "metadata": {
  "kernelspec": {
   "display_name": "Python 3",
   "language": "python",
   "name": "python3"
  },
  "language_info": {
   "codemirror_mode": {
    "name": "ipython",
    "version": 2
   },
   "file_extension": ".py",
   "mimetype": "text/x-python",
   "name": "python",
   "nbconvert_exporter": "python",
   "pygments_lexer": "ipython2",
   "version": "2.7.6"
  }
 },
 "nbformat": 4,
 "nbformat_minor": 0
}