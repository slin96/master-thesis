{
 "cells": [
  {
   "cell_type": "code",
   "execution_count": 1,
   "metadata": {
    "collapsed": true
   },
   "outputs": [],
   "source": [
    "import torch\n",
    "from mmlib.equal import state_dict_equal"
   ]
  },
  {
   "cell_type": "code",
   "execution_count": 2,
   "outputs": [],
   "source": [
    "def compare_state_dicts(path1, path2):\n",
    "    dict1 = torch.load(path1)\n",
    "    dict2 = torch.load(path2)\n",
    "    return state_dict_equal(dict1, dict2)"
   ],
   "metadata": {
    "collapsed": false,
    "pycharm": {
     "name": "#%%\n"
    }
   }
  },
  {
   "cell_type": "code",
   "execution_count": 3,
   "outputs": [
    {
     "name": "stdout",
     "output_type": "stream",
     "text": [
      "compare runs with same number of workers\n",
      "0 workers\n",
      "init model\n",
      "True\n",
      "before training\n",
      "True\n",
      "after 1 epoch\n",
      "True\n",
      "after 2 epochs\n",
      "True\n"
     ]
    }
   ],
   "source": [
    "print('compare runs with same number of workers')\n",
    "print('0 workers')\n",
    "\n",
    "print('init model')\n",
    "print(compare_state_dicts(\n",
    "    './workers-0-run-1/init-model.pt',\n",
    "    './workers-0-run-2/init-model.pt'))\n",
    "print('before training')\n",
    "print(compare_state_dicts(\n",
    "    './workers-0-run-1/model_m-mobilenet_e-0_d-imagenet_val.pt',\n",
    "    './workers-0-run-2/model_m-mobilenet_e-0_d-imagenet_val.pt'))\n",
    "print('after 1 epoch')\n",
    "print(compare_state_dicts(\n",
    "    './workers-0-run-1/model_m-mobilenet_e-1_d-imagenet_val.pt',\n",
    "    './workers-0-run-2/model_m-mobilenet_e-1_d-imagenet_val.pt'))\n",
    "print('after 2 epochs')\n",
    "print(compare_state_dicts(\n",
    "    './workers-0-run-1/model_m-mobilenet_e-2_d-imagenet_val.pt',\n",
    "    './workers-0-run-2/model_m-mobilenet_e-2_d-imagenet_val.pt'))"
   ],
   "metadata": {
    "collapsed": false,
    "pycharm": {
     "name": "#%%\n"
    }
   }
  },
  {
   "cell_type": "code",
   "execution_count": 4,
   "outputs": [
    {
     "name": "stdout",
     "output_type": "stream",
     "text": [
      "compare runs with different number of workers\n",
      "0 and 5 workers\n",
      "init model\n",
      "True\n",
      "before training\n",
      "True\n",
      "after 1 epoch\n",
      "False\n",
      "after 2 epochs\n",
      "False\n"
     ]
    }
   ],
   "source": [
    "print('compare runs with different number of workers')\n",
    "print('0 and 5 workers')\n",
    "\n",
    "print('init model')\n",
    "print(compare_state_dicts(\n",
    "    './workers-0-run-1/init-model.pt',\n",
    "    './workers-5-run-1/init-model.pt'))\n",
    "print('before training')\n",
    "print(compare_state_dicts(\n",
    "    './workers-0-run-1/model_m-mobilenet_e-0_d-imagenet_val.pt',\n",
    "    './workers-5-run-1/model_m-mobilenet_e-0_d-imagenet_val.pt'))\n",
    "print('after 1 epoch')\n",
    "print(compare_state_dicts(\n",
    "    './workers-0-run-1/model_m-mobilenet_e-1_d-imagenet_val.pt',\n",
    "    './workers-5-run-1/model_m-mobilenet_e-1_d-imagenet_val.pt'))\n",
    "print('after 2 epochs')\n",
    "print(compare_state_dicts(\n",
    "    './workers-0-run-1/model_m-mobilenet_e-2_d-imagenet_val.pt',\n",
    "    './workers-5-run-1/model_m-mobilenet_e-2_d-imagenet_val.pt'))"
   ],
   "metadata": {
    "collapsed": false,
    "pycharm": {
     "name": "#%%\n"
    }
   }
  },
  {
   "cell_type": "code",
   "execution_count": 5,
   "outputs": [
    {
     "name": "stdout",
     "output_type": "stream",
     "text": [
      "compare runs with same number of workers\n",
      "5 workers\n",
      "init model\n",
      "True\n",
      "before training\n",
      "True\n",
      "after 1 epoch\n",
      "True\n",
      "after 2 epochs\n",
      "True\n"
     ]
    }
   ],
   "source": [
    "print('compare runs with same number of workers')\n",
    "print('5 workers')\n",
    "\n",
    "print('init model')\n",
    "print(compare_state_dicts(\n",
    "    './workers-5-run-1/init-model.pt',\n",
    "    './workers-5-run-2/init-model.pt'))\n",
    "print('before training')\n",
    "print(compare_state_dicts(\n",
    "    './workers-5-run-1/model_m-mobilenet_e-0_d-imagenet_val.pt',\n",
    "    './workers-5-run-2/model_m-mobilenet_e-0_d-imagenet_val.pt'))\n",
    "print('after 1 epoch')\n",
    "print(compare_state_dicts(\n",
    "    './workers-5-run-1/model_m-mobilenet_e-1_d-imagenet_val.pt',\n",
    "    './workers-5-run-2/model_m-mobilenet_e-1_d-imagenet_val.pt'))\n",
    "print('after 2 epochs')\n",
    "print(compare_state_dicts(\n",
    "    './workers-5-run-1/model_m-mobilenet_e-2_d-imagenet_val.pt',\n",
    "    './workers-5-run-2/model_m-mobilenet_e-2_d-imagenet_val.pt'))"
   ],
   "metadata": {
    "collapsed": false,
    "pycharm": {
     "name": "#%%\n"
    }
   }
  },
  {
   "cell_type": "code",
   "execution_count": 5,
   "outputs": [],
   "source": [],
   "metadata": {
    "collapsed": false,
    "pycharm": {
     "name": "#%%\n"
    }
   }
  }
 ],
 "metadata": {
  "kernelspec": {
   "display_name": "Python 3",
   "language": "python",
   "name": "python3"
  },
  "language_info": {
   "codemirror_mode": {
    "name": "ipython",
    "version": 2
   },
   "file_extension": ".py",
   "mimetype": "text/x-python",
   "name": "python",
   "nbconvert_exporter": "python",
   "pygments_lexer": "ipython2",
   "version": "2.7.6"
  }
 },
 "nbformat": 4,
 "nbformat_minor": 0
}