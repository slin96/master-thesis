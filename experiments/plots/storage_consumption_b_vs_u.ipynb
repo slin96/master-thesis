{
 "cells": [
  {
   "cell_type": "code",
   "execution_count": 22,
   "metadata": {
    "collapsed": true
   },
   "outputs": [],
   "source": [
    "import copy\n",
    "\n",
    "from experiments.plots.util import use_case_ids, storage_info, total_storage_consumption"
   ]
  },
  {
   "cell_type": "code",
   "execution_count": 23,
   "outputs": [],
   "source": [
    "# NODE_BASELINE = '/Users/nils/Studium/master-thesis/repo/tmp/res/node-baseline-out.txt'\n",
    "SERVER_BASELINE = '/Users/nils/Studium/master-thesis/repo/tmp/res/server-baseline-out.txt'\n",
    "\n",
    "# NODE_UPDATE = '/Users/nils/Studium/master-thesis/repo/tmp/res/node-update-out.txt'\n",
    "SERVER_UPDATE = '/Users/nils/Studium/master-thesis/repo/tmp/res/server-update-out.txt'\n",
    "\n",
    "# NODE_IMPROVED = '/Users/nils/Studium/master-thesis/repo/tmp/res/node-update-imporved-out.txt'\n",
    "SERVER_IMPROVED = '/Users/nils/Studium/master-thesis/repo/tmp/res/server-update-improved-out.txt'\n",
    "\n",
    "ALL_LOGS = [SERVER_BASELINE, SERVER_UPDATE, SERVER_IMPROVED, '/Users/nils/Downloads/evaluation/server/experiments/evaluation_flow/server-update-out.txt']\n",
    "\n"
   ],
   "metadata": {
    "collapsed": false,
    "pycharm": {
     "name": "#%%\n"
    }
   }
  },
  {
   "cell_type": "code",
   "execution_count": 24,
   "outputs": [
    {
     "name": "stdout",
     "output_type": "stream",
     "text": [
      "[{'U_1': '60c47f7eebc4d32e197fdb61', 'U_3_1_1': '60c47f97e1c1e6c06367427f', 'U_3_1_2': '60c47f9ae1c1e6c063674284', 'U_3_1_3': '60c47f9ce1c1e6c063674289', 'U_2': '60c47f9febc4d32e197fdb66', 'U_3_2_1': '60c47fa4e1c1e6c06367428e', 'U_3_2_2': '60c47fa7e1c1e6c063674293', 'U_3_2_3': '60c47faae1c1e6c063674298'}, {'U_1': '60c480ca123dafff80ec5099', 'U_3_1_1': '60c480e6fa6367b1c21f4056', 'U_3_1_2': '60c480ebfa6367b1c21f4059', 'U_3_1_3': '60c480f0fa6367b1c21f405c', 'U_2': '60c480f5123dafff80ec509e', 'U_3_2_1': '60c480fdfa6367b1c21f405f', 'U_3_2_2': '60c48102fa6367b1c21f4062', 'U_3_2_3': '60c48108fa6367b1c21f4065'}, {'U_1': '60c48204410dd6fc4d9fa992', 'U_3_1_1': '60c4821d5643968ec9a658ca', 'U_3_1_2': '60c4821f5643968ec9a658cd', 'U_3_1_3': '60c482225643968ec9a658d0', 'U_2': '60c48225410dd6fc4d9fa997', 'U_3_2_1': '60c4822a5643968ec9a658d3', 'U_3_2_2': '60c4822d5643968ec9a658d6', 'U_3_2_3': '60c4822f5643968ec9a658d9'}, {'U_1': '60c4898d9b37816f78d745db', 'U_3_1_1': '60c489af8048d842eb4a3daf', 'U_3_1_2': '60c489b98048d842eb4a3db2', 'U_3_1_3': '60c489c48048d842eb4a3db5', 'U_2': '60c489ce9b37816f78d745e0', 'U_3_2_1': '60c489de8048d842eb4a3db8', 'U_3_2_2': '60c489e98048d842eb4a3dbb', 'U_3_2_3': '60c489f58048d842eb4a3dbe'}]\n"
     ]
    }
   ],
   "source": [
    "use_case_id_dicts = [use_case_ids(log_file) for log_file in ALL_LOGS]\n",
    "\n",
    "print(use_case_id_dicts)"
   ],
   "metadata": {
    "collapsed": false,
    "pycharm": {
     "name": "#%%\n"
    }
   }
  },
  {
   "cell_type": "code",
   "execution_count": 25,
   "outputs": [],
   "source": [
    "storage_infos = []\n",
    "for id_dict, f in zip(use_case_id_dicts, ALL_LOGS):\n",
    "    storage_info_dict = {}\n",
    "    for k, v in id_dict.items():\n",
    "        storage_info_dict[k] = storage_info(f, v)\n",
    "    storage_infos.append(storage_info_dict)"
   ],
   "metadata": {
    "collapsed": false,
    "pycharm": {
     "name": "#%%\n"
    }
   }
  },
  {
   "cell_type": "code",
   "execution_count": 26,
   "outputs": [
    {
     "name": "stdout",
     "output_type": "stream",
     "text": [
      "[{'U_1': 14346442, 'U_3_1_1': 14346485, 'U_3_1_2': 14346485, 'U_3_1_3': 14346485, 'U_2': 14346485, 'U_3_2_1': 14346485, 'U_3_2_2': 14346485, 'U_3_2_3': 14346485}, {'U_1': 14346442, 'U_3_1_1': 5202610, 'U_3_1_2': 5202610, 'U_3_1_3': 5202610, 'U_2': 5202610, 'U_3_2_1': 5202610, 'U_3_2_2': 5202610, 'U_3_2_3': 5202610}, {'U_1': 14346442, 'U_3_1_1': 5195058, 'U_3_1_2': 5195058, 'U_3_1_3': 5195058, 'U_2': 5195058, 'U_3_2_1': 5195058, 'U_3_2_2': 5195058, 'U_3_2_3': 5195058}, {'U_1': 241903279, 'U_3_1_1': 8412902, 'U_3_1_2': 8412902, 'U_3_1_3': 8412902, 'U_2': 8412902, 'U_3_2_1': 8412902, 'U_3_2_2': 8412902, 'U_3_2_3': 8412902}]\n"
     ]
    }
   ],
   "source": [
    "total_storage_consumptions = copy.deepcopy(storage_infos)\n",
    "for st_info in total_storage_consumptions:\n",
    "    for k, v in st_info.items():\n",
    "        st_info[k] = total_storage_consumption(v)\n",
    "\n",
    "print(total_storage_consumptions)"
   ],
   "metadata": {
    "collapsed": false,
    "pycharm": {
     "name": "#%%\n"
    }
   }
  },
  {
   "cell_type": "code",
   "execution_count": 26,
   "outputs": [],
   "source": [],
   "metadata": {
    "collapsed": false,
    "pycharm": {
     "name": "#%%\n"
    }
   }
  }
 ],
 "metadata": {
  "kernelspec": {
   "display_name": "Python 3",
   "language": "python",
   "name": "python3"
  },
  "language_info": {
   "codemirror_mode": {
    "name": "ipython",
    "version": 2
   },
   "file_extension": ".py",
   "mimetype": "text/x-python",
   "name": "python",
   "nbconvert_exporter": "python",
   "pygments_lexer": "ipython2",
   "version": "2.7.6"
  }
 },
 "nbformat": 4,
 "nbformat_minor": 0
}