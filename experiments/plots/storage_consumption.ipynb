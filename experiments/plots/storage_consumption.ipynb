{
 "cells": [
  {
   "cell_type": "code",
   "execution_count": 8,
   "metadata": {
    "collapsed": true
   },
   "outputs": [],
   "source": [
    "from matplotlib import pyplot as plt\n",
    "\n",
    "from experiments.plots.util import storage_info, total_storage_consumption, use_case1_id"
   ]
  },
  {
   "cell_type": "code",
   "execution_count": 2,
   "outputs": [],
   "source": [
    "BASELINE_MOBILENET_SERVER_LOG = '/Users/nils/Desktop/tmp/flow-test/server/experiments/evaluation_flow/out.txt'\n",
    "BASELINE_GOOGLENET_SERVER_LOG = '/Users/nils/Desktop/tmp/flow-test/server/experiments/evaluation_flow/out.txt'\n",
    "BASELINE_RESNET18_SERVER_LOG = '/Users/nils/Desktop/tmp/flow-test/server/experiments/evaluation_flow/out.txt'\n",
    "BASELINE_RESNET50_SERVER_LOG = '/Users/nils/Desktop/tmp/flow-test/server/experiments/evaluation_flow/out.txt'\n",
    "BASELINE_RESNET152_SERVER_LOG = '/Users/nils/Desktop/tmp/flow-test/server/experiments/evaluation_flow/out.txt'\n",
    "\n",
    "MODEL_NAMES = ['mobilenet', 'googlenet', 'resnet18', 'resnet50', 'resnet152']\n",
    "BASELINE_SERVER_LOGS = [BASELINE_MOBILENET_SERVER_LOG, BASELINE_GOOGLENET_SERVER_LOG, BASELINE_RESNET18_SERVER_LOG,\n",
    "                        BASELINE_RESNET50_SERVER_LOG, BASELINE_RESNET152_SERVER_LOG]"
   ],
   "metadata": {
    "collapsed": false,
    "pycharm": {
     "name": "#%%\n"
    }
   }
  },
  {
   "cell_type": "code",
   "execution_count": 4,
   "outputs": [],
   "source": [
    "use_case1_ids = [use_case1_id(f) for f in BASELINE_SERVER_LOGS]\n",
    "storage_infos = [storage_info(i, f) for f, i in zip(use_case1_ids, BASELINE_SERVER_LOGS)]"
   ],
   "metadata": {
    "collapsed": false,
    "pycharm": {
     "name": "#%%\n"
    }
   }
  },
  {
   "cell_type": "code",
   "execution_count": 6,
   "outputs": [
    {
     "name": "stdout",
     "output_type": "stream",
     "text": [
      "[14346975, 14346975, 14346975, 14346975, 14346975]\n"
     ]
    }
   ],
   "source": [
    "total_storage_consumptions = [total_storage_consumption(i) for i in storage_infos]\n",
    "\n",
    "print(total_storage_consumptions)"
   ],
   "metadata": {
    "collapsed": false,
    "pycharm": {
     "name": "#%%\n"
    }
   }
  },
  {
   "cell_type": "code",
   "execution_count": 10,
   "outputs": [
    {
     "data": {
      "text/plain": "<Figure size 432x288 with 1 Axes>",
      "image/png": "[encoded data removed]"
     },
     "metadata": {
      "needs_background": "light"
     },
     "output_type": "display_data"
    }
   ],
   "source": [
    "# for plot convert to MB\n",
    "mbs = [c*10**-6 for c in total_storage_consumptions]\n",
    "\n",
    "fig = plt.figure()\n",
    "ax = fig.add_axes([0,0,1,1])\n",
    "ax.bar(MODEL_NAMES,mbs)\n",
    "plt.show()\n"
   ],
   "metadata": {
    "collapsed": false,
    "pycharm": {
     "name": "#%%\n"
    }
   }
  },
  {
   "cell_type": "code",
   "execution_count": null,
   "outputs": [],
   "source": [],
   "metadata": {
    "collapsed": false,
    "pycharm": {
     "name": "#%%\n"
    }
   }
  }
 ],
 "metadata": {
  "kernelspec": {
   "display_name": "Python 3",
   "language": "python",
   "name": "python3"
  },
  "language_info": {
   "codemirror_mode": {
    "name": "ipython",
    "version": 2
   },
   "file_extension": ".py",
   "mimetype": "text/x-python",
   "name": "python",
   "nbconvert_exporter": "python",
   "pygments_lexer": "ipython2",
   "version": "2.7.6"
  }
 },
 "nbformat": 4,
 "nbformat_minor": 0
}