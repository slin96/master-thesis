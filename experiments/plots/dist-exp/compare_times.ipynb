{
 "cells": [
  {
   "cell_type": "code",
   "execution_count": 1,
   "outputs": [],
   "source": [
    "from experiments.plots.util import *"
   ],
   "metadata": {
    "collapsed": false,
    "pycharm": {
     "name": "#%%\n"
    }
   }
  },
  {
   "cell_type": "code",
   "execution_count": 2,
   "outputs": [],
   "source": [
    "NODES = 5\n",
    "FILTER_PROV = False\n",
    "PROV_ONLY = True\n",
    "\n",
    "assert not (FILTER_PROV and PROV_ONLY)\n",
    "\n",
    "if NODES == 1:\n",
    "    ROOT_LOG_DIR = f'/Users/nils/downloads/normal'\n",
    "else:\n",
    "    ROOT_LOG_DIR = f'/Users/nils/downloads/dist-{NODES}'\n",
    "\n",
    "VERSION = 'version'\n",
    "FINE_TUNED = 'fine-tuned'\n",
    "OUTDOOR = 'outdoor'\n",
    "FOOD = 'food'\n",
    "\n",
    "\n",
    "def get_times():\n",
    "    # %%\n",
    "    # get all file sin the directory\n",
    "    all_files = all_files_in_dir(ROOT_LOG_DIR)\n",
    "    if FILTER_PROV:\n",
    "        all_files = [f for f in all_files if not 'provenance' in f]\n",
    "    elif PROV_ONLY:\n",
    "        all_files = [f for f in all_files if 'provenance' in f]\n",
    "    node_server_files = [f for f in all_files if 'server' in f or 'node' in f]\n",
    "    # for all files extract the metadata (e.g. what model and dataset is used)\n",
    "    U_IDS = 'u_ids'\n",
    "    files_and_meta = [(extract_file_meta(f), f) for f in node_server_files]\n",
    "    # add a mapping: use_case -> model id\n",
    "    files_and_meta = [({**f[0], **{U_IDS: use_case_ids(f[1])}}, f[1]) for f in files_and_meta]\n",
    "    # add the parsed events\n",
    "    files_and_meta = [({**f[0], **{EVENTS: parse_events(f[1])}}, f[1]) for f in files_and_meta]\n",
    "    # %%\n",
    "    valid_joined = join_server_and_node_meta(files_and_meta)\n",
    "    # %%\n",
    "    times = extract_times(valid_joined, num_nodes=NODES, high_level_only=True)\n",
    "\n",
    "    return times"
   ],
   "metadata": {
    "collapsed": false,
    "pycharm": {
     "name": "#%%\n"
    }
   }
  },
  {
   "cell_type": "code",
   "execution_count": 3,
   "outputs": [],
   "source": [
    "times = get_times()"
   ],
   "metadata": {
    "collapsed": false,
    "pycharm": {
     "name": "#%%\n"
    }
   }
  },
  {
   "cell_type": "code",
   "execution_count": 6,
   "outputs": [],
   "source": [
    "def to_s(values):\n",
    "    return np.array(list(values)) * 10**-9\n",
    "\n",
    "def plot_compare_times(baseline, param_update, provenance, save_path=None, ignore_use_cases=[], y_min_max=None):\n",
    "    print('B: {}'.format(baseline))\n",
    "    print('P_U: {}'.format(param_update))\n",
    "    print('M_Prov: {}'.format(provenance))\n",
    "    if ignore_use_cases:\n",
    "        for u in ignore_use_cases:\n",
    "            if u in baseline:\n",
    "                del baseline[u]\n",
    "            if u in param_update:\n",
    "                del param_update[u]\n",
    "            if u in provenance:\n",
    "                del provenance[u]\n",
    "\n",
    "    matplotlib.rcParams.update({'font.size': 24})\n",
    "    fig = plt.figure()\n",
    "    fig.set_size_inches(8, 6)\n",
    "    x_labels = [k.replace('_', '-') for k in baseline.keys()]\n",
    "    ind = np.arange(len(x_labels))  # the x locations for the groups\n",
    "    width = 0.3  # the width of the bars\n",
    "    fig = plt.figure()\n",
    "    ax = fig.add_subplot(111)\n",
    "    rects1 = ax.bar(ind, to_s(baseline.values()), width, color=A_RED)\n",
    "    rects2 = ax.bar(ind + width, to_s(param_update.values()), width, color=A_YELLOW)\n",
    "    rects3 = ax.bar(ind + 2 * width, to_s(provenance.values()), width, color=A_BLUE)\n",
    "    ax.set_ylabel('Time in seconds')\n",
    "    ax.set_xticks(ind + width)\n",
    "    ax.set_xticklabels(x_labels)\n",
    "    # ax.legend((rects1[0], rects2[0], rects3[0]), ('B', 'U_p', 'M_prov'),\n",
    "    #           bbox_to_anchor=(0, 1.02, 1, 0.2), loc=\"lower left\", mode=\"expand\", borderaxespad=0, ncol=3)\n",
    "    ax.set_xlabel('Use case')\n",
    "\n",
    "    plt.xticks(rotation=90)\n",
    "\n",
    "    if y_min_max:\n",
    "        axes = plt.gca()\n",
    "        axes.set_ylim(y_min_max)\n",
    "\n",
    "    if save_path:\n",
    "        fig.savefig(save_path, bbox_inches='tight')\n",
    "        fig.savefig(save_path + '.pdf', bbox_inches='tight')\n",
    "\n",
    "    plt.show()"
   ],
   "metadata": {
    "collapsed": false,
    "pycharm": {
     "name": "#%%\n"
    }
   }
  },
  {
   "cell_type": "code",
   "execution_count": 7,
   "outputs": [
    {
     "name": "stdout",
     "output_type": "stream",
     "text": [
      "B: {'U_1': 118408092.0, 'U_2': 110519238.0, 'U_3_1_1': 116922156.0, 'U_3_1_2': 104871928.0, 'U_3_1_3': 110656217.0, 'U_3_1_4': 108543879.0, 'U_3_2_1': 113886749.0, 'U_3_2_2': 108073548.0, 'U_3_2_3': 110281575.0, 'U_3_2_4': 108391559.0}\n",
      "P_U: {'U_1': 124732258.5, 'U_2': 113656050.0, 'U_3_1_1': 135245867.0, 'U_3_1_2': 93971896.5, 'U_3_1_3': 99474641.5, 'U_3_1_4': 96403789.0, 'U_3_2_1': 108170054.5, 'U_3_2_2': 109227954.5, 'U_3_2_3': 100610623.0, 'U_3_2_4': 98900517.5}\n",
      "M_Prov: {'U_1': 104217108.0, 'U_2': 919835067.0, 'U_3_1_1': 461571157.5, 'U_3_1_2': 445156053.5, 'U_3_1_3': 410317856.0, 'U_3_1_4': 438460266.5, 'U_3_2_1': 480562904.0, 'U_3_2_2': 418619337.0, 'U_3_2_3': 407410879.5, 'U_3_2_4': 414682744.0}\n"
     ]
    },
    {
     "data": {
      "text/plain": "<Figure size 576x432 with 0 Axes>"
     },
     "metadata": {},
     "output_type": "display_data"
    },
    {
     "data": {
      "text/plain": "<Figure size 432x288 with 1 Axes>",
      "image/png": "[encoded data removed]"
     },
     "metadata": {
      "needs_background": "light"
     },
     "output_type": "display_data"
    }
   ],
   "source": [],
   "metadata": {
    "collapsed": false,
    "pycharm": {
     "name": "#%%"
    }
   }
  }
 ],
 "metadata": {
  "kernelspec": {
   "display_name": "Python 3",
   "language": "python",
   "name": "python3"
  },
  "language_info": {
   "codemirror_mode": {
    "name": "ipython",
    "version": 2
   },
   "file_extension": ".py",
   "mimetype": "text/x-python",
   "name": "python",
   "nbconvert_exporter": "python",
   "pygments_lexer": "ipython2",
   "version": "2.7.6"
  }
 },
 "nbformat": 4,
 "nbformat_minor": 0
}