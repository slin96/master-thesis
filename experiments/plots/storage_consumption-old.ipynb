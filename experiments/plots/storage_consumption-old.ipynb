{
 "cells": [
  {
   "cell_type": "code",
   "execution_count": 1,
   "metadata": {
    "collapsed": true
   },
   "outputs": [],
   "source": [
    "import copy\n",
    "\n",
    "from matplotlib import pyplot as plt\n",
    "\n",
    "from experiments.plots.util import storage_info, total_storage_consumption, use_case_ids, \\\n",
    "    create_pie_chart_sizes_and_labels"
   ]
  },
  {
   "cell_type": "code",
   "execution_count": 2,
   "outputs": [],
   "source": [
    "BASELINE_MOBILENET_SERVER_LOG = '/Users/nils/Desktop/tmp/flow-test/server/experiments/evaluation_flow/out.txt'\n",
    "BASELINE_GOOGLENET_SERVER_LOG = '/Users/nils/Desktop/tmp/flow-test/server/experiments/evaluation_flow/out.txt'\n",
    "BASELINE_RESNET18_SERVER_LOG = '/Users/nils/Desktop/tmp/flow-test/server/experiments/evaluation_flow/out.txt'\n",
    "BASELINE_RESNET50_SERVER_LOG = '/Users/nils/Desktop/tmp/flow-test/server/experiments/evaluation_flow/out.txt'\n",
    "BASELINE_RESNET152_SERVER_LOG = '/Users/nils/Desktop/tmp/flow-test/server/experiments/evaluation_flow/out.txt'\n",
    "\n",
    "MODEL_NAMES = ['mobilenet', 'googlenet', 'resnet18', 'resnet50', 'resnet152']\n",
    "BASELINE_SERVER_LOGS = [BASELINE_MOBILENET_SERVER_LOG, BASELINE_GOOGLENET_SERVER_LOG, BASELINE_RESNET18_SERVER_LOG,\n",
    "                        BASELINE_RESNET50_SERVER_LOG, BASELINE_RESNET152_SERVER_LOG]"
   ],
   "metadata": {
    "collapsed": false,
    "pycharm": {
     "name": "#%%\n"
    }
   }
  },
  {
   "cell_type": "code",
   "execution_count": 3,
   "outputs": [
    {
     "name": "stdout",
     "output_type": "stream",
     "text": [
      "[{'U_1': '60be29e98536aacf9be2727c', 'U_3_1_1': '60be2a0025ab8997757a09ba', 'U_3_1_2': '60be2a0225ab8997757a09c9', 'U_2': '60be2a048536aacf9be27281', 'U_3_2_1': '60be2a0925ab8997757a09d8', 'U_3_2_2': '60be2a0b25ab8997757a09e7'}, {'U_1': '60be29e98536aacf9be2727c', 'U_3_1_1': '60be2a0025ab8997757a09ba', 'U_3_1_2': '60be2a0225ab8997757a09c9', 'U_2': '60be2a048536aacf9be27281', 'U_3_2_1': '60be2a0925ab8997757a09d8', 'U_3_2_2': '60be2a0b25ab8997757a09e7'}, {'U_1': '60be29e98536aacf9be2727c', 'U_3_1_1': '60be2a0025ab8997757a09ba', 'U_3_1_2': '60be2a0225ab8997757a09c9', 'U_2': '60be2a048536aacf9be27281', 'U_3_2_1': '60be2a0925ab8997757a09d8', 'U_3_2_2': '60be2a0b25ab8997757a09e7'}, {'U_1': '60be29e98536aacf9be2727c', 'U_3_1_1': '60be2a0025ab8997757a09ba', 'U_3_1_2': '60be2a0225ab8997757a09c9', 'U_2': '60be2a048536aacf9be27281', 'U_3_2_1': '60be2a0925ab8997757a09d8', 'U_3_2_2': '60be2a0b25ab8997757a09e7'}, {'U_1': '60be29e98536aacf9be2727c', 'U_3_1_1': '60be2a0025ab8997757a09ba', 'U_3_1_2': '60be2a0225ab8997757a09c9', 'U_2': '60be2a048536aacf9be27281', 'U_3_2_1': '60be2a0925ab8997757a09d8', 'U_3_2_2': '60be2a0b25ab8997757a09e7'}]\n"
     ]
    }
   ],
   "source": [
    "use_case_id_dicts = [use_case_ids(log_file) for log_file in BASELINE_SERVER_LOGS]\n",
    "\n",
    "print(use_case_id_dicts)"
   ],
   "metadata": {
    "collapsed": false,
    "pycharm": {
     "name": "#%%\n"
    }
   }
  },
  {
   "cell_type": "code",
   "execution_count": 4,
   "outputs": [
    {
     "name": "stdout",
     "output_type": "stream",
     "text": [
      "[{'U_1': {'metadata_size': 69827, 'recover_info': {'metadata_size': 223, 'environment': {'metadata_size': 3291}, 'model_code': 6959, 'parameters': 14266675}}, 'U_3_1_1': {'metadata_size': 69870, 'recover_info': {'metadata_size': 176, 'environment': {'metadata_size': 3291}, 'train_info': {'metadata_size': 231, 'train_service': {'metadata_size': 270, 'state_dict': {'data': {'metadata_size': 219, 'code_file': 3447}, 'dataloader': {'metadata_size': 268}, 'optimizer': {'metadata_size': 287, 'code_file': 374, 'state_file': 879}}}, 'wrapper_code': 2820}, 'dataset': {'metadata_size': 99, 'raw_data': 22336767}}}, 'U_3_1_2': {'metadata_size': 69870, 'recover_info': {'metadata_size': 176, 'environment': {'metadata_size': 3291}, 'train_info': {'metadata_size': 231, 'train_service': {'metadata_size': 270, 'state_dict': {'data': {'metadata_size': 219, 'code_file': 3447}, 'dataloader': {'metadata_size': 268}, 'optimizer': {'metadata_size': 287, 'code_file': 374, 'state_file': 879}}}, 'wrapper_code': 2820}, 'dataset': {'metadata_size': 99, 'raw_data': 22336767}}}, 'U_2': {'metadata_size': 69870, 'recover_info': {'metadata_size': 176, 'environment': {'metadata_size': 3291}, 'train_info': {'metadata_size': 231, 'train_service': {'metadata_size': 270, 'state_dict': {'data': {'metadata_size': 238, 'code_file': 564}, 'dataloader': {'metadata_size': 268}, 'optimizer': {'metadata_size': 287, 'code_file': 374, 'state_file': 879}}}, 'wrapper_code': 2820}, 'dataset': {'metadata_size': 99, 'raw_data': 11784017}}}, 'U_3_2_1': {'metadata_size': 69870, 'recover_info': {'metadata_size': 176, 'environment': {'metadata_size': 3291}, 'train_info': {'metadata_size': 231, 'train_service': {'metadata_size': 270, 'state_dict': {'data': {'metadata_size': 219, 'code_file': 3447}, 'dataloader': {'metadata_size': 268}, 'optimizer': {'metadata_size': 287, 'code_file': 374, 'state_file': 879}}}, 'wrapper_code': 2820}, 'dataset': {'metadata_size': 99, 'raw_data': 22336767}}}, 'U_3_2_2': {'metadata_size': 69870, 'recover_info': {'metadata_size': 176, 'environment': {'metadata_size': 3291}, 'train_info': {'metadata_size': 231, 'train_service': {'metadata_size': 270, 'state_dict': {'data': {'metadata_size': 219, 'code_file': 3447}, 'dataloader': {'metadata_size': 268}, 'optimizer': {'metadata_size': 287, 'code_file': 374, 'state_file': 879}}}, 'wrapper_code': 2820}, 'dataset': {'metadata_size': 99, 'raw_data': 22336767}}}}, {'U_1': {'metadata_size': 69827, 'recover_info': {'metadata_size': 223, 'environment': {'metadata_size': 3291}, 'model_code': 6959, 'parameters': 14266675}}, 'U_3_1_1': {'metadata_size': 69870, 'recover_info': {'metadata_size': 176, 'environment': {'metadata_size': 3291}, 'train_info': {'metadata_size': 231, 'train_service': {'metadata_size': 270, 'state_dict': {'data': {'metadata_size': 219, 'code_file': 3447}, 'dataloader': {'metadata_size': 268}, 'optimizer': {'metadata_size': 287, 'code_file': 374, 'state_file': 879}}}, 'wrapper_code': 2820}, 'dataset': {'metadata_size': 99, 'raw_data': 22336767}}}, 'U_3_1_2': {'metadata_size': 69870, 'recover_info': {'metadata_size': 176, 'environment': {'metadata_size': 3291}, 'train_info': {'metadata_size': 231, 'train_service': {'metadata_size': 270, 'state_dict': {'data': {'metadata_size': 219, 'code_file': 3447}, 'dataloader': {'metadata_size': 268}, 'optimizer': {'metadata_size': 287, 'code_file': 374, 'state_file': 879}}}, 'wrapper_code': 2820}, 'dataset': {'metadata_size': 99, 'raw_data': 22336767}}}, 'U_2': {'metadata_size': 69870, 'recover_info': {'metadata_size': 176, 'environment': {'metadata_size': 3291}, 'train_info': {'metadata_size': 231, 'train_service': {'metadata_size': 270, 'state_dict': {'data': {'metadata_size': 238, 'code_file': 564}, 'dataloader': {'metadata_size': 268}, 'optimizer': {'metadata_size': 287, 'code_file': 374, 'state_file': 879}}}, 'wrapper_code': 2820}, 'dataset': {'metadata_size': 99, 'raw_data': 11784017}}}, 'U_3_2_1': {'metadata_size': 69870, 'recover_info': {'metadata_size': 176, 'environment': {'metadata_size': 3291}, 'train_info': {'metadata_size': 231, 'train_service': {'metadata_size': 270, 'state_dict': {'data': {'metadata_size': 219, 'code_file': 3447}, 'dataloader': {'metadata_size': 268}, 'optimizer': {'metadata_size': 287, 'code_file': 374, 'state_file': 879}}}, 'wrapper_code': 2820}, 'dataset': {'metadata_size': 99, 'raw_data': 22336767}}}, 'U_3_2_2': {'metadata_size': 69870, 'recover_info': {'metadata_size': 176, 'environment': {'metadata_size': 3291}, 'train_info': {'metadata_size': 231, 'train_service': {'metadata_size': 270, 'state_dict': {'data': {'metadata_size': 219, 'code_file': 3447}, 'dataloader': {'metadata_size': 268}, 'optimizer': {'metadata_size': 287, 'code_file': 374, 'state_file': 879}}}, 'wrapper_code': 2820}, 'dataset': {'metadata_size': 99, 'raw_data': 22336767}}}}, {'U_1': {'metadata_size': 69827, 'recover_info': {'metadata_size': 223, 'environment': {'metadata_size': 3291}, 'model_code': 6959, 'parameters': 14266675}}, 'U_3_1_1': {'metadata_size': 69870, 'recover_info': {'metadata_size': 176, 'environment': {'metadata_size': 3291}, 'train_info': {'metadata_size': 231, 'train_service': {'metadata_size': 270, 'state_dict': {'data': {'metadata_size': 219, 'code_file': 3447}, 'dataloader': {'metadata_size': 268}, 'optimizer': {'metadata_size': 287, 'code_file': 374, 'state_file': 879}}}, 'wrapper_code': 2820}, 'dataset': {'metadata_size': 99, 'raw_data': 22336767}}}, 'U_3_1_2': {'metadata_size': 69870, 'recover_info': {'metadata_size': 176, 'environment': {'metadata_size': 3291}, 'train_info': {'metadata_size': 231, 'train_service': {'metadata_size': 270, 'state_dict': {'data': {'metadata_size': 219, 'code_file': 3447}, 'dataloader': {'metadata_size': 268}, 'optimizer': {'metadata_size': 287, 'code_file': 374, 'state_file': 879}}}, 'wrapper_code': 2820}, 'dataset': {'metadata_size': 99, 'raw_data': 22336767}}}, 'U_2': {'metadata_size': 69870, 'recover_info': {'metadata_size': 176, 'environment': {'metadata_size': 3291}, 'train_info': {'metadata_size': 231, 'train_service': {'metadata_size': 270, 'state_dict': {'data': {'metadata_size': 238, 'code_file': 564}, 'dataloader': {'metadata_size': 268}, 'optimizer': {'metadata_size': 287, 'code_file': 374, 'state_file': 879}}}, 'wrapper_code': 2820}, 'dataset': {'metadata_size': 99, 'raw_data': 11784017}}}, 'U_3_2_1': {'metadata_size': 69870, 'recover_info': {'metadata_size': 176, 'environment': {'metadata_size': 3291}, 'train_info': {'metadata_size': 231, 'train_service': {'metadata_size': 270, 'state_dict': {'data': {'metadata_size': 219, 'code_file': 3447}, 'dataloader': {'metadata_size': 268}, 'optimizer': {'metadata_size': 287, 'code_file': 374, 'state_file': 879}}}, 'wrapper_code': 2820}, 'dataset': {'metadata_size': 99, 'raw_data': 22336767}}}, 'U_3_2_2': {'metadata_size': 69870, 'recover_info': {'metadata_size': 176, 'environment': {'metadata_size': 3291}, 'train_info': {'metadata_size': 231, 'train_service': {'metadata_size': 270, 'state_dict': {'data': {'metadata_size': 219, 'code_file': 3447}, 'dataloader': {'metadata_size': 268}, 'optimizer': {'metadata_size': 287, 'code_file': 374, 'state_file': 879}}}, 'wrapper_code': 2820}, 'dataset': {'metadata_size': 99, 'raw_data': 22336767}}}}, {'U_1': {'metadata_size': 69827, 'recover_info': {'metadata_size': 223, 'environment': {'metadata_size': 3291}, 'model_code': 6959, 'parameters': 14266675}}, 'U_3_1_1': {'metadata_size': 69870, 'recover_info': {'metadata_size': 176, 'environment': {'metadata_size': 3291}, 'train_info': {'metadata_size': 231, 'train_service': {'metadata_size': 270, 'state_dict': {'data': {'metadata_size': 219, 'code_file': 3447}, 'dataloader': {'metadata_size': 268}, 'optimizer': {'metadata_size': 287, 'code_file': 374, 'state_file': 879}}}, 'wrapper_code': 2820}, 'dataset': {'metadata_size': 99, 'raw_data': 22336767}}}, 'U_3_1_2': {'metadata_size': 69870, 'recover_info': {'metadata_size': 176, 'environment': {'metadata_size': 3291}, 'train_info': {'metadata_size': 231, 'train_service': {'metadata_size': 270, 'state_dict': {'data': {'metadata_size': 219, 'code_file': 3447}, 'dataloader': {'metadata_size': 268}, 'optimizer': {'metadata_size': 287, 'code_file': 374, 'state_file': 879}}}, 'wrapper_code': 2820}, 'dataset': {'metadata_size': 99, 'raw_data': 22336767}}}, 'U_2': {'metadata_size': 69870, 'recover_info': {'metadata_size': 176, 'environment': {'metadata_size': 3291}, 'train_info': {'metadata_size': 231, 'train_service': {'metadata_size': 270, 'state_dict': {'data': {'metadata_size': 238, 'code_file': 564}, 'dataloader': {'metadata_size': 268}, 'optimizer': {'metadata_size': 287, 'code_file': 374, 'state_file': 879}}}, 'wrapper_code': 2820}, 'dataset': {'metadata_size': 99, 'raw_data': 11784017}}}, 'U_3_2_1': {'metadata_size': 69870, 'recover_info': {'metadata_size': 176, 'environment': {'metadata_size': 3291}, 'train_info': {'metadata_size': 231, 'train_service': {'metadata_size': 270, 'state_dict': {'data': {'metadata_size': 219, 'code_file': 3447}, 'dataloader': {'metadata_size': 268}, 'optimizer': {'metadata_size': 287, 'code_file': 374, 'state_file': 879}}}, 'wrapper_code': 2820}, 'dataset': {'metadata_size': 99, 'raw_data': 22336767}}}, 'U_3_2_2': {'metadata_size': 69870, 'recover_info': {'metadata_size': 176, 'environment': {'metadata_size': 3291}, 'train_info': {'metadata_size': 231, 'train_service': {'metadata_size': 270, 'state_dict': {'data': {'metadata_size': 219, 'code_file': 3447}, 'dataloader': {'metadata_size': 268}, 'optimizer': {'metadata_size': 287, 'code_file': 374, 'state_file': 879}}}, 'wrapper_code': 2820}, 'dataset': {'metadata_size': 99, 'raw_data': 22336767}}}}, {'U_1': {'metadata_size': 69827, 'recover_info': {'metadata_size': 223, 'environment': {'metadata_size': 3291}, 'model_code': 6959, 'parameters': 14266675}}, 'U_3_1_1': {'metadata_size': 69870, 'recover_info': {'metadata_size': 176, 'environment': {'metadata_size': 3291}, 'train_info': {'metadata_size': 231, 'train_service': {'metadata_size': 270, 'state_dict': {'data': {'metadata_size': 219, 'code_file': 3447}, 'dataloader': {'metadata_size': 268}, 'optimizer': {'metadata_size': 287, 'code_file': 374, 'state_file': 879}}}, 'wrapper_code': 2820}, 'dataset': {'metadata_size': 99, 'raw_data': 22336767}}}, 'U_3_1_2': {'metadata_size': 69870, 'recover_info': {'metadata_size': 176, 'environment': {'metadata_size': 3291}, 'train_info': {'metadata_size': 231, 'train_service': {'metadata_size': 270, 'state_dict': {'data': {'metadata_size': 219, 'code_file': 3447}, 'dataloader': {'metadata_size': 268}, 'optimizer': {'metadata_size': 287, 'code_file': 374, 'state_file': 879}}}, 'wrapper_code': 2820}, 'dataset': {'metadata_size': 99, 'raw_data': 22336767}}}, 'U_2': {'metadata_size': 69870, 'recover_info': {'metadata_size': 176, 'environment': {'metadata_size': 3291}, 'train_info': {'metadata_size': 231, 'train_service': {'metadata_size': 270, 'state_dict': {'data': {'metadata_size': 238, 'code_file': 564}, 'dataloader': {'metadata_size': 268}, 'optimizer': {'metadata_size': 287, 'code_file': 374, 'state_file': 879}}}, 'wrapper_code': 2820}, 'dataset': {'metadata_size': 99, 'raw_data': 11784017}}}, 'U_3_2_1': {'metadata_size': 69870, 'recover_info': {'metadata_size': 176, 'environment': {'metadata_size': 3291}, 'train_info': {'metadata_size': 231, 'train_service': {'metadata_size': 270, 'state_dict': {'data': {'metadata_size': 219, 'code_file': 3447}, 'dataloader': {'metadata_size': 268}, 'optimizer': {'metadata_size': 287, 'code_file': 374, 'state_file': 879}}}, 'wrapper_code': 2820}, 'dataset': {'metadata_size': 99, 'raw_data': 22336767}}}, 'U_3_2_2': {'metadata_size': 69870, 'recover_info': {'metadata_size': 176, 'environment': {'metadata_size': 3291}, 'train_info': {'metadata_size': 231, 'train_service': {'metadata_size': 270, 'state_dict': {'data': {'metadata_size': 219, 'code_file': 3447}, 'dataloader': {'metadata_size': 268}, 'optimizer': {'metadata_size': 287, 'code_file': 374, 'state_file': 879}}}, 'wrapper_code': 2820}, 'dataset': {'metadata_size': 99, 'raw_data': 22336767}}}}]\n"
     ]
    }
   ],
   "source": [
    "baseline_storage_infos = []\n",
    "for id_dict, f in zip(use_case_id_dicts, BASELINE_SERVER_LOGS):\n",
    "    storage_info_dict = {}\n",
    "    for k, v in id_dict.items():\n",
    "        storage_info_dict[k] = storage_info(f, v)\n",
    "    baseline_storage_infos.append(storage_info_dict)\n",
    "\n",
    "print(baseline_storage_infos)\n"
   ],
   "metadata": {
    "collapsed": false,
    "pycharm": {
     "name": "#%%\n"
    }
   }
  },
  {
   "cell_type": "code",
   "execution_count": 5,
   "outputs": [
    {
     "name": "stdout",
     "output_type": "stream",
     "text": [
      "[{'U_1': 14346975, 'U_3_1_1': 22418998, 'U_3_1_2': 22418998, 'U_2': 11863384, 'U_3_2_1': 22418998, 'U_3_2_2': 22418998}, {'U_1': 14346975, 'U_3_1_1': 22418998, 'U_3_1_2': 22418998, 'U_2': 11863384, 'U_3_2_1': 22418998, 'U_3_2_2': 22418998}, {'U_1': 14346975, 'U_3_1_1': 22418998, 'U_3_1_2': 22418998, 'U_2': 11863384, 'U_3_2_1': 22418998, 'U_3_2_2': 22418998}, {'U_1': 14346975, 'U_3_1_1': 22418998, 'U_3_1_2': 22418998, 'U_2': 11863384, 'U_3_2_1': 22418998, 'U_3_2_2': 22418998}, {'U_1': 14346975, 'U_3_1_1': 22418998, 'U_3_1_2': 22418998, 'U_2': 11863384, 'U_3_2_1': 22418998, 'U_3_2_2': 22418998}]\n"
     ]
    }
   ],
   "source": [
    "total_storage_consumptions = copy.deepcopy(baseline_storage_infos)\n",
    "for st_info in total_storage_consumptions:\n",
    "    for k, v in st_info.items():\n",
    "        st_info[k] = total_storage_consumption(v)\n",
    "\n",
    "print(total_storage_consumptions)"
   ],
   "metadata": {
    "collapsed": false,
    "pycharm": {
     "name": "#%%\n"
    }
   }
  },
  {
   "cell_type": "code",
   "execution_count": 6,
   "outputs": [
    {
     "data": {
      "text/plain": "<Figure size 432x288 with 1 Axes>",
      "image/png": "[encoded data removed]"
     },
     "metadata": {
      "needs_background": "light"
     },
     "output_type": "display_data"
    }
   ],
   "source": [
    "u1_sizes = []\n",
    "for st_dict in total_storage_consumptions:\n",
    "    u1_sizes.append(st_dict['U_1'])\n",
    "\n",
    "# for plot convert to MB\n",
    "mbs = [c * 10 ** -6 for c in u1_sizes]\n",
    "\n",
    "fig = plt.figure()\n",
    "ax = fig.add_axes([0, 0, 1, 1])\n",
    "ax.bar(MODEL_NAMES, mbs)\n",
    "plt.show()\n"
   ],
   "metadata": {
    "collapsed": false,
    "pycharm": {
     "name": "#%%\n"
    }
   }
  },
  {
   "cell_type": "code",
   "execution_count": 7,
   "outputs": [],
   "source": [
    "def pie_chart(labels, sizes):\n",
    "    fig1, ax1 = plt.subplots()\n",
    "    ax1.pie(sizes, labels=labels, autopct='%1.1f%%', shadow=False, startangle=90)\n",
    "    ax1.axis('equal')  # Equal aspect ratio ensures that pie is drawn as a circle.\n",
    "\n",
    "    plt.show()\n"
   ],
   "metadata": {
    "collapsed": false,
    "pycharm": {
     "name": "#%%\n"
    }
   }
  },
  {
   "cell_type": "code",
   "execution_count": 8,
   "outputs": [],
   "source": [
    "def recursive_pie_chart(root_storage_info):\n",
    "    l, s = create_pie_chart_sizes_and_labels(root_storage_info)\n",
    "    pie_chart(l, s)\n",
    "    for k, v in root_storage_info.items():\n",
    "        if isinstance(v, dict):\n",
    "            recursive_pie_chart(v)"
   ],
   "metadata": {
    "collapsed": false,
    "pycharm": {
     "name": "#%%\n"
    }
   }
  },
  {
   "cell_type": "code",
   "execution_count": 9,
   "outputs": [
    {
     "name": "stdout",
     "output_type": "stream",
     "text": [
      "{'metadata_size': 69827, 'recover_info': {'metadata_size': 223, 'environment': {'metadata_size': 3291}, 'model_code': 6959, 'parameters': 14266675}}\n"
     ]
    },
    {
     "data": {
      "text/plain": "<Figure size 432x288 with 1 Axes>",
      "image/png": "[encoded data removed]"
     },
     "metadata": {},
     "output_type": "display_data"
    },
    {
     "data": {
      "text/plain": "<Figure size 432x288 with 1 Axes>",
      "image/png": "[encoded data removed]"
     },
     "metadata": {},
     "output_type": "display_data"
    },
    {
     "data": {
      "text/plain": "<Figure size 432x288 with 1 Axes>",
      "image/png": "[encoded data removed]"
     },
     "metadata": {},
     "output_type": "display_data"
    }
   ],
   "source": [
    "example_storage_info = baseline_storage_infos[0]['U_1']\n",
    "print(example_storage_info)\n",
    "recursive_pie_chart(example_storage_info)"
   ],
   "metadata": {
    "collapsed": false,
    "pycharm": {
     "name": "#%%\n"
    }
   }
  },
  {
   "cell_type": "code",
   "execution_count": 9,
   "outputs": [],
   "source": [],
   "metadata": {
    "collapsed": false,
    "pycharm": {
     "name": "#%%\n"
    }
   }
  }
 ],
 "metadata": {
  "kernelspec": {
   "display_name": "Python 3",
   "language": "python",
   "name": "python3"
  },
  "language_info": {
   "codemirror_mode": {
    "name": "ipython",
    "version": 2
   },
   "file_extension": ".py",
   "mimetype": "text/x-python",
   "name": "python",
   "nbconvert_exporter": "python",
   "pygments_lexer": "ipython2",
   "version": "2.7.6"
  }
 },
 "nbformat": 4,
 "nbformat_minor": 0
}