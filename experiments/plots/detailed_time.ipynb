{
 "cells": [
  {
   "cell_type": "code",
   "execution_count": 1,
   "outputs": [],
   "source": [
    "import matplotlib.pyplot as plt\n",
    "import numpy as np\n",
    "\n",
    "from experiments.evaluation_flow.shared import GOOGLENET, RESNET_152, MOBILENET, RESNET_18, RESNET_50, BASELINE, \\\n",
    "    PARAM_UPDATE, PARAM_UPDATE_IMPROVED, PROVENANCE\n",
    "from experiments.evaluation_flow.shared import MODELS\n",
    "from experiments.plots.util import *"
   ],
   "metadata": {
    "collapsed": false,
    "pycharm": {
     "name": "#%%\n"
    }
   }
  },
  {
   "cell_type": "code",
   "execution_count": 2,
   "outputs": [],
   "source": [
    "ROOT_LOG_DIR = '/Users/nils/Downloads/log-dir'\n",
    "VERSION = 'version'\n",
    "FINE_TUNED = 'fine-tuned'\n",
    "OUTDOOR = 'outdoor'\n",
    "FOOD = 'food'"
   ],
   "metadata": {
    "collapsed": false,
    "pycharm": {
     "name": "#%%\n"
    }
   }
  },
  {
   "cell_type": "code",
   "execution_count": 3,
   "outputs": [],
   "source": [
    "# get all file sin the directory\n",
    "all_files = all_files_in_dir(ROOT_LOG_DIR)\n",
    "node_server_files = [f for f in all_files if 'server' in f or 'node' in f]\n",
    "# for all files extract the metadata (e.g. what model and dataset is used)\n",
    "U_IDS = 'u_ids'\n",
    "\n",
    "files_and_meta = [(extract_file_meta(f), f) for f in node_server_files]\n",
    "# add a mapping: use_case -> model id\n",
    "files_and_meta = [({**f[0], **{U_IDS: use_case_ids(f[1])}}, f[1]) for f in files_and_meta]\n",
    "# add the parsed events\n",
    "files_and_meta = [({**f[0], **{EVENTS: parse_events(f[1])}}, f[1]) for f in files_and_meta]"
   ],
   "metadata": {
    "collapsed": false,
    "pycharm": {
     "name": "#%%\n"
    }
   }
  },
  {
   "cell_type": "code",
   "execution_count": 4,
   "outputs": [],
   "source": [
    "valid_joined = join_server_and_node_meta(files_and_meta)\n"
   ],
   "metadata": {
    "collapsed": false,
    "pycharm": {
     "name": "#%%\n"
    }
   }
  },
  {
   "cell_type": "code",
   "execution_count": 16,
   "outputs": [],
   "source": [
    "resent152_example_node = valid_joined[1]['node']\n",
    "resent152_example_server = valid_joined[1]['server']"
   ],
   "metadata": {
    "collapsed": false,
    "pycharm": {
     "name": "#%%\n"
    }
   }
  },
  {
   "cell_type": "code",
   "execution_count": 17,
   "outputs": [],
   "source": [
    "resent152_example_events = resent152_example_node[0]['events']\n",
    "u3_events = [e for e in resent152_example_events if 'U_3' in e.use_case ]"
   ],
   "metadata": {
    "collapsed": false,
    "pycharm": {
     "name": "#%%\n"
    }
   }
  },
  {
   "cell_type": "code",
   "execution_count": 18,
   "outputs": [],
   "source": [
    "u_3_1_1_event = u3_events[0]\n",
    "u_3_1_2_event = u3_events[1]\n",
    "u_3_1_3_event = u3_events[2]\n",
    "u_3_1_4_event = u3_events[3]\n",
    "u_3_2_1_event = u3_events[4]\n",
    "u_3_2_2_event = u3_events[5]\n",
    "u_3_2_3_event = u3_events[6]\n",
    "u_3_2_4_event = u3_events[7]"
   ],
   "metadata": {
    "collapsed": false,
    "pycharm": {
     "name": "#%%\n"
    }
   }
  },
  {
   "cell_type": "code",
   "execution_count": 19,
   "outputs": [
    {
     "name": "stdout",
     "output_type": "stream",
     "text": [
      "U_3_1_1: 0.1095144080s \n",
      "GAPTIME: 0.001031199s \n",
      "build_save_info: 0.0010924220s \n",
      "GAPTIME: 5.8888e-05s \n",
      "mmlib_save_call: 0.1073243160s \n",
      "\tGAPTIME: 0.00012895500000000001s \n",
      "\tsave_model -- all: 0.1071809290s \n",
      "\t\tGAPTIME: 6.5083e-05s \n",
      "\t\t_save_updated_model -- all: 0.1055374400s \n",
      "\t\t\tGAPTIME: 0.00038174700000000004s \n",
      "\t\t\t_save_updated_model -- get_weights_hash_info: 0.0223802730s \n",
      "\t\t\tGAPTIME: 1.9253e-05s \n",
      "\t\t\t_save_updated_model -- generate_weights_update: 0.0346698260s \n",
      "\t\t\t\tGAPTIME: 0.000151656s \n",
      "\t\t\t\tmmlib_dict_pers -- recover_dict -- collection(model_info): 0.0000992660s \n",
      "\t\t\t\tGAPTIME: 0.034418904s \n",
      "\t\t\tGAPTIME: 8.022900000000001e-05s \n",
      "\t\t\t_save_updated_model -- persist: 0.0480001500s \n",
      "\t\t\t\tGAPTIME: 7.8937e-05s \n",
      "\t\t\t\tpersist -- schema_obj(model_info): 0.0478710910s \n",
      "\t\t\t\t\tGAPTIME: 0.00010821100000000001s \n",
      "\t\t\t\t\tpersist -- schema_obj(recover_info): 0.0444716660s \n",
      "\t\t\t\t\t\tGAPTIME: 3.7564e-05s \n",
      "\t\t\t\t\t\tmmlib_file_pers -- save_file: 0.0430697710s \n",
      "\t\t\t\t\t\tGAPTIME: 3.2065e-05s \n",
      "\t\t\t\t\t\tmmlib_dict_pers -- save_dict -- collection(recover_info): 0.0013105220s \n",
      "\t\t\t\t\t\tGAPTIME: 2.1744e-05s \n",
      "\t\t\t\t\tGAPTIME: 0.000324127s \n",
      "\t\t\t\t\tmmlib_dict_pers -- save_dict -- collection(model_info): 0.0029485380s \n",
      "\t\t\t\t\tGAPTIME: 1.8549e-05s \n",
      "\t\t\t\tGAPTIME: 5.0122000000000006e-05s \n",
      "\t\t\tGAPTIME: 5.962000000000001e-06s \n",
      "\t\tGAPTIME: 0.001578406s \n",
      "\tGAPTIME: 1.4432e-05s \n",
      "GAPTIME: 7.583e-06s \n",
      "\n"
     ]
    }
   ],
   "source": [
    "print(u_3_1_1_event)"
   ],
   "metadata": {
    "collapsed": false,
    "pycharm": {
     "name": "#%%\n"
    }
   }
  },
  {
   "cell_type": "code",
   "execution_count": 20,
   "outputs": [
    {
     "name": "stdout",
     "output_type": "stream",
     "text": [
      "U_3_1_2: 0.0886167670s \n",
      "GAPTIME: 7.191700000000001e-05s \n",
      "build_save_info: 0.0001197010s \n",
      "GAPTIME: 1.4847e-05s \n",
      "mmlib_save_call: 0.0884020170s \n",
      "\tGAPTIME: 1.9013000000000002e-05s \n",
      "\tsave_model -- all: 0.0883682160s \n",
      "\t\tGAPTIME: 1.6775e-05s \n",
      "\t\t_save_updated_model -- all: 0.0868708280s \n",
      "\t\t\tGAPTIME: 0.00013516800000000002s \n",
      "\t\t\t_save_updated_model -- get_weights_hash_info: 0.0236394050s \n",
      "\t\t\tGAPTIME: 2.0811e-05s \n",
      "\t\t\t_save_updated_model -- generate_weights_update: 0.0292772630s \n",
      "\t\t\t\tGAPTIME: 3.7456e-05s \n",
      "\t\t\t\tmmlib_dict_pers -- recover_dict -- collection(model_info): 0.0000199960s \n",
      "\t\t\t\tGAPTIME: 0.029219811000000002s \n",
      "\t\t\tGAPTIME: 4.2510000000000005e-05s \n",
      "\t\t\t_save_updated_model -- persist: 0.0337501500s \n",
      "\t\t\t\tGAPTIME: 3.2573e-05s \n",
      "\t\t\t\tpersist -- schema_obj(model_info): 0.0336777190s \n",
      "\t\t\t\t\tGAPTIME: 4.9474e-05s \n",
      "\t\t\t\t\tpersist -- schema_obj(recover_info): 0.0303065530s \n",
      "\t\t\t\t\t\tGAPTIME: 2.4957000000000002e-05s \n",
      "\t\t\t\t\t\tmmlib_file_pers -- save_file: 0.0291558900s \n",
      "\t\t\t\t\t\tGAPTIME: 3.1061e-05s \n",
      "\t\t\t\t\t\tmmlib_dict_pers -- save_dict -- collection(recover_info): 0.0010573550s \n",
      "\t\t\t\t\t\tGAPTIME: 3.7290000000000004e-05s \n",
      "\t\t\t\t\tGAPTIME: 0.000330995s \n",
      "\t\t\t\t\tmmlib_dict_pers -- save_dict -- collection(model_info): 0.0029686870s \n",
      "\t\t\t\t\tGAPTIME: 2.201e-05s \n",
      "\t\t\t\tGAPTIME: 3.9858000000000004e-05s \n",
      "\t\t\tGAPTIME: 5.521e-06s \n",
      "\t\tGAPTIME: 0.0014806130000000002s \n",
      "\tGAPTIME: 1.4788000000000001e-05s \n",
      "GAPTIME: 8.285000000000001e-06s \n",
      "\n"
     ]
    }
   ],
   "source": [
    "print(u_3_1_2_event)"
   ],
   "metadata": {
    "collapsed": false,
    "pycharm": {
     "name": "#%%\n"
    }
   }
  },
  {
   "cell_type": "code",
   "execution_count": 21,
   "outputs": [
    {
     "name": "stdout",
     "output_type": "stream",
     "text": [
      "U_3_1_3: 0.0796494320s \n",
      "GAPTIME: 8.014300000000001e-05s \n",
      "build_save_info: 0.0001174240s \n",
      "GAPTIME: 1.0205000000000001e-05s \n",
      "mmlib_save_call: 0.0794333090s \n",
      "\tGAPTIME: 1.8944e-05s \n",
      "\tsave_model -- all: 0.0793994110s \n",
      "\t\tGAPTIME: 3.1291e-05s \n",
      "\t\t_save_updated_model -- all: 0.0773912310s \n",
      "\t\t\tGAPTIME: 0.000139671s \n",
      "\t\t\t_save_updated_model -- get_weights_hash_info: 0.0240052090s \n",
      "\t\t\tGAPTIME: 2.2251e-05s \n",
      "\t\t\t_save_updated_model -- generate_weights_update: 0.0297723210s \n",
      "\t\t\t\tGAPTIME: 3.8400000000000005e-05s \n",
      "\t\t\t\tmmlib_dict_pers -- recover_dict -- collection(model_info): 0.0000199220s \n",
      "\t\t\t\tGAPTIME: 0.029713999s \n",
      "\t\t\tGAPTIME: 4.1400000000000003e-05s \n",
      "\t\t\t_save_updated_model -- persist: 0.0233907070s \n",
      "\t\t\t\tGAPTIME: 3.2418e-05s \n",
      "\t\t\t\tpersist -- schema_obj(model_info): 0.0232531110s \n",
      "\t\t\t\t\tGAPTIME: 3.5172e-05s \n",
      "\t\t\t\t\tpersist -- schema_obj(recover_info): 0.0197333280s \n",
      "\t\t\t\t\t\tGAPTIME: 3.9421e-05s \n",
      "\t\t\t\t\t\tmmlib_file_pers -- save_file: 0.0186072160s \n",
      "\t\t\t\t\t\tGAPTIME: 3.1265e-05s \n",
      "\t\t\t\t\t\tmmlib_dict_pers -- save_dict -- collection(recover_info): 0.0010010530s \n",
      "\t\t\t\t\t\tGAPTIME: 5.4373e-05s \n",
      "\t\t\t\t\tGAPTIME: 0.000451341s \n",
      "\t\t\t\t\tmmlib_dict_pers -- save_dict -- collection(model_info): 0.0029828560s \n",
      "\t\t\t\t\tGAPTIME: 5.0414e-05s \n",
      "\t\t\t\tGAPTIME: 0.000105178s \n",
      "\t\t\tGAPTIME: 1.9672e-05s \n",
      "\t\tGAPTIME: 0.0019768890000000003s \n",
      "\tGAPTIME: 1.4954000000000001e-05s \n",
      "GAPTIME: 8.351e-06s \n",
      "\n"
     ]
    }
   ],
   "source": [
    "print(u_3_1_3_event)"
   ],
   "metadata": {
    "collapsed": false,
    "pycharm": {
     "name": "#%%\n"
    }
   }
  },
  {
   "cell_type": "code",
   "execution_count": 22,
   "outputs": [
    {
     "name": "stdout",
     "output_type": "stream",
     "text": [
      "U_3_1_4: 0.0835630780s \n",
      "GAPTIME: 6.4712e-05s \n",
      "build_save_info: 0.0001144150s \n",
      "GAPTIME: 9.614e-06s \n",
      "mmlib_save_call: 0.0833657860s \n",
      "\tGAPTIME: 1.8352e-05s \n",
      "\tsave_model -- all: 0.0833334070s \n",
      "\t\tGAPTIME: 1.6703000000000003e-05s \n",
      "\t\t_save_updated_model -- all: 0.0819109500s \n",
      "\t\t\tGAPTIME: 0.000174107s \n",
      "\t\t\t_save_updated_model -- get_weights_hash_info: 0.0234396710s \n",
      "\t\t\tGAPTIME: 1.8664e-05s \n",
      "\t\t\t_save_updated_model -- generate_weights_update: 0.0295901290s \n",
      "\t\t\t\tGAPTIME: 3.7976000000000004e-05s \n",
      "\t\t\t\tmmlib_dict_pers -- recover_dict -- collection(model_info): 0.0000195090s \n",
      "\t\t\t\tGAPTIME: 0.029532644s \n",
      "\t\t\tGAPTIME: 4.1411e-05s \n",
      "\t\t\t_save_updated_model -- persist: 0.0286283110s \n",
      "\t\t\t\tGAPTIME: 4.2474e-05s \n",
      "\t\t\t\tpersist -- schema_obj(model_info): 0.0285431040s \n",
      "\t\t\t\t\tGAPTIME: 3.8441e-05s \n",
      "\t\t\t\t\tpersist -- schema_obj(recover_info): 0.0250141650s \n",
      "\t\t\t\t\t\tGAPTIME: 2.6209000000000003e-05s \n",
      "\t\t\t\t\t\tmmlib_file_pers -- save_file: 0.0239491220s \n",
      "\t\t\t\t\t\tGAPTIME: 2.9704000000000002e-05s \n",
      "\t\t\t\t\t\tmmlib_dict_pers -- save_dict -- collection(recover_info): 0.0009551240s \n",
      "\t\t\t\t\t\tGAPTIME: 5.4006000000000004e-05s \n",
      "\t\t\t\t\tGAPTIME: 0.000580923s \n",
      "\t\t\t\t\tmmlib_dict_pers -- save_dict -- collection(model_info): 0.0028891360s \n",
      "\t\t\t\t\tGAPTIME: 2.0439000000000002e-05s \n",
      "\t\t\t\tGAPTIME: 4.2733000000000006e-05s \n",
      "\t\t\tGAPTIME: 1.8657e-05s \n",
      "\t\tGAPTIME: 0.0014057540000000002s \n",
      "\tGAPTIME: 1.4027000000000001e-05s \n",
      "GAPTIME: 8.551e-06s \n",
      "\n"
     ]
    }
   ],
   "source": [
    "print(u_3_1_4_event)"
   ],
   "metadata": {
    "collapsed": false,
    "pycharm": {
     "name": "#%%\n"
    }
   }
  },
  {
   "cell_type": "code",
   "execution_count": 23,
   "outputs": [
    {
     "name": "stdout",
     "output_type": "stream",
     "text": [
      "U_3_2_1: 0.1021588040s \n",
      "GAPTIME: 6.3069e-05s \n",
      "build_save_info: 0.0001526990s \n",
      "GAPTIME: 9.552000000000001e-06s \n",
      "mmlib_save_call: 0.1019251110s \n",
      "\tGAPTIME: 2.0886000000000003e-05s \n",
      "\tsave_model -- all: 0.1018900520s \n",
      "\t\tGAPTIME: 1.5732e-05s \n",
      "\t\t_save_updated_model -- all: 0.1000954470s \n",
      "\t\t\tGAPTIME: 0.000142575s \n",
      "\t\t\t_save_updated_model -- get_weights_hash_info: 0.0240441520s \n",
      "\t\t\tGAPTIME: 1.9612e-05s \n",
      "\t\t\t_save_updated_model -- generate_weights_update: 0.0293126960s \n",
      "\t\t\t\tGAPTIME: 4.313e-05s \n",
      "\t\t\t\tmmlib_dict_pers -- recover_dict -- collection(model_info): 0.0000252130s \n",
      "\t\t\t\tGAPTIME: 0.029244353s \n",
      "\t\t\tGAPTIME: 4.7351e-05s \n",
      "\t\t\t_save_updated_model -- persist: 0.0465097740s \n",
      "\t\t\t\tGAPTIME: 3.3247e-05s \n",
      "\t\t\t\tpersist -- schema_obj(model_info): 0.0463782170s \n",
      "\t\t\t\t\tGAPTIME: 4.4724e-05s \n",
      "\t\t\t\t\tpersist -- schema_obj(recover_info): 0.0430662570s \n",
      "\t\t\t\t\t\tGAPTIME: 2.4818000000000002e-05s \n",
      "\t\t\t\t\t\tmmlib_file_pers -- save_file: 0.0418236780s \n",
      "\t\t\t\t\t\tGAPTIME: 6.4126e-05s \n",
      "\t\t\t\t\t\tmmlib_dict_pers -- save_dict -- collection(recover_info): 0.0011305960s \n",
      "\t\t\t\t\t\tGAPTIME: 2.3039e-05s \n",
      "\t\t\t\t\tGAPTIME: 0.00036729000000000004s \n",
      "\t\t\t\t\tmmlib_dict_pers -- save_dict -- collection(model_info): 0.0028495500s \n",
      "\t\t\t\t\tGAPTIME: 5.0396e-05s \n",
      "\t\t\t\tGAPTIME: 9.831000000000001e-05s \n",
      "\t\t\tGAPTIME: 1.9287e-05s \n",
      "\t\tGAPTIME: 0.001778873s \n",
      "\tGAPTIME: 1.4173000000000001e-05s \n",
      "GAPTIME: 8.373000000000001e-06s \n",
      "\n"
     ]
    }
   ],
   "source": [
    "print(u_3_2_1_event)"
   ],
   "metadata": {
    "collapsed": false,
    "pycharm": {
     "name": "#%%\n"
    }
   }
  },
  {
   "cell_type": "code",
   "execution_count": 24,
   "outputs": [
    {
     "name": "stdout",
     "output_type": "stream",
     "text": [
      "U_3_2_2: 0.0873002030s \n",
      "GAPTIME: 6.430800000000001e-05s \n",
      "build_save_info: 0.0001202480s \n",
      "GAPTIME: 9.13e-06s \n",
      "mmlib_save_call: 0.0870983060s \n",
      "\tGAPTIME: 1.8448e-05s \n",
      "\tsave_model -- all: 0.0870646790s \n",
      "\t\tGAPTIME: 1.5809e-05s \n",
      "\t\t_save_updated_model -- all: 0.0855178120s \n",
      "\t\t\tGAPTIME: 0.00023098000000000001s \n",
      "\t\t\t_save_updated_model -- get_weights_hash_info: 0.0236512670s \n",
      "\t\t\tGAPTIME: 2.2602e-05s \n",
      "\t\t\t_save_updated_model -- generate_weights_update: 0.0286818190s \n",
      "\t\t\t\tGAPTIME: 4.1812000000000006e-05s \n",
      "\t\t\t\tmmlib_dict_pers -- recover_dict -- collection(model_info): 0.0000239160s \n",
      "\t\t\t\tGAPTIME: 0.028616091000000003s \n",
      "\t\t\tGAPTIME: 6.2395e-05s \n",
      "\t\t\t_save_updated_model -- persist: 0.0328624530s \n",
      "\t\t\t\tGAPTIME: 3.2879e-05s \n",
      "\t\t\t\tpersist -- schema_obj(model_info): 0.0327925020s \n",
      "\t\t\t\t\tGAPTIME: 4.0287e-05s \n",
      "\t\t\t\t\tpersist -- schema_obj(recover_info): 0.0288850020s \n",
      "\t\t\t\t\t\tGAPTIME: 2.0476000000000002e-05s \n",
      "\t\t\t\t\t\tmmlib_file_pers -- save_file: 0.0277359540s \n",
      "\t\t\t\t\t\tGAPTIME: 2.8365e-05s \n",
      "\t\t\t\t\t\tmmlib_dict_pers -- save_dict -- collection(recover_info): 0.0010479920s \n",
      "\t\t\t\t\t\tGAPTIME: 5.2215e-05s \n",
      "\t\t\t\t\tGAPTIME: 0.0008680830000000001s \n",
      "\t\t\t\t\tmmlib_dict_pers -- save_dict -- collection(model_info): 0.0029789340s \n",
      "\t\t\t\t\tGAPTIME: 2.0196e-05s \n",
      "\t\t\t\tGAPTIME: 3.7072e-05s \n",
      "\t\t\tGAPTIME: 6.296e-06s \n",
      "\t\tGAPTIME: 0.001531058s \n",
      "\tGAPTIME: 1.5179000000000002e-05s \n",
      "GAPTIME: 8.211e-06s \n",
      "\n"
     ]
    }
   ],
   "source": [
    "print(u_3_2_2_event)"
   ],
   "metadata": {
    "collapsed": false,
    "pycharm": {
     "name": "#%%\n"
    }
   }
  },
  {
   "cell_type": "code",
   "execution_count": 25,
   "outputs": [
    {
     "name": "stdout",
     "output_type": "stream",
     "text": [
      "U_3_2_3: 0.0881638510s \n",
      "GAPTIME: 6.1627e-05s \n",
      "build_save_info: 0.0001086610s \n",
      "GAPTIME: 8.788000000000001e-06s \n",
      "mmlib_save_call: 0.0879608450s \n",
      "\tGAPTIME: 1.7382e-05s \n",
      "\tsave_model -- all: 0.0879122460s \n",
      "\t\tGAPTIME: 1.4797e-05s \n",
      "\t\t_save_updated_model -- all: 0.0861317710s \n",
      "\t\t\tGAPTIME: 0.000118814s \n",
      "\t\t\t_save_updated_model -- get_weights_hash_info: 0.0237056420s \n",
      "\t\t\tGAPTIME: 2.2498e-05s \n",
      "\t\t\t_save_updated_model -- generate_weights_update: 0.0372547510s \n",
      "\t\t\t\tGAPTIME: 3.9249e-05s \n",
      "\t\t\t\tmmlib_dict_pers -- recover_dict -- collection(model_info): 0.0000203930s \n",
      "\t\t\t\tGAPTIME: 0.037195109000000004s \n",
      "\t\t\tGAPTIME: 0.00010210500000000001s \n",
      "\t\t\t_save_updated_model -- persist: 0.0249081760s \n",
      "\t\t\t\tGAPTIME: 5.8250000000000006e-05s \n",
      "\t\t\t\tpersist -- schema_obj(model_info): 0.0247376860s \n",
      "\t\t\t\t\tGAPTIME: 0.000101755s \n",
      "\t\t\t\t\tpersist -- schema_obj(recover_info): 0.0213734910s \n",
      "\t\t\t\t\t\tGAPTIME: 3.6491e-05s \n",
      "\t\t\t\t\t\tmmlib_file_pers -- save_file: 0.0196430840s \n",
      "\t\t\t\t\t\tGAPTIME: 7.2525e-05s \n",
      "\t\t\t\t\t\tmmlib_dict_pers -- save_dict -- collection(recover_info): 0.0015939440s \n",
      "\t\t\t\t\t\tGAPTIME: 2.7447000000000003e-05s \n",
      "\t\t\t\t\tGAPTIME: 0.00037359700000000003s \n",
      "\t\t\t\t\tmmlib_dict_pers -- save_dict -- collection(model_info): 0.0028389130s \n",
      "\t\t\t\t\tGAPTIME: 4.9930000000000005e-05s \n",
      "\t\t\t\tGAPTIME: 0.00011224000000000001s \n",
      "\t\t\tGAPTIME: 1.9785e-05s \n",
      "\t\tGAPTIME: 0.0017656780000000001s \n",
      "\tGAPTIME: 3.1217e-05s \n",
      "GAPTIME: 2.3930000000000003e-05s \n",
      "\n"
     ]
    }
   ],
   "source": [
    "print(u_3_2_3_event)"
   ],
   "metadata": {
    "collapsed": false,
    "pycharm": {
     "name": "#%%\n"
    }
   }
  },
  {
   "cell_type": "code",
   "execution_count": 26,
   "outputs": [
    {
     "name": "stdout",
     "output_type": "stream",
     "text": [
      "U_3_2_4: 0.0854448360s \n",
      "GAPTIME: 6.498e-05s \n",
      "build_save_info: 0.0001211890s \n",
      "GAPTIME: 9.610000000000001e-06s \n",
      "mmlib_save_call: 0.0852410880s \n",
      "\tGAPTIME: 5.6062000000000006e-05s \n",
      "\tsave_model -- all: 0.0851701920s \n",
      "\t\tGAPTIME: 1.6845000000000002e-05s \n",
      "\t\t_save_updated_model -- all: 0.0836282920s \n",
      "\t\t\tGAPTIME: 0.00012054100000000001s \n",
      "\t\t\t_save_updated_model -- get_weights_hash_info: 0.0238352250s \n",
      "\t\t\tGAPTIME: 2.0398e-05s \n",
      "\t\t\t_save_updated_model -- generate_weights_update: 0.0288167020s \n",
      "\t\t\t\tGAPTIME: 4.1908e-05s \n",
      "\t\t\t\tmmlib_dict_pers -- recover_dict -- collection(model_info): 0.0000219010s \n",
      "\t\t\t\tGAPTIME: 0.028752893s \n",
      "\t\t\tGAPTIME: 4.7549e-05s \n",
      "\t\t\t_save_updated_model -- persist: 0.0307821240s \n",
      "\t\t\t\tGAPTIME: 3.6e-05s \n",
      "\t\t\t\tpersist -- schema_obj(model_info): 0.0307023960s \n",
      "\t\t\t\t\tGAPTIME: 0.00014023800000000002s \n",
      "\t\t\t\t\tpersist -- schema_obj(recover_info): 0.0269497960s \n",
      "\t\t\t\t\t\tGAPTIME: 7.5745e-05s \n",
      "\t\t\t\t\t\tmmlib_file_pers -- save_file: 0.0254796000s \n",
      "\t\t\t\t\t\tGAPTIME: 5.9344000000000006e-05s \n",
      "\t\t\t\t\t\tmmlib_dict_pers -- save_dict -- collection(recover_info): 0.0012717580s \n",
      "\t\t\t\t\t\tGAPTIME: 6.3349e-05s \n",
      "\t\t\t\t\tGAPTIME: 0.0007396760000000001s \n",
      "\t\t\t\t\tmmlib_dict_pers -- save_dict -- collection(model_info): 0.0028528720s \n",
      "\t\t\t\t\tGAPTIME: 1.9814e-05s \n",
      "\t\t\t\tGAPTIME: 4.3728000000000006e-05s \n",
      "\t\t\tGAPTIME: 5.753000000000001e-06s \n",
      "\t\tGAPTIME: 0.001525055s \n",
      "\tGAPTIME: 1.4834e-05s \n",
      "GAPTIME: 7.969000000000001e-06s \n",
      "\n"
     ]
    }
   ],
   "source": [
    "print(u_3_2_4_event)"
   ],
   "metadata": {
    "collapsed": false,
    "pycharm": {
     "name": "#%%\n"
    }
   }
  },
  {
   "cell_type": "code",
   "execution_count": 27,
   "outputs": [],
   "source": [
    "# Minuend - Subtrahend = difference\n",
    "def substract_event(minuend, subtrahend):\n",
    "        minuend.duration_s = minuend.duration_s - subtrahend.duration_s\n",
    "        minuend.duration_ns = minuend.duration_ns - subtrahend.duration_ns\n",
    "        if len(minuend.children) > 0 and len(subtrahend.children) > 0:\n",
    "            for c_minuend, c_subtrahend in zip(minuend.children, subtrahend.children):\n",
    "                substract_event(c_minuend, c_subtrahend)\n",
    "\n",
    "# Minuend - Subtrahend = difference\n",
    "def relative_substract_event(minuend, subtrahend):\n",
    "        minuend.duration_s = (minuend.duration_s - subtrahend.duration_s) / subtrahend.duration_s\n",
    "        minuend.duration_ns = (minuend.duration_ns - subtrahend.duration_ns) /subtrahend.duration_ns\n",
    "        if len(minuend.children) > 0 and len(subtrahend.children) > 0:\n",
    "            for c_minuend, c_subtrahend in zip(minuend.children, subtrahend.children):\n",
    "                substract_event(c_minuend, c_subtrahend)"
   ],
   "metadata": {
    "collapsed": false,
    "pycharm": {
     "name": "#%%\n"
    }
   }
  },
  {
   "cell_type": "code",
   "execution_count": 28,
   "outputs": [],
   "source": [
    "# relative_substract_event(u_3_1_2_event, u_3_1_1_event)\n",
    "# print(u_3_1_2_event)"
   ],
   "metadata": {
    "collapsed": false,
    "pycharm": {
     "name": "#%%\n"
    }
   }
  },
  {
   "cell_type": "code",
   "execution_count": 28,
   "outputs": [],
   "source": [],
   "metadata": {
    "collapsed": false,
    "pycharm": {
     "name": "#%%\n"
    }
   }
  },
  {
   "cell_type": "code",
   "execution_count": 29,
   "outputs": [
    {
     "name": "stdout",
     "output_type": "stream",
     "text": [
      "U_4: 1.7973384880s \n",
      "GAPTIME: 4.91e-05s \n",
      "recover_model-60ccab1ccaf3efdfb9539a56 -- all: 1.7958050650s \n",
      "\tGAPTIME: 0.000285036s \n",
      "\tmmlib_dict_pers -- recover_dict -- collection(model_info): 0.0000802310s \n",
      "\tGAPTIME: 0.023609383s \n",
      "\trecover_model-60ccab1ccaf3efdfb9539a56 -- all: 1.7698532400s \n",
      "\t\tGAPTIME: 0.00018063200000000001s \n",
      "\t\trecover_model -- load_model_info_rec_files: 0.0789486220s \n",
      "\t\t\tGAPTIME: 5.3886000000000006e-05s \n",
      "\t\t\tmmlib_dict_pers -- recover_dict -- collection(model_info): 0.0000372640s \n",
      "\t\t\tGAPTIME: 0.002457847s \n",
      "\t\t\tmmlib_dict_pers -- recover_dict -- collection(recover_info): 0.0001023500s \n",
      "\t\t\tGAPTIME: 0.001260814s \n",
      "\t\t\tmmlib_file_pers -- recover_file: 0.0204001590s \n",
      "\t\t\tGAPTIME: 6.1028000000000006e-05s \n",
      "\t\t\tmmlib_file_pers -- recover_file: 0.0468209910s \n",
      "\t\t\tGAPTIME: 9.7761e-05s \n",
      "\t\t\tmmlib_dict_pers -- recover_dict -- collection(environment): 0.0000472760s \n",
      "\t\t\tGAPTIME: 0.007609246s \n",
      "\t\tGAPTIME: 2.6238000000000002e-05s \n",
      "\t\trecover_model -- recover_from_info: 1.6906402590s \n",
      "\t\t\tGAPTIME: 0.084480656s \n",
      "\t\t\trecover_model -- _check_weights: 0.0264518390s \n",
      "\t\t\t\tGAPTIME: 9.4491e-05s \n",
      "\t\t\t\t_check_weights -- _all: 0.0263038690s \n",
      "\t\t\t\tGAPTIME: 5.3479e-05s \n",
      "\t\t\tGAPTIME: 6.301e-06s \n",
      "\t\t\trecover_model -- _check_env: 1.5746138150s \n",
      "\t\t\t\tGAPTIME: 2.4247e-05s \n",
      "\t\t\t\t_check_env -- _all: 1.5744487240s \n",
      "\t\t\t\tGAPTIME: 0.000140844s \n",
      "\t\t\tGAPTIME: 0.005087648s \n",
      "\t\tGAPTIME: 5.7489000000000005e-05s \n",
      "\tGAPTIME: 0.0019771750000000003s \n",
      "GAPTIME: 0.001484323s \n",
      "\n"
     ]
    }
   ],
   "source": [
    "# relative_substract_event(u_3_2_4_event, u_3_1_1_event)\n",
    "# print(u_3_2_4_event)\n",
    "tmp = resent152_example_server[0]['events'][10].children[0]\n",
    "# print(['children'][0])\n",
    "print(tmp)"
   ],
   "metadata": {
    "collapsed": false,
    "pycharm": {
     "name": "#%%\n"
    }
   }
  },
  {
   "cell_type": "code",
   "execution_count": null,
   "outputs": [],
   "source": [],
   "metadata": {
    "collapsed": false,
    "pycharm": {
     "name": "#%%\n"
    }
   }
  },
  {
   "cell_type": "code",
   "execution_count": null,
   "outputs": [],
   "source": [],
   "metadata": {
    "collapsed": false,
    "pycharm": {
     "name": "#%%\n"
    }
   }
  }
 ],
 "metadata": {
  "kernelspec": {
   "display_name": "Python 3",
   "language": "python",
   "name": "python3"
  },
  "language_info": {
   "codemirror_mode": {
    "name": "ipython",
    "version": 2
   },
   "file_extension": ".py",
   "mimetype": "text/x-python",
   "name": "python",
   "nbconvert_exporter": "python",
   "pygments_lexer": "ipython2",
   "version": "2.7.6"
  }
 },
 "nbformat": 4,
 "nbformat_minor": 0
}