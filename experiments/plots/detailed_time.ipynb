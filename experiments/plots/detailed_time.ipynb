{
 "cells": [
  {
   "cell_type": "code",
   "execution_count": null,
   "metadata": {
    "collapsed": true
   },
   "outputs": [],
   "source": []
  },
  {
   "cell_type": "code",
   "execution_count": 1,
   "outputs": [],
   "source": [
    "import matplotlib.pyplot as plt\n",
    "import numpy as np\n",
    "\n",
    "from experiments.evaluation_flow.shared import GOOGLENET, RESNET_152, MOBILENET, RESNET_18, RESNET_50, BASELINE, \\\n",
    "    PARAM_UPDATE, PARAM_UPDATE_IMPROVED, PROVENANCE\n",
    "from experiments.evaluation_flow.shared import MODELS\n",
    "from experiments.plots.util import *"
   ],
   "metadata": {
    "collapsed": false,
    "pycharm": {
     "name": "#%%\n"
    }
   }
  },
  {
   "cell_type": "code",
   "execution_count": 2,
   "outputs": [],
   "source": [
    "ROOT_LOG_DIR = '../evaluation_flow/evaluation-flow-results/results'\n",
    "VERSION = 'version'\n",
    "FINE_TUNED = 'fine-tuned'\n",
    "OUTDOOR = 'outdoor'\n",
    "FOOD = 'food'"
   ],
   "metadata": {
    "collapsed": false,
    "pycharm": {
     "name": "#%%\n"
    }
   }
  },
  {
   "cell_type": "code",
   "execution_count": 3,
   "outputs": [],
   "source": [
    "# get all file sin the directory\n",
    "all_files = all_files_in_dir(ROOT_LOG_DIR)\n",
    "node_server_files = [f for f in all_files if 'server' in f or 'node' in f]\n",
    "# for all files extract the metadata (e.g. what model and dataset is used)\n",
    "U_IDS = 'u_ids'\n",
    "\n",
    "files_and_meta = [(extract_file_meta(f), f) for f in node_server_files]\n",
    "# add a mapping: use_case -> model id\n",
    "files_and_meta = [({**f[0], **{U_IDS: use_case_ids(f[1])}}, f[1]) for f in files_and_meta]\n",
    "# add the parsed events\n",
    "files_and_meta = [({**f[0], **{EVENTS: parse_events(f[1])}}, f[1]) for f in files_and_meta]"
   ],
   "metadata": {
    "collapsed": false,
    "pycharm": {
     "name": "#%%\n"
    }
   }
  },
  {
   "cell_type": "code",
   "execution_count": 4,
   "outputs": [],
   "source": [
    "valid_joined = join_server_and_node_meta(files_and_meta)\n"
   ],
   "metadata": {
    "collapsed": false,
    "pycharm": {
     "name": "#%%\n"
    }
   }
  },
  {
   "cell_type": "code",
   "execution_count": 5,
   "outputs": [],
   "source": [
    "resent152_example_node = valid_joined[17]['node']"
   ],
   "metadata": {
    "collapsed": false,
    "pycharm": {
     "name": "#%%\n"
    }
   }
  },
  {
   "cell_type": "code",
   "execution_count": 6,
   "outputs": [],
   "source": [
    "resent152_example_events = resent152_example_node[0]['events']\n",
    "u3_events = [e for e in resent152_example_events if 'U_3' in e.use_case ]"
   ],
   "metadata": {
    "collapsed": false,
    "pycharm": {
     "name": "#%%\n"
    }
   }
  },
  {
   "cell_type": "code",
   "execution_count": 7,
   "outputs": [
    {
     "name": "stdout",
     "output_type": "stream",
     "text": [
      "U_3_2_4: 3.3992607930s \n",
      "GAPTIME: 2.564472584s \n",
      "_save_full_model -- all: 0.8132176470s \n",
      "\tGAPTIME: 0.000631624s \n",
      "\t_save_full_model -- pickle_weights: 0.2666172820s \n",
      "\tGAPTIME: 0.266848795s \n",
      "\t_save_full_model -- _get_weights_hash_info: 0.3246477230s \n",
      "\tGAPTIME: 0.324739367s \n",
      "\t_save_full_model -- persist_model_info: 0.2209898750s \n",
      "\t\tGAPTIME: 4.5661e-05s \n",
      "\t\tpersist -- schema_obj(model_info): 0.2208490290s \n",
      "\t\t\tGAPTIME: 0.000100574s \n",
      "\t\t\tpersist -- schema_obj(recover_info): 0.2124330950s \n",
      "\t\t\t\tGAPTIME: 3.7446e-05s \n",
      "\t\t\t\tmmlib_file_pers -- save_file: 0.0090931180s \n",
      "\t\t\t\tGAPTIME: 0.009150152s \n",
      "\t\t\t\tmmlib_file_pers -- save_file: 0.1996752650s \n",
      "\t\t\t\tGAPTIME: 0.19971961800000002s \n",
      "\t\t\t\tpersist -- schema_obj(environment): 0.0022507810s \n",
      "\t\t\t\t\tGAPTIME: 0.000110383s \n",
      "\t\t\t\t\tmmlib_dict_pers -- save_dict -- collection(environment): 0.0020742230s \n",
      "\t\t\t\t\tGAPTIME: 6.617500000000001e-05s \n",
      "\t\t\t\tGAPTIME: 0.002285697s \n",
      "\t\t\t\tmmlib_dict_pers -- save_dict -- collection(recover_info): 0.0011999690s \n",
      "\t\t\t\tGAPTIME: 4.0213e-05s \n",
      "\t\t\tGAPTIME: 0.21378243600000002s \n",
      "\t\t\tmmlib_dict_pers -- save_dict -- collection(model_info): 0.0069213070s \n",
      "\t\t\tGAPTIME: 4.4712e-05s \n",
      "\t\tGAPTIME: 9.5185e-05s \n",
      "\tGAPTIME: 7.986000000000001e-06s \n",
      "GAPTIME: 0.021570562s \n",
      "\n"
     ]
    }
   ],
   "source": [
    "u_3_1_1_event = u3_events[0]\n",
    "u_3_1_2_event = u3_events[1]\n",
    "u_3_2_4_event = u3_events[7]\n",
    "\n",
    "print(u_3_2_4_event)"
   ],
   "metadata": {
    "collapsed": false,
    "pycharm": {
     "name": "#%%\n"
    }
   }
  },
  {
   "cell_type": "code",
   "execution_count": 8,
   "outputs": [],
   "source": [
    "# Minuend - Subtrahend = difference\n",
    "def substract_event(minuend, subtrahend):\n",
    "        minuend.duration_s = minuend.duration_s - subtrahend.duration_s\n",
    "        minuend.duration_ns = minuend.duration_ns - subtrahend.duration_ns\n",
    "        if len(minuend.children) > 0 and len(subtrahend.children) > 0:\n",
    "            for c_minuend, c_subtrahend in zip(minuend.children, subtrahend.children):\n",
    "                substract_event(c_minuend, c_subtrahend)\n",
    "\n",
    "# Minuend - Subtrahend = difference\n",
    "def relative_substract_event(minuend, subtrahend):\n",
    "        minuend.duration_s = (minuend.duration_s - subtrahend.duration_s) / subtrahend.duration_s\n",
    "        minuend.duration_ns = (minuend.duration_ns - subtrahend.duration_ns) /subtrahend.duration_ns\n",
    "        if len(minuend.children) > 0 and len(subtrahend.children) > 0:\n",
    "            for c_minuend, c_subtrahend in zip(minuend.children, subtrahend.children):\n",
    "                substract_event(c_minuend, c_subtrahend)"
   ],
   "metadata": {
    "collapsed": false,
    "pycharm": {
     "name": "#%%\n"
    }
   }
  },
  {
   "cell_type": "code",
   "execution_count": 9,
   "outputs": [],
   "source": [
    "# relative_substract_event(u_3_1_2_event, u_3_1_1_event)\n",
    "# print(u_3_1_2_event)"
   ],
   "metadata": {
    "collapsed": false,
    "pycharm": {
     "name": "#%%\n"
    }
   }
  },
  {
   "cell_type": "code",
   "execution_count": 9,
   "outputs": [],
   "source": [],
   "metadata": {
    "collapsed": false,
    "pycharm": {
     "name": "#%%\n"
    }
   }
  },
  {
   "cell_type": "code",
   "execution_count": 10,
   "outputs": [],
   "source": [
    "# relative_substract_event(u_3_2_4_event, u_3_1_1_event)\n",
    "# print(u_3_2_4_event)\n",
    "\n"
   ],
   "metadata": {
    "collapsed": false,
    "pycharm": {
     "name": "#%%\n"
    }
   }
  }
 ],
 "metadata": {
  "kernelspec": {
   "display_name": "Python 3",
   "language": "python",
   "name": "python3"
  },
  "language_info": {
   "codemirror_mode": {
    "name": "ipython",
    "version": 2
   },
   "file_extension": ".py",
   "mimetype": "text/x-python",
   "name": "python",
   "nbconvert_exporter": "python",
   "pygments_lexer": "ipython2",
   "version": "2.7.6"
  }
 },
 "nbformat": 4,
 "nbformat_minor": 0
}