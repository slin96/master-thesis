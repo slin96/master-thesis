{
 "cells": [
  {
   "cell_type": "code",
   "execution_count": 59,
   "metadata": {
    "collapsed": true
   },
   "outputs": [],
   "source": [
    "from experiments.evaluation_flow.shared import MODELS\n",
    "from experiments.plots.util import *"
   ]
  },
  {
   "cell_type": "code",
   "execution_count": 60,
   "outputs": [
    {
     "name": "stdout",
     "output_type": "stream",
     "text": [
      "file is broken: /Users/nils/Downloads/log-dir/server--model:googlenet--approach:param_update_improved--snapshot_type:version--snapshot_dist:food--run:0.txt\n"
     ]
    }
   ],
   "source": [
    "all_files_parsed = parse_all_log_files('/Users/nils/Downloads/log-dir')\n",
    "baseline_only = filter_parsed_files(all_files_parsed, ('approach', 'param_update'))\n",
    "baseline_versions = filter_parsed_files(baseline_only, ('snapshot_type', 'version'))\n",
    "baseline_version_food = filter_parsed_files(baseline_versions, ('snapshot_dist', 'food'))\n",
    "\n",
    "baseline_version_food_server = filter_parsed_files(baseline_version_food, ('location', 'server'))\n",
    "baseline_version_food_server_0 = filter_parsed_files(baseline_version_food_server, ('run', '1'))\n",
    "\n",
    "baseline_version_food_node = filter_parsed_files(baseline_version_food, ('location', 'node'))\n",
    "baseline_version_food_node_0 = filter_parsed_files(baseline_version_food_node, ('run', '1'))\n",
    "\n",
    "save_times = {}\n",
    "\n",
    "for file in baseline_version_food_server_0:\n",
    "    meta, events = file\n",
    "    times = {}\n",
    "    for e in events:\n",
    "        if e.use_case == U_1:\n",
    "            times[U_1] = e.duration_s\n",
    "        elif e.use_case == U_2:\n",
    "            times[U_2] = e.duration_s\n",
    "    save_times[meta[MODEL]] = times\n",
    "\n",
    "for file in baseline_version_food_node_0:\n",
    "    meta, events = file\n",
    "    times = {}\n",
    "    u31_counter = 1\n",
    "    u32_counter = 1\n",
    "    for e in events:\n",
    "        if e.use_case and e.use_case.startswith(U_3_1):\n",
    "            key = \"{}_{}\".format(e.use_case, u31_counter)\n",
    "            times[key] = e.duration_s\n",
    "            u31_counter += 1\n",
    "        elif e.use_case and e.use_case.startswith(U_3_2):\n",
    "            key = \"{}_{}\".format(e.use_case, u32_counter)\n",
    "            times[key] = e.duration_s\n",
    "            u32_counter += 1\n",
    "    save_times[meta[MODEL]].update(times)"
   ],
   "metadata": {
    "collapsed": false,
    "pycharm": {
     "name": "#%%\n"
    }
   }
  },
  {
   "cell_type": "code",
   "execution_count": 61,
   "outputs": [
    {
     "name": "stdout",
     "output_type": "stream",
     "text": [
      "{'resnet18': {'U_1': 11.920199923, 'U_2': 3.9293653070000003, 'U_3_1_1_1': 3.765353166, 'U_3_1_2_2': 2.225641844, 'U_3_1_3_3': 2.193260563, 'U_3_1_4_4': 2.28998215, 'U_3_2_1_1': 2.3111301980000003, 'U_3_2_2_2': 2.3692817400000004, 'U_3_2_3_3': 2.395940529, 'U_3_2_4_4': 2.3745055070000003}, 'resnet152': {'U_1': 12.750179026000001, 'U_2': 6.6730865790000005, 'U_3_1_1_1': 6.316514398000001, 'U_3_1_2_2': 4.614683308, 'U_3_1_3_3': 4.738506303, 'U_3_1_4_4': 4.955379655000001, 'U_3_2_1_1': 4.68175462, 'U_3_2_2_2': 4.947949840000001, 'U_3_2_3_3': 4.990921109, 'U_3_2_4_4': 5.7288404790000005}, 'googlenet': {'U_1': 11.899689742000001, 'U_2': 3.91112676, 'U_3_1_1_1': 3.9311769020000003, 'U_3_1_2_2': 2.326271595, 'U_3_1_3_3': 2.437713077, 'U_3_1_4_4': 2.4026218740000003, 'U_3_2_1_1': 2.3711567010000003, 'U_3_2_2_2': 2.45912597, 'U_3_2_3_3': 2.4712748270000002, 'U_3_2_4_4': 2.472481929}, 'mobilenet': {'U_1': 11.759241305000002, 'U_2': 3.4305238960000004, 'U_3_1_1_1': 3.403657774, 'U_3_1_2_2': 1.8740536250000002, 'U_3_1_3_3': 1.927000795, 'U_3_1_4_4': 1.8891343150000002, 'U_3_2_1_1': 1.9308878260000002, 'U_3_2_2_2': 1.9362066320000002, 'U_3_2_3_3': 1.985627618, 'U_3_2_4_4': 1.979727336}, 'resnet50': {'U_1': 12.162298342000001, 'U_2': 4.694706533000001, 'U_3_1_1_1': 4.613213709, 'U_3_1_2_2': 2.9540227750000003, 'U_3_1_3_3': 3.0032701310000003, 'U_3_1_4_4': 3.0456362280000002, 'U_3_2_1_1': 3.010489165, 'U_3_2_2_2': 3.112551652, 'U_3_2_3_3': 3.1532163520000003, 'U_3_2_4_4': 3.227640451}}\n"
     ]
    }
   ],
   "source": [
    "print(save_times)"
   ],
   "metadata": {
    "collapsed": false,
    "pycharm": {
     "name": "#%%\n"
    }
   }
  },
  {
   "cell_type": "code",
   "execution_count": 62,
   "outputs": [
    {
     "data": {
      "text/plain": "<Figure size 432x288 with 1 Axes>",
      "image/png": "[encoded data removed]"
     },
     "metadata": {
      "needs_background": "light"
     },
     "output_type": "display_data"
    }
   ],
   "source": [
    "import numpy as np\n",
    "import matplotlib.pyplot as plt\n",
    "\n",
    "# set width of bars\n",
    "barWidth = 0.1\n",
    "\n",
    "bars = {}\n",
    "for m in MODELS:\n",
    "    times = save_times[m]\n",
    "    for use_case, time in times.items():\n",
    "        if use_case in bars:\n",
    "            bars[use_case].append(time)\n",
    "        else:\n",
    "            bars[use_case] = [time]\n",
    "\n",
    "# Set position of bar on X axis\n",
    "# l = len(bars[U_1])\n",
    "# print(l)\n",
    "# positions = [np.arange(l)]\n",
    "# for i in range(1, len(bars)):\n",
    "#     prev_positions = positions[-1]\n",
    "#     positions.append(prev_positions)\n",
    "\n",
    "r1 = np.arange(5)\n",
    "r2 = [x + barWidth for x in r1]\n",
    "r3 = [x + barWidth for x in r2]\n",
    "r4 = [x + barWidth for x in r3]\n",
    "r5 = [x + barWidth for x in r4]\n",
    "r6 = [x + barWidth for x in r5]\n",
    "r7 = [x + barWidth for x in r6]\n",
    "r8 = [x + barWidth for x in r7]\n",
    "r9 = [x + barWidth for x in r8]\n",
    "r10 = [x + barWidth for x in r9]\n",
    "positions = [r1, r2, r3, r4, r5, r6, r7, r8, r9, r10]\n",
    "\n",
    "colors = ['orange', 'red', 'green', 'blue', 'yellow', 'orange', 'red', 'green', 'blue', 'yellow']\n",
    "\n",
    "for position, bar, color, label in zip(positions, list(bars.values())[:], colors, list(bars.keys())[:]):\n",
    "    plt.bar(position, bar, color=color, width=barWidth, edgecolor='white', label=label)\n",
    "\n",
    "# # Add xticks on the middle of the group bars\n",
    "# plt.xlabel('group', fontweight='bold')\n",
    "# plt.xticks([r + barWidth for r in range(len(bars1))], ['A', 'B', 'C', 'D', 'E'])\n",
    "\n",
    "# Create legend & Show graphic\n",
    "plt.legend()\n",
    "plt.show()"
   ],
   "metadata": {
    "collapsed": false,
    "pycharm": {
     "name": "#%%# libraries\n"
    }
   }
  },
  {
   "cell_type": "code",
   "execution_count": 63,
   "outputs": [
    {
     "name": "stdout",
     "output_type": "stream",
     "text": [
      "U_1: 11.9201999230s \n",
      "save_model -- all: 10.2947774070s \n",
      "\t_save_full_model -- all: 10.2811216170s \n",
      "\t\t_save_full_model -- pickle_weights: 0.0860045190s \n",
      "\t\t_save_full_model -- _get_weights_hash_info: 0.0652820190s \n",
      "\t\t_save_full_model -- persist_model_info: 10.1284222410s \n",
      "\t\t\tpersist -- schema_obj(model_info): 10.1283166830s \n",
      "\t\t\t\tpersist -- schema_obj(recover_info): 10.1234719220s \n",
      "\t\t\t\t\tmmlib_file_pers -- save_file: 0.0259087680s \n",
      "\t\t\t\t\tmmlib_file_pers -- save_file: 0.0749395560s \n",
      "\t\t\t\t\tpersist -- schema_obj(environment): 10.0200059630s \n",
      "\t\t\t\t\t\tmmlib_dict_pers -- save_dict -- collection(environment): 10.0196867900s \n",
      "\t\t\t\t\tmmlib_dict_pers -- save_dict -- collection(recover_info): 0.0022744730s \n",
      "\t\t\t\tmmlib_dict_pers -- save_dict -- collection(model_info): 0.0041386300s \n",
      "\n",
      "U_2: 3.9293653070s \n",
      "save_model -- all: 2.2994507500s \n",
      "\t_save_updated_model -- all: 2.2943831870s \n",
      "\t\t_save_updated_model -- get_weights_hash_info: 0.0824844730s \n",
      "\t\t_save_updated_model -- generate_weights_update: 2.1397162930s \n",
      "\t\t\tmmlib_dict_pers -- recover_dict -- collection(model_info): 0.0000380460s \n",
      "\t\t\trecover_model-60c622b4dfee2b0edc6be205 -- all: 2.0684656110s \n",
      "\t\t\t\tmmlib_dict_pers -- recover_dict -- collection(model_info): 0.0000267400s \n",
      "\t\t\t\trecover_model-60c622b4dfee2b0edc6be205 -- all: 2.0599828400s \n",
      "\t\t\t\t\trecover_model -- load_model_info_rec_files: 0.1152480840s \n",
      "\t\t\t\t\t\tmmlib_dict_pers -- recover_dict -- collection(model_info): 0.0000156380s \n",
      "\t\t\t\t\t\tmmlib_dict_pers -- recover_dict -- collection(recover_info): 0.0000278190s \n",
      "\t\t\t\t\t\tmmlib_file_pers -- recover_file: 0.0182629750s \n",
      "\t\t\t\t\t\tmmlib_file_pers -- recover_file: 0.0919825840s \n",
      "\t\t\t\t\t\tmmlib_dict_pers -- recover_dict -- collection(environment): 0.0000474450s \n",
      "\t\t\t\t\trecover_model -- recover_from_info: 1.9445615860s \n",
      "\t\t\t\t\t\trecover_model -- _check_weights: 0.0743471060s \n",
      "\t\t\t\t\t\trecover_model -- _check_env: 1.6707767150s \n",
      "\t\t_save_updated_model -- persist: 0.0716103590s \n",
      "\t\t\tpersist -- schema_obj(model_info): 0.0714956050s \n",
      "\t\t\t\tpersist -- schema_obj(recover_info): 0.0689189410s \n",
      "\t\t\t\t\tmmlib_file_pers -- save_file: 0.0658879310s \n",
      "\t\t\t\t\tmmlib_dict_pers -- save_dict -- collection(recover_info): 0.0027696430s \n",
      "\t\t\t\tmmlib_dict_pers -- save_dict -- collection(model_info): 0.0016766790s \n",
      "\n"
     ]
    }
   ],
   "source": [
    "meta, events = baseline_version_food_server_0[0]\n",
    "e_u1 = events[0]\n",
    "e_u2 = events[5]\n",
    "print(e_u1)\n",
    "print(e_u2)\n",
    "\n"
   ],
   "metadata": {
    "collapsed": false,
    "pycharm": {
     "name": "#%%\n"
    }
   }
  },
  {
   "cell_type": "code",
   "execution_count": 64,
   "outputs": [],
   "source": [
    "meta, events = extract_event_and_and_meta('/Users/nils/Downloads/test-env-log.txt')"
   ],
   "metadata": {
    "collapsed": false,
    "pycharm": {
     "name": "#%%\n"
    }
   }
  },
  {
   "cell_type": "code",
   "execution_count": 65,
   "outputs": [
    {
     "name": "stdout",
     "output_type": "stream",
     "text": [
      "_save_full_model -- all: 0.3082060000s \n",
      "_save_full_model -- pickle_weights: 0.0953320000s \n",
      "_save_full_model -- _get_weights_hash_info: 0.0698870000s \n",
      "_save_full_model -- persist_model_info: 0.1413980000s \n",
      "\tpersist -- schema_obj(model_info): 0.1410610000s \n",
      "\t\tpersist -- schema_obj(recover_info): 0.1235970000s \n",
      "\t\t\tmmlib_file_pers -- save_file: 0.0016580000s \n",
      "\t\t\tmmlib_file_pers -- save_file: 0.0814890000s \n",
      "\t\t\tpersist -- schema_obj(environment): 0.0247970000s \n",
      "\t\t\t\tmmlib_dict_pers -- save_dict -- collection(environment): 0.0242560000s \n",
      "\t\t\tmmlib_dict_pers -- save_dict -- collection(recover_info): 0.0142790000s \n",
      "\t\tmmlib_dict_pers -- save_dict -- collection(model_info): 0.0166370000s \n",
      "\n",
      "recover_model-60c71b6cafd8052e3423f911 -- all: 0.9969300000s \n",
      "recover_model -- load_model_info_rec_files: 0.0877010000s \n",
      "\tmmlib_dict_pers -- recover_dict -- collection(model_info): 0.0001530000s \n",
      "\tmmlib_dict_pers -- recover_dict -- collection(recover_info): 0.0002010000s \n",
      "\tmmlib_file_pers -- recover_file: 0.0006990000s \n",
      "\tmmlib_file_pers -- recover_file: 0.0710580000s \n",
      "\tmmlib_dict_pers -- recover_dict -- collection(environment): 0.0001850000s \n",
      "recover_model -- recover_from_info: 0.9084250000s \n",
      "\trecover_model -- _check_weights: 0.0683190000s \n",
      "\trecover_model -- _check_env: 0.6462110000s \n",
      "\n"
     ]
    }
   ],
   "source": [
    "for e in events:\n",
    "    print(e)"
   ],
   "metadata": {
    "collapsed": false,
    "pycharm": {
     "name": "#%%\n"
    }
   }
  },
  {
   "cell_type": "code",
   "execution_count": 65,
   "outputs": [],
   "source": [],
   "metadata": {
    "collapsed": false,
    "pycharm": {
     "name": "#%%\n"
    }
   }
  }
 ],
 "metadata": {
  "kernelspec": {
   "display_name": "Python 3",
   "language": "python",
   "name": "python3"
  },
  "language_info": {
   "codemirror_mode": {
    "name": "ipython",
    "version": 2
   },
   "file_extension": ".py",
   "mimetype": "text/x-python",
   "name": "python",
   "nbconvert_exporter": "python",
   "pygments_lexer": "ipython2",
   "version": "2.7.6"
  }
 },
 "nbformat": 4,
 "nbformat_minor": 0
}