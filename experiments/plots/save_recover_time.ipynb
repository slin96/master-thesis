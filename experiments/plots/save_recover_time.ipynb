{
 "cells": [
  {
   "cell_type": "code",
   "execution_count": 12,
   "metadata": {
    "collapsed": true
   },
   "outputs": [],
   "source": [
    "from experiments.evaluation_flow.shared import MODELS\n",
    "from experiments.plots.util import *"
   ]
  },
  {
   "cell_type": "code",
   "execution_count": 13,
   "outputs": [
    {
     "name": "stdout",
     "output_type": "stream",
     "text": [
      "file is broken: /Users/nils/Downloads/log-dir/server--model:googlenet--approach:param_update_improved--snapshot_type:version--snapshot_dist:food--run:0.txt\n"
     ]
    }
   ],
   "source": [
    "all_files_parsed = parse_all_log_files('/Users/nils/Downloads/log-dir')\n",
    "baseline_only = filter_parsed_files(all_files_parsed, ('approach', 'baseline'))\n",
    "baseline_versions = filter_parsed_files(baseline_only, ('snapshot_type', 'version'))\n",
    "baseline_version_food = filter_parsed_files(baseline_versions, ('snapshot_dist', 'food'))\n",
    "\n",
    "baseline_version_food_server = filter_parsed_files(baseline_version_food, ('location', 'server'))\n",
    "baseline_version_food_server_0 = filter_parsed_files(baseline_version_food_server, ('run', '0'))\n",
    "\n",
    "baseline_version_food_node = filter_parsed_files(baseline_version_food, ('location', 'node'))\n",
    "baseline_version_food_node_0 = filter_parsed_files(baseline_version_food_node, ('run', '1'))\n",
    "\n",
    "save_times = {}\n",
    "\n",
    "for file in baseline_version_food_server_0:\n",
    "    meta, events = file\n",
    "    times = {}\n",
    "    for e in events:\n",
    "        if e.use_case == U_1:\n",
    "            times[U_1] = e.duration_s\n",
    "        elif e.use_case == U_2:\n",
    "            times[U_2] = e.duration_s\n",
    "    save_times[meta[MODEL]] = times\n",
    "\n",
    "for file in baseline_version_food_node_0:\n",
    "    meta, events = file\n",
    "    times = {}\n",
    "    u31_counter = 1\n",
    "    u32_counter = 1\n",
    "    for e in events:\n",
    "        if e.use_case and e.use_case.startswith(U_3_1):\n",
    "            key = \"{}_{}\".format(e.use_case, u31_counter)\n",
    "            times[key] = e.duration_s\n",
    "            u31_counter += 1\n",
    "        elif e.use_case and e.use_case.startswith(U_3_2):\n",
    "            key = \"{}_{}\".format(e.use_case, u32_counter)\n",
    "            times[key] = e.duration_s\n",
    "            u32_counter += 1\n",
    "    save_times[meta[MODEL]].update(times)"
   ],
   "metadata": {
    "collapsed": false,
    "pycharm": {
     "name": "#%%\n"
    }
   }
  },
  {
   "cell_type": "code",
   "execution_count": 14,
   "outputs": [
    {
     "name": "stdout",
     "output_type": "stream",
     "text": [
      "{'resnet152': {'U_1': 12.787701155, 'U_2': 2.7725080120000003, 'U_3_1_1_1': 2.6951335170000004, 'U_3_1_2_2': 2.927743672, 'U_3_1_3_3': 2.8929273340000004, 'U_3_1_4_4': 2.9447655420000003, 'U_3_2_1_1': 3.0245889900000003, 'U_3_2_2_2': 3.055462422, 'U_3_2_3_3': 3.237782832, 'U_3_2_4_4': 3.194681457}, 'mobilenet': {'U_1': 11.76404119, 'U_2': 1.691511478, 'U_3_1_1_1': 1.6623781260000001, 'U_3_1_2_2': 1.6708560060000002, 'U_3_1_3_3': 1.682609108, 'U_3_1_4_4': 1.719956284, 'U_3_2_1_1': 1.7585348710000002, 'U_3_2_2_2': 1.7696120270000002, 'U_3_2_3_3': 1.7732378100000001, 'U_3_2_4_4': 1.753987605}, 'resnet50': {'U_1': 12.185344464, 'U_2': 2.096717371, 'U_3_1_1_1': 2.07856303, 'U_3_1_2_2': 2.137121619, 'U_3_1_3_3': 2.221249798, 'U_3_1_4_4': 2.280966434, 'U_3_2_1_1': 2.356307644, 'U_3_2_2_2': 2.395022134, 'U_3_2_3_3': 2.375022334, 'U_3_2_4_4': 2.433422391}, 'googlenet': {'U_1': 11.877562383, 'U_2': 1.8627877890000002, 'U_3_1_1_1': 1.826154483, 'U_3_1_2_2': 1.8127797550000002, 'U_3_1_3_3': 1.80025238, 'U_3_1_4_4': 1.83856546, 'U_3_2_1_1': 1.9222449860000002, 'U_3_2_2_2': 1.873195761, 'U_3_2_3_3': 1.9446884590000002, 'U_3_2_4_4': 1.937810687}, 'resnet18': {'U_1': 11.949667897000001, 'U_2': 1.8336175060000002, 'U_3_1_1_1': 1.8222192560000001, 'U_3_1_2_2': 1.8512540290000001, 'U_3_1_3_3': 1.8767969020000002, 'U_3_1_4_4': 1.918678794, 'U_3_2_1_1': 1.973688319, 'U_3_2_2_2': 1.992626395, 'U_3_2_3_3': 2.0214165420000003, 'U_3_2_4_4': 2.048399304}}\n"
     ]
    }
   ],
   "source": [
    "print(save_times)"
   ],
   "metadata": {
    "collapsed": false,
    "pycharm": {
     "name": "#%%\n"
    }
   }
  },
  {
   "cell_type": "code",
   "execution_count": 25,
   "outputs": [
    {
     "data": {
      "text/plain": "<Figure size 432x288 with 1 Axes>",
      "image/png": "[encoded data removed]"
     },
     "metadata": {
      "needs_background": "light"
     },
     "output_type": "display_data"
    }
   ],
   "source": [
    "import numpy as np\n",
    "import matplotlib.pyplot as plt\n",
    "\n",
    "# set width of bars\n",
    "barWidth = 0.1\n",
    "\n",
    "bars = {}\n",
    "for m in MODELS:\n",
    "    times = save_times[m]\n",
    "    for use_case, time in times.items():\n",
    "        if use_case in bars:\n",
    "            bars[use_case].append(time)\n",
    "        else:\n",
    "            bars[use_case] = [time]\n",
    "\n",
    "# Set position of bar on X axis\n",
    "# l = len(bars[U_1])\n",
    "# print(l)\n",
    "# positions = [np.arange(l)]\n",
    "# for i in range(1, len(bars)):\n",
    "#     prev_positions = positions[-1]\n",
    "#     positions.append(prev_positions)\n",
    "\n",
    "r1 = np.arange(5)\n",
    "r2 = [x + barWidth for x in r1]\n",
    "r3 = [x + barWidth for x in r2]\n",
    "r4 = [x + barWidth for x in r3]\n",
    "r5 = [x + barWidth for x in r4]\n",
    "r6 = [x + barWidth for x in r5]\n",
    "r7 = [x + barWidth for x in r6]\n",
    "r8 = [x + barWidth for x in r7]\n",
    "r9 = [x + barWidth for x in r8]\n",
    "r10 = [x + barWidth for x in r9]\n",
    "positions = [r1, r2, r3, r4, r5, r6, r7, r8, r9, r10]\n",
    "\n",
    "colors = ['orange', 'red', 'green', 'blue', 'yellow', 'orange', 'red', 'green', 'blue', 'yellow']\n",
    "\n",
    "for position, bar, color, label in zip(positions, bars.values(), colors, bars.keys()):\n",
    "    plt.bar(position, bar, color=color, width=barWidth, edgecolor='white', label=label)\n",
    "\n",
    "# # Add xticks on the middle of the group bars\n",
    "# plt.xlabel('group', fontweight='bold')\n",
    "# plt.xticks([r + barWidth for r in range(len(bars1))], ['A', 'B', 'C', 'D', 'E'])\n",
    "\n",
    "# Create legend & Show graphic\n",
    "plt.legend()\n",
    "plt.show()"
   ],
   "metadata": {
    "collapsed": false,
    "pycharm": {
     "name": "#%%# libraries\n"
    }
   }
  },
  {
   "cell_type": "code",
   "execution_count": null,
   "outputs": [],
   "source": [],
   "metadata": {
    "collapsed": false,
    "pycharm": {
     "name": "#%%\n"
    }
   }
  }
 ],
 "metadata": {
  "kernelspec": {
   "display_name": "Python 3",
   "language": "python",
   "name": "python3"
  },
  "language_info": {
   "codemirror_mode": {
    "name": "ipython",
    "version": 2
   },
   "file_extension": ".py",
   "mimetype": "text/x-python",
   "name": "python",
   "nbconvert_exporter": "python",
   "pygments_lexer": "ipython2",
   "version": "2.7.6"
  }
 },
 "nbformat": 4,
 "nbformat_minor": 0
}