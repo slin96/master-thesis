{
 "cells": [
  {
   "cell_type": "code",
   "execution_count": 15,
   "metadata": {
    "collapsed": true
   },
   "outputs": [],
   "source": [
    "from experiments.evaluation_flow.shared import MODELS\n",
    "from experiments.plots.util import *"
   ]
  },
  {
   "cell_type": "code",
   "execution_count": 16,
   "outputs": [
    {
     "name": "stdout",
     "output_type": "stream",
     "text": [
      "file is broken: /Users/nils/Downloads/log-dir/server--model:googlenet--approach:param_update_improved--snapshot_type:version--snapshot_dist:food--run:0.txt\n"
     ]
    }
   ],
   "source": [
    "all_files_parsed = parse_all_log_files('/Users/nils/Downloads/log-dir')\n",
    "baseline_only = filter_parsed_files(all_files_parsed, ('approach', 'param_update_improved'))\n",
    "baseline_versions = filter_parsed_files(baseline_only, ('snapshot_type', 'fine-tuned'))\n",
    "baseline_version_food = filter_parsed_files(baseline_versions, ('snapshot_dist', 'food'))\n",
    "\n",
    "baseline_version_food_server = filter_parsed_files(baseline_version_food, ('location', 'server'))\n",
    "baseline_version_food_server_0 = filter_parsed_files(baseline_version_food_server, ('run', '1'))\n",
    "\n",
    "baseline_version_food_node = filter_parsed_files(baseline_version_food, ('location', 'node'))\n",
    "baseline_version_food_node_0 = filter_parsed_files(baseline_version_food_node, ('run', '1'))\n",
    "\n",
    "save_times = {}\n",
    "\n",
    "for file in baseline_version_food_server_0:\n",
    "    meta, events = file\n",
    "    times = {}\n",
    "    for e in events:\n",
    "        if e.use_case == U_1:\n",
    "            times[U_1] = e.duration_s\n",
    "        elif e.use_case == U_2:\n",
    "            times[U_2] = e.duration_s\n",
    "    save_times[meta[MODEL]] = times\n",
    "\n",
    "for file in baseline_version_food_node_0:\n",
    "    meta, events = file\n",
    "    times = {}\n",
    "    u31_counter = 1\n",
    "    u32_counter = 1\n",
    "    for e in events:\n",
    "        if e.use_case and e.use_case.startswith(U_3_1):\n",
    "            key = \"{}_{}\".format(e.use_case, u31_counter)\n",
    "            times[key] = e.duration_s\n",
    "            u31_counter += 1\n",
    "        elif e.use_case and e.use_case.startswith(U_3_2):\n",
    "            key = \"{}_{}\".format(e.use_case, u32_counter)\n",
    "            times[key] = e.duration_s\n",
    "            u32_counter += 1\n",
    "    save_times[meta[MODEL]].update(times)"
   ],
   "metadata": {
    "collapsed": false,
    "pycharm": {
     "name": "#%%\n"
    }
   }
  },
  {
   "cell_type": "code",
   "execution_count": 17,
   "outputs": [
    {
     "name": "stdout",
     "output_type": "stream",
     "text": [
      "{'resnet152': {'U_1': 12.864541107, 'U_2': 2.5153533620000004, 'U_3_1_1_1': 2.5157553260000003, 'U_3_1_2_2': 2.5171916640000003, 'U_3_1_3_3': 2.6093155070000003, 'U_3_1_4_4': 2.675895494, 'U_3_2_1_1': 2.7711115630000003, 'U_3_2_2_2': 2.8671262200000003, 'U_3_2_3_3': 2.844729145, 'U_3_2_4_4': 2.916391421}, 'mobilenet': {'U_1': 11.750061402, 'U_2': 1.690952542, 'U_3_1_1_1': 1.671979346, 'U_3_1_2_2': 1.712733421, 'U_3_1_3_3': 1.674165955, 'U_3_1_4_4': 1.681848465, 'U_3_2_1_1': 1.715614403, 'U_3_2_2_2': 1.712115854, 'U_3_2_3_3': 1.7446224890000002, 'U_3_2_4_4': 1.735162609}, 'googlenet': {'U_1': 11.857429604, 'U_2': 1.8211400340000001, 'U_3_1_1_1': 1.7912895640000002, 'U_3_1_2_2': 1.8132120230000002, 'U_3_1_3_3': 1.815817398, 'U_3_1_4_4': 1.8325440860000002, 'U_3_2_1_1': 1.8797150820000001, 'U_3_2_2_2': 1.8588923810000002, 'U_3_2_3_3': 1.879896645, 'U_3_2_4_4': 1.9463190250000002}, 'resnet50': {'U_1': 12.167078538, 'U_2': 2.033101681, 'U_3_1_1_1': 2.0053810160000003, 'U_3_1_2_2': 2.053746082, 'U_3_1_3_3': 2.09554249, 'U_3_1_4_4': 2.1474702750000003, 'U_3_2_1_1': 2.229916476, 'U_3_2_2_2': 2.273565254, 'U_3_2_3_3': 2.2671096840000002, 'U_3_2_4_4': 2.300685316}, 'resnet18': {'U_1': 11.931917728, 'U_2': 1.840126549, 'U_3_1_1_1': 1.808671531, 'U_3_1_2_2': 1.8187945570000001, 'U_3_1_3_3': 1.842486, 'U_3_1_4_4': 1.883006211, 'U_3_2_1_1': 1.898072844, 'U_3_2_2_2': 1.9491269610000002, 'U_3_2_3_3': 1.970475557, 'U_3_2_4_4': 1.9791733610000002}}\n"
     ]
    }
   ],
   "source": [
    "print(save_times)"
   ],
   "metadata": {
    "collapsed": false,
    "pycharm": {
     "name": "#%%\n"
    }
   }
  },
  {
   "cell_type": "code",
   "execution_count": 18,
   "outputs": [
    {
     "data": {
      "text/plain": "<Figure size 432x288 with 1 Axes>",
      "image/png": "[encoded data removed]"
     },
     "metadata": {
      "needs_background": "light"
     },
     "output_type": "display_data"
    }
   ],
   "source": [
    "import numpy as np\n",
    "import matplotlib.pyplot as plt\n",
    "\n",
    "# set width of bars\n",
    "barWidth = 0.1\n",
    "\n",
    "bars = {}\n",
    "for m in MODELS:\n",
    "    times = save_times[m]\n",
    "    for use_case, time in times.items():\n",
    "        if use_case in bars:\n",
    "            bars[use_case].append(time)\n",
    "        else:\n",
    "            bars[use_case] = [time]\n",
    "\n",
    "# Set position of bar on X axis\n",
    "# l = len(bars[U_1])\n",
    "# print(l)\n",
    "# positions = [np.arange(l)]\n",
    "# for i in range(1, len(bars)):\n",
    "#     prev_positions = positions[-1]\n",
    "#     positions.append(prev_positions)\n",
    "\n",
    "r1 = np.arange(5)\n",
    "r2 = [x + barWidth for x in r1]\n",
    "r3 = [x + barWidth for x in r2]\n",
    "r4 = [x + barWidth for x in r3]\n",
    "r5 = [x + barWidth for x in r4]\n",
    "r6 = [x + barWidth for x in r5]\n",
    "r7 = [x + barWidth for x in r6]\n",
    "r8 = [x + barWidth for x in r7]\n",
    "r9 = [x + barWidth for x in r8]\n",
    "r10 = [x + barWidth for x in r9]\n",
    "positions = [r1, r2, r3, r4, r5, r6, r7, r8, r9, r10]\n",
    "\n",
    "colors = ['orange', 'red', 'green', 'blue', 'yellow', 'orange', 'red', 'green', 'blue', 'yellow']\n",
    "\n",
    "for position, bar, color, label in zip(positions, list(bars.values())[:], colors, list(bars.keys())[:]):\n",
    "    plt.bar(position, bar, color=color, width=barWidth, edgecolor='white', label=label)\n",
    "\n",
    "# # Add xticks on the middle of the group bars\n",
    "# plt.xlabel('group', fontweight='bold')\n",
    "# plt.xticks([r + barWidth for r in range(len(bars1))], ['A', 'B', 'C', 'D', 'E'])\n",
    "\n",
    "# Create legend & Show graphic\n",
    "plt.legend()\n",
    "plt.show()"
   ],
   "metadata": {
    "collapsed": false,
    "pycharm": {
     "name": "#%%# libraries\n"
    }
   }
  },
  {
   "cell_type": "code",
   "execution_count": 18,
   "outputs": [],
   "source": [],
   "metadata": {
    "collapsed": false,
    "pycharm": {
     "name": "#%%\n"
    }
   }
  }
 ],
 "metadata": {
  "kernelspec": {
   "display_name": "Python 3",
   "language": "python",
   "name": "python3"
  },
  "language_info": {
   "codemirror_mode": {
    "name": "ipython",
    "version": 2
   },
   "file_extension": ".py",
   "mimetype": "text/x-python",
   "name": "python",
   "nbconvert_exporter": "python",
   "pygments_lexer": "ipython2",
   "version": "2.7.6"
  }
 },
 "nbformat": 4,
 "nbformat_minor": 0
}