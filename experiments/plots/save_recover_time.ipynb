{
 "cells": [
  {
   "cell_type": "code",
   "execution_count": 33,
   "metadata": {
    "collapsed": true
   },
   "outputs": [],
   "source": [
    "from experiments.evaluation_flow.shared import MODELS\n",
    "from experiments.plots.util import *"
   ]
  },
  {
   "cell_type": "code",
   "execution_count": 34,
   "outputs": [
    {
     "name": "stdout",
     "output_type": "stream",
     "text": [
      "file is broken: /Users/nils/Downloads/log-dir/server--model:googlenet--approach:param_update_improved--snapshot_type:version--snapshot_dist:food--run:0.txt\n"
     ]
    }
   ],
   "source": [
    "all_files_parsed = parse_all_log_files('/Users/nils/Downloads/log-dir')\n",
    "baseline_only = filter_parsed_files(all_files_parsed, ('approach', 'baseline'))\n",
    "baseline_versions = filter_parsed_files(baseline_only, ('snapshot_type', 'fine-tuned'))\n",
    "baseline_version_food = filter_parsed_files(baseline_versions, ('snapshot_dist', 'food'))\n",
    "\n",
    "baseline_version_food_server = filter_parsed_files(baseline_version_food, ('location', 'server'))\n",
    "baseline_version_food_server_0 = filter_parsed_files(baseline_version_food_server, ('run', '1'))\n",
    "\n",
    "baseline_version_food_node = filter_parsed_files(baseline_version_food, ('location', 'node'))\n",
    "baseline_version_food_node_0 = filter_parsed_files(baseline_version_food_node, ('run', '1'))\n",
    "\n",
    "save_times = {}\n",
    "\n",
    "for file in baseline_version_food_server_0:\n",
    "    meta, events = file\n",
    "    times = {}\n",
    "    for e in events:\n",
    "        if e.use_case == U_1:\n",
    "            times[U_1] = e.duration_s\n",
    "        elif e.use_case == U_2:\n",
    "            times[U_2] = e.duration_s\n",
    "    save_times[meta[MODEL]] = times\n",
    "\n",
    "for file in baseline_version_food_node_0:\n",
    "    meta, events = file\n",
    "    times = {}\n",
    "    u31_counter = 1\n",
    "    u32_counter = 1\n",
    "    for e in events:\n",
    "        if e.use_case and e.use_case.startswith(U_3_1):\n",
    "            key = \"{}_{}\".format(e.use_case, u31_counter)\n",
    "            times[key] = e.duration_s\n",
    "            u31_counter += 1\n",
    "        elif e.use_case and e.use_case.startswith(U_3_2):\n",
    "            key = \"{}_{}\".format(e.use_case, u32_counter)\n",
    "            times[key] = e.duration_s\n",
    "            u32_counter += 1\n",
    "    save_times[meta[MODEL]].update(times)"
   ],
   "metadata": {
    "collapsed": false,
    "pycharm": {
     "name": "#%%\n"
    }
   }
  },
  {
   "cell_type": "code",
   "execution_count": 35,
   "outputs": [
    {
     "name": "stdout",
     "output_type": "stream",
     "text": [
      "{'googlenet': {'U_1': 11.880682552000001, 'U_2': 1.8830384820000001, 'U_3_1_1_1': 1.8271134370000002, 'U_3_1_2_2': 1.811026092, 'U_3_1_3_3': 1.8670316470000001, 'U_3_1_4_4': 1.8646027850000002, 'U_3_2_1_1': 1.91464333, 'U_3_2_2_2': 1.890809221, 'U_3_2_3_3': 1.9369131970000002, 'U_3_2_4_4': 1.928661568}, 'resnet18': {'U_1': 11.917529002, 'U_2': 1.922617905, 'U_3_1_1_1': 1.882286318, 'U_3_1_2_2': 1.933498855, 'U_3_1_3_3': 1.9423652160000002, 'U_3_1_4_4': 1.935279677, 'U_3_2_1_1': 2.018406864, 'U_3_2_2_2': 2.0210485250000003, 'U_3_2_3_3': 2.064824043, 'U_3_2_4_4': 2.101403286}, 'mobilenet': {'U_1': 11.777751464000001, 'U_2': 1.71836794, 'U_3_1_1_1': 1.6849537700000001, 'U_3_1_2_2': 1.702496518, 'U_3_1_3_3': 1.719161919, 'U_3_1_4_4': 1.735316172, 'U_3_2_1_1': 1.7521111, 'U_3_2_2_2': 1.739205109, 'U_3_2_3_3': 1.7493808590000002, 'U_3_2_4_4': 1.7608791190000002}, 'resnet152': {'U_1': 12.963334486, 'U_2': 2.9445510660000003, 'U_3_1_1_1': 2.874209569, 'U_3_1_2_2': 2.9854655450000003, 'U_3_1_3_3': 3.0318400330000004, 'U_3_1_4_4': 3.118575061, 'U_3_2_1_1': 3.119713291, 'U_3_2_2_2': 3.2695623730000003, 'U_3_2_3_3': 3.277937167, 'U_3_2_4_4': 3.324921884}, 'resnet50': {'U_1': 12.111080025000001, 'U_2': 2.191317649, 'U_3_1_1_1': 2.204439439, 'U_3_1_2_2': 2.2561848860000002, 'U_3_1_3_3': 2.272295348, 'U_3_1_4_4': 2.655504793, 'U_3_2_1_1': 2.4158955570000002, 'U_3_2_2_2': 2.434700935, 'U_3_2_3_3': 2.4093738890000003, 'U_3_2_4_4': 2.4800086030000004}}\n"
     ]
    }
   ],
   "source": [
    "print(save_times)"
   ],
   "metadata": {
    "collapsed": false,
    "pycharm": {
     "name": "#%%\n"
    }
   }
  },
  {
   "cell_type": "code",
   "execution_count": 36,
   "outputs": [
    {
     "data": {
      "text/plain": "<Figure size 432x288 with 1 Axes>",
      "image/png": "[encoded data removed]"
     },
     "metadata": {
      "needs_background": "light"
     },
     "output_type": "display_data"
    }
   ],
   "source": [
    "import numpy as np\n",
    "import matplotlib.pyplot as plt\n",
    "\n",
    "# set width of bars\n",
    "barWidth = 0.1\n",
    "\n",
    "bars = {}\n",
    "for m in MODELS:\n",
    "    times = save_times[m]\n",
    "    for use_case, time in times.items():\n",
    "        if use_case in bars:\n",
    "            bars[use_case].append(time)\n",
    "        else:\n",
    "            bars[use_case] = [time]\n",
    "\n",
    "# Set position of bar on X axis\n",
    "# l = len(bars[U_1])\n",
    "# print(l)\n",
    "# positions = [np.arange(l)]\n",
    "# for i in range(1, len(bars)):\n",
    "#     prev_positions = positions[-1]\n",
    "#     positions.append(prev_positions)\n",
    "\n",
    "r1 = np.arange(5)\n",
    "r2 = [x + barWidth for x in r1]\n",
    "r3 = [x + barWidth for x in r2]\n",
    "r4 = [x + barWidth for x in r3]\n",
    "r5 = [x + barWidth for x in r4]\n",
    "r6 = [x + barWidth for x in r5]\n",
    "r7 = [x + barWidth for x in r6]\n",
    "r8 = [x + barWidth for x in r7]\n",
    "r9 = [x + barWidth for x in r8]\n",
    "r10 = [x + barWidth for x in r9]\n",
    "positions = [r1, r2, r3, r4, r5, r6, r7, r8, r9, r10]\n",
    "\n",
    "colors = ['orange', 'red', 'green', 'blue', 'yellow', 'orange', 'red', 'green', 'blue', 'yellow']\n",
    "\n",
    "for position, bar, color, label in zip(positions, list(bars.values())[:], colors, list(bars.keys())[:]):\n",
    "    plt.bar(position, bar, color=color, width=barWidth, edgecolor='white', label=label)\n",
    "\n",
    "# # Add xticks on the middle of the group bars\n",
    "# plt.xlabel('group', fontweight='bold')\n",
    "# plt.xticks([r + barWidth for r in range(len(bars1))], ['A', 'B', 'C', 'D', 'E'])\n",
    "\n",
    "# Create legend & Show graphic\n",
    "plt.legend()\n",
    "plt.show()"
   ],
   "metadata": {
    "collapsed": false,
    "pycharm": {
     "name": "#%%# libraries\n"
    }
   }
  },
  {
   "cell_type": "code",
   "execution_count": 37,
   "outputs": [
    {
     "name": "stdout",
     "output_type": "stream",
     "text": [
      "U_1: 11.8806825520s \n",
      "_save_full_model -- all: 10.2024775140s \n",
      "\t_save_full_model -- pickle_weights: 0.0525675160s \n",
      "\t_save_full_model -- _get_weights_hash_info: 0.0392311020s \n",
      "\t_save_full_model -- persist_model_info: 10.1092519620s \n",
      "\t\tpersist -- schema_obj(model_info): 10.1090806650s \n",
      "\t\t\tpersist -- schema_obj(recover_info): 10.0997528910s \n",
      "\t\t\t\tmmlib_file_pers -- save_file: 0.0216881000s \n",
      "\t\t\t\tmmlib_file_pers -- save_file: 0.0564565860s \n",
      "\t\t\t\tpersist -- schema_obj(environment): 10.0191595150s \n",
      "\t\t\t\t\tmmlib_dict_pers -- save_dict -- collection(environment): 10.0189477380s \n",
      "\t\t\t\tmmlib_dict_pers -- save_dict -- collection(recover_info): 0.0021978190s \n",
      "\t\t\tmmlib_dict_pers -- save_dict -- collection(model_info): 0.0077264880s \n",
      "\n",
      "U_2: 1.8830384820s \n",
      "_save_full_model -- all: 0.1936756490s \n",
      "\t_save_full_model -- pickle_weights: 0.0626255630s \n",
      "\t_save_full_model -- _get_weights_hash_info: 0.0393848110s \n",
      "\t_save_full_model -- persist_model_info: 0.0908654000s \n",
      "\t\tpersist -- schema_obj(model_info): 0.0907243030s \n",
      "\t\t\tpersist -- schema_obj(recover_info): 0.0827303060s \n",
      "\t\t\t\tmmlib_file_pers -- save_file: 0.0328113100s \n",
      "\t\t\t\tmmlib_file_pers -- save_file: 0.0461840950s \n",
      "\t\t\t\tpersist -- schema_obj(environment): 0.0022626350s \n",
      "\t\t\t\t\tmmlib_dict_pers -- save_dict -- collection(environment): 0.0020905070s \n",
      "\t\t\t\tmmlib_dict_pers -- save_dict -- collection(recover_info): 0.0012485470s \n",
      "\t\t\tmmlib_dict_pers -- save_dict -- collection(model_info): 0.0067056520s \n",
      "\n"
     ]
    }
   ],
   "source": [
    "meta, events = baseline_version_food_server_0[0]\n",
    "e_u1 = events[0]\n",
    "e_u2 = events[5]\n",
    "print(e_u1)\n",
    "print(e_u2)\n",
    "\n"
   ],
   "metadata": {
    "collapsed": false,
    "pycharm": {
     "name": "#%%\n"
    }
   }
  },
  {
   "cell_type": "code",
   "execution_count": 37,
   "outputs": [],
   "source": [],
   "metadata": {
    "collapsed": false,
    "pycharm": {
     "name": "#%%\n"
    }
   }
  }
 ],
 "metadata": {
  "kernelspec": {
   "display_name": "Python 3",
   "language": "python",
   "name": "python3"
  },
  "language_info": {
   "codemirror_mode": {
    "name": "ipython",
    "version": 2
   },
   "file_extension": ".py",
   "mimetype": "text/x-python",
   "name": "python",
   "nbconvert_exporter": "python",
   "pygments_lexer": "ipython2",
   "version": "2.7.6"
  }
 },
 "nbformat": 4,
 "nbformat_minor": 0
}