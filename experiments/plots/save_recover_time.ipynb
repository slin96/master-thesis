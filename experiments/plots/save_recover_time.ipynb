{
 "cells": [
  {
   "cell_type": "code",
   "execution_count": 1,
   "outputs": [],
   "source": [
    "import matplotlib.pyplot as plt\n",
    "import numpy as np\n",
    "\n",
    "from experiments.evaluation_flow.shared import GOOGLENET, RESNET_152, MOBILENET, RESNET_18, RESNET_50, BASELINE\n",
    "from experiments.evaluation_flow.shared import MODELS\n",
    "from experiments.plots.util import *"
   ],
   "metadata": {
    "collapsed": false,
    "pycharm": {
     "name": "#%%\n"
    }
   }
  },
  {
   "cell_type": "code",
   "execution_count": 2,
   "outputs": [],
   "source": [
    "ROOT_LOG_DIR = '../evaluation_flow/evaluation-flow-results/results'\n",
    "VERSION = 'version'\n",
    "FINE_TUNED = 'fine-tuned'"
   ],
   "metadata": {
    "collapsed": false,
    "pycharm": {
     "name": "#%%\n"
    }
   }
  },
  {
   "cell_type": "code",
   "execution_count": 3,
   "outputs": [],
   "source": [
    "# get all file sin the directory\n",
    "all_files = all_files_in_dir(ROOT_LOG_DIR)\n",
    "node_server_files = [f for f in all_files if 'server' in f or 'node' in f]\n",
    "# for all files extract the metadata (e.g. what model and dataset is used)\n",
    "U_IDS = 'u_ids'\n",
    "\n",
    "files_and_meta = [(extract_file_meta(f), f) for f in node_server_files]\n",
    "# add a mapping: use_case -> model id\n",
    "files_and_meta = [({**f[0], **{U_IDS: use_case_ids(f[1])}}, f[1]) for f in files_and_meta]\n",
    "# add the parsed events\n",
    "files_and_meta = [({**f[0], **{EVENTS: parse_events(f[1])}}, f[1]) for f in files_and_meta]"
   ],
   "metadata": {
    "collapsed": false,
    "pycharm": {
     "name": "#%%\n"
    }
   }
  },
  {
   "cell_type": "code",
   "execution_count": 4,
   "outputs": [],
   "source": [
    "valid_joined = join_server_and_node_meta(files_and_meta)"
   ],
   "metadata": {
    "collapsed": false,
    "pycharm": {
     "name": "#%%\n"
    }
   }
  },
  {
   "cell_type": "code",
   "execution_count": 5,
   "outputs": [],
   "source": [
    "times = extract_times(valid_joined)"
   ],
   "metadata": {
    "collapsed": false,
    "pycharm": {
     "name": "#%%\n"
    }
   }
  },
  {
   "cell_type": "code",
   "execution_count": 6,
   "outputs": [],
   "source": [
    "def rearrange_u2(use_cases):\n",
    "    use_cases.sort()\n",
    "    # remove U_2\n",
    "    u2 = use_cases.pop(1)\n",
    "    num_cases = len(use_cases)\n",
    "    new_u2_pos = int((num_cases - 1) / 2) + 1\n",
    "    use_cases.insert(new_u2_pos, u2)\n",
    "    return use_cases\n",
    "\n",
    "def plot_time_one_model(save_times, save_path=None, ignore_use_cases=[]):\n",
    "    use_cases = rearrange_u2(list(save_times.keys()))\n",
    "\n",
    "    for u in ignore_use_cases:\n",
    "        use_cases.remove(u)\n",
    "\n",
    "    plt.rc('font', size=12)\n",
    "    fig = plt.figure()\n",
    "    ax = fig.add_axes([0, 0, 1, 1])\n",
    "    times = [save_times[k] for k in use_cases]\n",
    "    ax.bar(use_cases, times)\n",
    "    ax.set_ylabel('Save time in seconds')\n",
    "    ax.set_xlabel('Use case description')\n",
    "    plt.xticks(rotation=45)\n",
    "    if save_path:\n",
    "        fig.savefig(save_path, bbox_inches='tight')\n",
    "\n",
    "    plt.show()"
   ],
   "metadata": {
    "collapsed": false,
    "pycharm": {
     "name": "#%%\n"
    }
   }
  },
  {
   "cell_type": "code",
   "execution_count": 7,
   "outputs": [],
   "source": [
    "def plot_median_high_level_save_time(metas, save_path=None, ignore_use_cases=[]):\n",
    "    agg = aggregate_fields(metas, aggregate='median', field_key=HIGH_LEVEL_SAVE_TIMES)\n",
    "    plot_time_one_model(agg[HIGH_LEVEL_SAVE_TIMES], save_path, ignore_use_cases)"
   ],
   "metadata": {
    "collapsed": false,
    "pycharm": {
     "name": "#%%\n"
    }
   }
  },
  {
   "cell_type": "code",
   "execution_count": 8,
   "outputs": [
    {
     "data": {
      "text/plain": "<Figure size 432x288 with 1 Axes>",
      "image/png": "[encoded data removed]"
     },
     "metadata": {
      "needs_background": "light"
     },
     "output_type": "display_data"
    }
   ],
   "source": [
    "data = filter_meta(times, model=MOBILENET, approach=BASELINE, snapshot_type=VERSION, snapshot_dist='food')\n",
    "plot_median_high_level_save_time(data)\n",
    "\n",
    "\n",
    "\n",
    "\n",
    "\n",
    "\n",
    "\n",
    "\n",
    "\n",
    "\n",
    "\n",
    "\n"
   ],
   "metadata": {
    "collapsed": false,
    "pycharm": {
     "name": "#%%\n"
    }
   }
  },
  {
   "cell_type": "code",
   "execution_count": 15,
   "outputs": [
    {
     "name": "stdout",
     "output_type": "stream",
     "text": [
      "{'resnet152': {'U_1': 2.884218203, 'U_2': 2.97563805, 'U_3_1_1': 2.73320811, 'U_3_1_2': 2.874668105, 'U_3_1_3': 2.906728698, 'U_3_1_4': 3.018493345, 'U_3_2_1': 3.143466162, 'U_3_2_2': 3.1924417540000003, 'U_3_2_3': 3.2854101470000003, 'U_3_2_4': 3.314493649}, 'mobilenet': {'U_1': 1.670808695, 'U_2': 1.7127418980000002, 'U_3_1_1': 1.6966172080000002, 'U_3_1_2': 1.703454924, 'U_3_1_3': 1.717453981, 'U_3_1_4': 1.7164160460000002, 'U_3_2_1': 1.7230210490000002, 'U_3_2_2': 1.7478758380000001, 'U_3_2_3': 1.7633548570000002, 'U_3_2_4': 1.762523716}, 'resnet50': {'U_1': 2.079562304, 'U_2': 2.1055126630000003, 'U_3_1_1': 2.0985620330000003, 'U_3_1_2': 2.1470785980000002, 'U_3_1_3': 2.187090104, 'U_3_1_4': 2.285064971, 'U_3_2_1': 2.33521897, 'U_3_2_2': 2.354611825, 'U_3_2_3': 2.389312127, 'U_3_2_4': 2.505424441}, 'googlenet': {'U_1': 1.820960919, 'U_2': 1.854520578, 'U_3_1_1': 1.8142075910000002, 'U_3_1_2': 1.8208129130000001, 'U_3_1_3': 1.8502121740000002, 'U_3_1_4': 1.9119142880000002, 'U_3_2_1': 1.902904721, 'U_3_2_2': 1.90440717, 'U_3_2_3': 1.902917336, 'U_3_2_4': 1.9230685920000001}, 'resnet18': {'U_1': 1.889841874, 'U_2': 1.8714358430000002, 'U_3_1_1': 1.8532868470000001, 'U_3_1_2': 1.891429532, 'U_3_1_3': 1.9128951090000001, 'U_3_1_4': 1.9432612210000002, 'U_3_2_1': 1.99290812, 'U_3_2_2': 2.0277524440000003, 'U_3_2_3': 2.020832228, 'U_3_2_4': 2.0239486650000003}}\n"
     ]
    }
   ],
   "source": [
    "\n",
    "\n",
    "\n",
    "\n",
    "\n",
    "\n",
    "\n",
    "\n",
    "\n",
    "\n",
    "\n",
    "\n",
    "\n",
    "\n",
    "\n",
    "\n",
    "\n",
    "\n",
    "\n",
    "\n",
    "\n",
    "\n",
    "\n",
    "\n",
    "\n",
    "\n",
    "save_times = calc_save_times(baseline_version_food_server_0, baseline_version_food_node_0)\n",
    "print(save_times)"
   ],
   "metadata": {
    "collapsed": false,
    "pycharm": {
     "name": "#%%\n"
    }
   }
  },
  {
   "cell_type": "code",
   "execution_count": 6,
   "outputs": [],
   "source": [
    "\n",
    "\n",
    "\n"
   ],
   "metadata": {
    "collapsed": false,
    "pycharm": {
     "name": "#%%\n"
    }
   }
  },
  {
   "cell_type": "code",
   "execution_count": 7,
   "outputs": [],
   "source": [
    "def plot_recover_time_one_model(save_times, save_path=None):\n",
    "    use_cases = rearrange_u2(list(save_times.keys()))\n",
    "\n",
    "    plt.rc('font', size=12)\n",
    "    fig = plt.figure()\n",
    "    ax = fig.add_axes([0, 0, 1, 1])\n",
    "    times = [save_times[k] for k in use_cases]\n",
    "    ax.bar(use_cases, times)\n",
    "    ax.set_ylabel('Recover time in seconds')\n",
    "    ax.set_xlabel('Use case description')\n",
    "    plt.xticks(rotation=45)\n",
    "    if save_path:\n",
    "        fig.savefig(save_path, bbox_inches='tight')\n",
    "\n",
    "    plt.show()\n"
   ],
   "metadata": {
    "collapsed": false,
    "pycharm": {
     "name": "#%%\n"
    }
   }
  },
  {
   "cell_type": "code",
   "execution_count": 8,
   "outputs": [
    {
     "data": {
      "text/plain": "<Figure size 432x288 with 1 Axes>",
      "image/png": "[encoded data removed]"
     },
     "metadata": {
      "needs_background": "light"
     },
     "output_type": "display_data"
    },
    {
     "name": "stdout",
     "output_type": "stream",
     "text": [
      "['U_1', 'U_3_1_1', 'U_3_1_2', 'U_3_1_3', 'U_3_1_4', 'U_2', 'U_3_2_1', 'U_3_2_2', 'U_3_2_3', 'U_3_2_4']\n"
     ]
    }
   ],
   "source": [
    "plot_save_time_one_model(save_times['mobilenet'], './pdfs/mobilenet.pdf')"
   ],
   "metadata": {
    "collapsed": false,
    "pycharm": {
     "name": "#%%\n"
    }
   }
  },
  {
   "cell_type": "code",
   "execution_count": 9,
   "outputs": [],
   "source": [
    "# plot_save_time_one_model(save_times['googlenet'])\n",
    "#"
   ],
   "metadata": {
    "collapsed": false,
    "pycharm": {
     "name": "#%%\n"
    }
   }
  },
  {
   "cell_type": "code",
   "execution_count": 10,
   "outputs": [],
   "source": [
    "# plot_save_time_one_model(save_times['resnet18'])\n",
    "#"
   ],
   "metadata": {
    "collapsed": false,
    "pycharm": {
     "name": "#%%\n"
    }
   }
  },
  {
   "cell_type": "code",
   "execution_count": 11,
   "outputs": [],
   "source": [
    "# plot_save_time_one_model(save_times['resnet50'])\n",
    "#"
   ],
   "metadata": {
    "collapsed": false,
    "pycharm": {
     "name": "#%%\n"
    }
   }
  },
  {
   "cell_type": "code",
   "execution_count": 12,
   "outputs": [],
   "source": [
    "# plot_save_time_one_model(save_times['resnet152'])"
   ],
   "metadata": {
    "collapsed": false,
    "pycharm": {
     "name": "#%%\n"
    }
   }
  },
  {
   "cell_type": "code",
   "execution_count": 13,
   "outputs": [
    {
     "name": "stdout",
     "output_type": "stream",
     "text": [
      "broken file: ../evaluation_flow/evaluation-flow-results/results/.DS_Store\n"
     ]
    },
    {
     "ename": "TypeError",
     "evalue": "'NoneType' object is not iterable",
     "output_type": "error",
     "traceback": [
      "\u001B[0;31m---------------------------------------------------------------------------\u001B[0m",
      "\u001B[0;31mTypeError\u001B[0m                                 Traceback (most recent call last)",
      "\u001B[0;32m<ipython-input-13-4fb64775b0d8>\u001B[0m in \u001B[0;36m<module>\u001B[0;34m\u001B[0m\n\u001B[1;32m      3\u001B[0m \u001B[0mid_use_case_mapping\u001B[0m \u001B[0;34m=\u001B[0m \u001B[0;34m{\u001B[0m\u001B[0;34m}\u001B[0m\u001B[0;34m\u001B[0m\u001B[0;34m\u001B[0m\u001B[0m\n\u001B[1;32m      4\u001B[0m \u001B[0;32mfor\u001B[0m \u001B[0md\u001B[0m \u001B[0;32min\u001B[0m \u001B[0mid_to_use_case\u001B[0m\u001B[0;34m:\u001B[0m\u001B[0;34m\u001B[0m\u001B[0;34m\u001B[0m\u001B[0m\n\u001B[0;32m----> 5\u001B[0;31m     \u001B[0mid_use_case_mapping\u001B[0m\u001B[0;34m.\u001B[0m\u001B[0mupdate\u001B[0m\u001B[0;34m(\u001B[0m\u001B[0md\u001B[0m\u001B[0;34m)\u001B[0m\u001B[0;34m\u001B[0m\u001B[0;34m\u001B[0m\u001B[0m\n\u001B[0m\u001B[1;32m      6\u001B[0m \u001B[0mprint\u001B[0m\u001B[0;34m(\u001B[0m\u001B[0mid_use_case_mapping\u001B[0m\u001B[0;34m)\u001B[0m\u001B[0;34m\u001B[0m\u001B[0;34m\u001B[0m\u001B[0m\n\u001B[1;32m      7\u001B[0m \u001B[0;34m\u001B[0m\u001B[0m\n",
      "\u001B[0;31mTypeError\u001B[0m: 'NoneType' object is not iterable"
     ]
    }
   ],
   "source": [
    "all_files = all_files_in_dir(ROOT_LOG_DIR)\n",
    "id_to_use_case = [id_use_case_dict(log_file) for log_file in all_files]\n",
    "id_use_case_mapping = {}\n",
    "for d in id_to_use_case:\n",
    "    id_use_case_mapping.update(d)\n",
    "print(id_use_case_mapping)\n"
   ],
   "metadata": {
    "collapsed": false,
    "pycharm": {
     "name": "#%%\n"
    }
   }
  },
  {
   "cell_type": "code",
   "execution_count": null,
   "outputs": [],
   "source": [
    "rec_times = calc_recover_times(baseline_version_food_server_0)\n",
    "print(rec_times)"
   ],
   "metadata": {
    "collapsed": false,
    "pycharm": {
     "name": "#%%\n"
    }
   }
  },
  {
   "cell_type": "code",
   "execution_count": null,
   "outputs": [],
   "source": [
    "plot_recover_time_one_model(rec_times['mobilenet'])"
   ],
   "metadata": {
    "collapsed": false,
    "pycharm": {
     "name": "#%%\n"
    }
   }
  },
  {
   "cell_type": "code",
   "execution_count": null,
   "outputs": [],
   "source": [
    "\n",
    "# set width of bars\n",
    "barWidth = 0.1\n",
    "\n",
    "bars = {}\n",
    "for m in MODELS:\n",
    "    times = save_times[m]\n",
    "    for use_case, time in times.items():\n",
    "        if use_case in bars:\n",
    "            bars[use_case].append(time)\n",
    "        else:\n",
    "            bars[use_case] = [time]\n",
    "\n",
    "# Set position of bar on X axis\n",
    "# l = len(bars[U_1])\n",
    "# print(l)\n",
    "# positions = [np.arange(l)]\n",
    "# for i in range(1, len(bars)):\n",
    "#     prev_positions = positions[-1]\n",
    "#     positions.append(prev_positions)\n",
    "\n",
    "r1 = np.arange(5)\n",
    "r2 = [x + barWidth for x in r1]\n",
    "r3 = [x + barWidth for x in r2]\n",
    "r4 = [x + barWidth for x in r3]\n",
    "r5 = [x + barWidth for x in r4]\n",
    "r6 = [x + barWidth for x in r5]\n",
    "r7 = [x + barWidth for x in r6]\n",
    "r8 = [x + barWidth for x in r7]\n",
    "r9 = [x + barWidth for x in r8]\n",
    "r10 = [x + barWidth for x in r9]\n",
    "positions = [r1, r2, r3, r4, r5, r6, r7, r8, r9, r10]\n",
    "\n",
    "colors = ['orange', 'red', 'green', 'blue', 'yellow', 'orange', 'red', 'green', 'blue', 'yellow']\n",
    "\n",
    "for position, bar, color, label in zip(positions, list(bars.values())[:], colors, list(bars.keys())[:]):\n",
    "    plt.bar(position, bar, color=color, width=barWidth, edgecolor='white', label=label)\n",
    "\n",
    "# # Add xticks on the middle of the group bars\n",
    "# plt.xlabel('group', fontweight='bold')\n",
    "# plt.xticks([r + barWidth for r in range(len(bars1))], ['A', 'B', 'C', 'D', 'E'])\n",
    "\n",
    "# Create legend & Show graphic\n",
    "plt.legend()\n",
    "plt.show()"
   ],
   "metadata": {
    "collapsed": false,
    "pycharm": {
     "name": "#%%\n"
    }
   }
  },
  {
   "cell_type": "code",
   "execution_count": null,
   "outputs": [],
   "source": [
    "meta, events = baseline_version_food_server_0[0]\n",
    "e_u1 = events[0]\n",
    "e_u2 = events[5]\n",
    "print(e_u1)\n",
    "print(e_u2)\n",
    "\n"
   ],
   "metadata": {
    "collapsed": false,
    "pycharm": {
     "name": "#%%\n"
    }
   }
  },
  {
   "cell_type": "code",
   "execution_count": null,
   "outputs": [],
   "source": [
    "meta, events = extract_event_and_and_meta('/Users/nils/Downloads/test-env-log.txt')"
   ],
   "metadata": {
    "collapsed": false,
    "pycharm": {
     "name": "#%%\n"
    }
   }
  },
  {
   "cell_type": "code",
   "execution_count": null,
   "outputs": [],
   "source": [
    "for e in events:\n",
    "    print(e)"
   ],
   "metadata": {
    "collapsed": false,
    "pycharm": {
     "name": "#%%\n"
    }
   }
  },
  {
   "cell_type": "code",
   "execution_count": null,
   "outputs": [],
   "source": [],
   "metadata": {
    "collapsed": false,
    "pycharm": {
     "name": "#%%\n"
    }
   }
  }
 ],
 "metadata": {
  "kernelspec": {
   "display_name": "Python 3",
   "language": "python",
   "name": "python3"
  },
  "language_info": {
   "codemirror_mode": {
    "name": "ipython",
    "version": 2
   },
   "file_extension": ".py",
   "mimetype": "text/x-python",
   "name": "python",
   "nbconvert_exporter": "python",
   "pygments_lexer": "ipython2",
   "version": "2.7.6"
  }
 },
 "nbformat": 4,
 "nbformat_minor": 0
}