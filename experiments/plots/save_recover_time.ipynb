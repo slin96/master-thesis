{
 "cells": [
  {
   "cell_type": "code",
   "execution_count": 1,
   "outputs": [],
   "source": [
    "import matplotlib.pyplot as plt\n",
    "\n",
    "import numpy as np\n",
    "\n",
    "from experiments.evaluation_flow.shared import MODELS\n",
    "from experiments.plots.util import parse_all_log_files, filter_by_attribute, calc_save_times, all_files_in_dir, \\\n",
    "    use_case_ids, id_use_case_dict, calc_recover_times"
   ],
   "metadata": {
    "collapsed": false,
    "pycharm": {
     "name": "#%%\n"
    }
   }
  },
  {
   "cell_type": "code",
   "execution_count": 2,
   "outputs": [],
   "source": [
    "ROOT_LOG_DIR = '/Users/nils/Downloads/log-dir'\n"
   ],
   "metadata": {
    "collapsed": false,
    "pycharm": {
     "name": "#%%\n"
    }
   }
  },
  {
   "cell_type": "code",
   "execution_count": 3,
   "outputs": [],
   "source": [
    "\n",
    "all_files_parsed = parse_all_log_files(ROOT_LOG_DIR)\n",
    "baseline_only = filter_by_attribute(all_files_parsed, ('approach', 'baseline'))\n",
    "baseline_versions = filter_by_attribute(baseline_only, ('snapshot_type', 'version'))\n",
    "baseline_version_food = filter_by_attribute(baseline_versions, ('snapshot_dist', 'food'))\n",
    "\n",
    "baseline_version_food_server = filter_by_attribute(baseline_version_food, ('location', 'server'))\n",
    "baseline_version_food_server_0 = filter_by_attribute(baseline_version_food_server, ('run', '0'))\n",
    "\n",
    "baseline_version_food_node = filter_by_attribute(baseline_version_food, ('location', 'node'))\n",
    "baseline_version_food_node_0 = filter_by_attribute(baseline_version_food_node, ('run', '0'))"
   ],
   "metadata": {
    "collapsed": false,
    "pycharm": {
     "name": "#%%\n"
    }
   }
  },
  {
   "cell_type": "code",
   "execution_count": 4,
   "outputs": [
    {
     "name": "stdout",
     "output_type": "stream",
     "text": [
      "{'resnet152': {'U_1': 2.884218203, 'U_2': 2.97563805, 'U_3_1_1': 2.73320811, 'U_3_1_2': 2.874668105, 'U_3_1_3': 2.906728698, 'U_3_1_4': 3.018493345, 'U_3_2_1': 3.143466162, 'U_3_2_2': 3.1924417540000003, 'U_3_2_3': 3.2854101470000003, 'U_3_2_4': 3.314493649}, 'mobilenet': {'U_1': 1.670808695, 'U_2': 1.7127418980000002, 'U_3_1_1': 1.6966172080000002, 'U_3_1_2': 1.703454924, 'U_3_1_3': 1.717453981, 'U_3_1_4': 1.7164160460000002, 'U_3_2_1': 1.7230210490000002, 'U_3_2_2': 1.7478758380000001, 'U_3_2_3': 1.7633548570000002, 'U_3_2_4': 1.762523716}, 'resnet50': {'U_1': 2.079562304, 'U_2': 2.1055126630000003, 'U_3_1_1': 2.0985620330000003, 'U_3_1_2': 2.1470785980000002, 'U_3_1_3': 2.187090104, 'U_3_1_4': 2.285064971, 'U_3_2_1': 2.33521897, 'U_3_2_2': 2.354611825, 'U_3_2_3': 2.389312127, 'U_3_2_4': 2.505424441}, 'googlenet': {'U_1': 1.820960919, 'U_2': 1.854520578, 'U_3_1_1': 1.8142075910000002, 'U_3_1_2': 1.8208129130000001, 'U_3_1_3': 1.8502121740000002, 'U_3_1_4': 1.9119142880000002, 'U_3_2_1': 1.902904721, 'U_3_2_2': 1.90440717, 'U_3_2_3': 1.902917336, 'U_3_2_4': 1.9230685920000001}, 'resnet18': {'U_1': 1.889841874, 'U_2': 1.8714358430000002, 'U_3_1_1': 1.8532868470000001, 'U_3_1_2': 1.891429532, 'U_3_1_3': 1.9128951090000001, 'U_3_1_4': 1.9432612210000002, 'U_3_2_1': 1.99290812, 'U_3_2_2': 2.0277524440000003, 'U_3_2_3': 2.020832228, 'U_3_2_4': 2.0239486650000003}}\n"
     ]
    }
   ],
   "source": [
    "save_times = calc_save_times(baseline_version_food_server_0, baseline_version_food_node_0)\n",
    "print(save_times)"
   ],
   "metadata": {
    "collapsed": false,
    "pycharm": {
     "name": "#%%\n"
    }
   }
  },
  {
   "cell_type": "code",
   "execution_count": 5,
   "outputs": [],
   "source": [
    "def rearrange_u2(use_cases):\n",
    "    use_cases.sort()\n",
    "    # remove U_2\n",
    "    u2 = use_cases.pop(1)\n",
    "    num_cases = len(use_cases)\n",
    "    new_u2_pos = int((num_cases - 1) / 2) + 1\n",
    "    use_cases.insert(new_u2_pos, u2)\n",
    "    return use_cases\n",
    "\n",
    "\n",
    "def plot_save_time_one_model(save_times, save_path=None):\n",
    "    # TODO include U1 as soon as be have the new results\n",
    "    use_cases = rearrange_u2(list(save_times.keys()))\n",
    "\n",
    "    plt.rc('font', size=12)\n",
    "    fig = plt.figure()\n",
    "    ax = fig.add_axes([0, 0, 1, 1])\n",
    "    times = [save_times[k] for k in use_cases]\n",
    "    ax.bar(use_cases, times)\n",
    "    ax.set_ylabel('Save time in seconds')\n",
    "    ax.set_xlabel('Use case description')\n",
    "    plt.xticks(rotation=45)\n",
    "    if save_path:\n",
    "        fig.savefig(save_path, bbox_inches='tight')\n",
    "\n",
    "    plt.show()\n",
    "\n",
    "    print(use_cases)"
   ],
   "metadata": {
    "collapsed": false,
    "pycharm": {
     "name": "#%%\n"
    }
   }
  },
  {
   "cell_type": "code",
   "execution_count": 6,
   "outputs": [],
   "source": [
    "def plot_recover_time_one_model(save_times, save_path=None):\n",
    "    use_cases = rearrange_u2(list(save_times.keys()))\n",
    "\n",
    "    plt.rc('font', size=12)\n",
    "    fig = plt.figure()\n",
    "    ax = fig.add_axes([0, 0, 1, 1])\n",
    "    times = [save_times[k] for k in use_cases]\n",
    "    ax.bar(use_cases, times)\n",
    "    ax.set_ylabel('Recover time in seconds')\n",
    "    ax.set_xlabel('Use case description')\n",
    "    plt.xticks(rotation=45)\n",
    "    if save_path:\n",
    "        fig.savefig(save_path, bbox_inches='tight')\n",
    "\n",
    "    plt.show()\n"
   ],
   "metadata": {
    "collapsed": false,
    "pycharm": {
     "name": "#%%\n"
    }
   }
  },
  {
   "cell_type": "code",
   "execution_count": 7,
   "outputs": [
    {
     "data": {
      "text/plain": "<Figure size 432x288 with 1 Axes>",
      "image/png": "[encoded data removed]"
     },
     "metadata": {
      "needs_background": "light"
     },
     "output_type": "display_data"
    },
    {
     "name": "stdout",
     "output_type": "stream",
     "text": [
      "['U_1', 'U_3_1_1', 'U_3_1_2', 'U_3_1_3', 'U_3_1_4', 'U_2', 'U_3_2_1', 'U_3_2_2', 'U_3_2_3', 'U_3_2_4']\n"
     ]
    }
   ],
   "source": [
    "plot_save_time_one_model(save_times['mobilenet'], './pdfs/mobilenet.pdf')"
   ],
   "metadata": {
    "collapsed": false,
    "pycharm": {
     "name": "#%%\n"
    }
   }
  },
  {
   "cell_type": "code",
   "execution_count": 8,
   "outputs": [],
   "source": [
    "# plot_save_time_one_model(save_times['googlenet'])\n",
    "#"
   ],
   "metadata": {
    "collapsed": false,
    "pycharm": {
     "name": "#%%\n"
    }
   }
  },
  {
   "cell_type": "code",
   "execution_count": 9,
   "outputs": [],
   "source": [
    "# plot_save_time_one_model(save_times['resnet18'])\n",
    "#"
   ],
   "metadata": {
    "collapsed": false,
    "pycharm": {
     "name": "#%%\n"
    }
   }
  },
  {
   "cell_type": "code",
   "execution_count": 10,
   "outputs": [],
   "source": [
    "# plot_save_time_one_model(save_times['resnet50'])\n",
    "#"
   ],
   "metadata": {
    "collapsed": false,
    "pycharm": {
     "name": "#%%\n"
    }
   }
  },
  {
   "cell_type": "code",
   "execution_count": 11,
   "outputs": [],
   "source": [
    "# plot_save_time_one_model(save_times['resnet152'])"
   ],
   "metadata": {
    "collapsed": false,
    "pycharm": {
     "name": "#%%\n"
    }
   }
  },
  {
   "cell_type": "code",
   "execution_count": 12,
   "outputs": [
    {
     "name": "stdout",
     "output_type": "stream",
     "text": [
      "{'60c7988deaa01d02055de55e': 'U_1', '60c7989380c547bd7f0e3d27': 'U_3_1_1', '60c7989580c547bd7f0e3d29': 'U_3_1_2', '60c7989780c547bd7f0e3d2b': 'U_3_1_3', '60c7989a80c547bd7f0e3d2d': 'U_3_1_4', '60c7989ceaa01d02055de561': 'U_2', '60c798a180c547bd7f0e3d2f': 'U_3_2_1', '60c798a480c547bd7f0e3d31': 'U_3_2_2', '60c798a680c547bd7f0e3d33': 'U_3_2_3', '60c798a980c547bd7f0e3d35': 'U_3_2_4', '60c79c82ab0f495892490e42': 'U_1', '60c79c8957f5e2fe2eeb1326': 'U_3_1_1', '60c79c8d57f5e2fe2eeb1328': 'U_3_1_2', '60c79c9257f5e2fe2eeb132a': 'U_3_1_3', '60c79c9657f5e2fe2eeb132c': 'U_3_1_4', '60c79c9aab0f495892490e45': 'U_2', '60c79ca157f5e2fe2eeb132e': 'U_3_2_1', '60c79ca657f5e2fe2eeb1330': 'U_3_2_2', '60c79cab57f5e2fe2eeb1332': 'U_3_2_3', '60c79cb057f5e2fe2eeb1334': 'U_3_2_4', '60c793a633490ef19216edbe': 'U_1', '60c793aa867c5a39da297614': 'U_3_1_1', '60c793ab867c5a39da297616': 'U_3_1_2', '60c793ad867c5a39da297618': 'U_3_1_3', '60c793af867c5a39da29761a': 'U_3_1_4', '60c793b133490ef19216edc1': 'U_2', '60c793b5867c5a39da29761c': 'U_3_2_1', '60c793b7867c5a39da29761e': 'U_3_2_2', '60c793b9867c5a39da297620': 'U_3_2_3', '60c793bb867c5a39da297622': 'U_3_2_4', '60c7a672dee22a51bfd137fb': 'U_1', '60c7a67b09e4fcc199dd652c': 'U_3_1_1', '60c7a67f09e4fcc199dd652f': 'U_3_1_2', '60c7a68409e4fcc199dd6532': 'U_3_1_3', '60c7a68909e4fcc199dd6535': 'U_3_1_4', '60c7a68edee22a51bfd137fe': 'U_2', '60c7a69709e4fcc199dd6538': 'U_3_2_1', '60c7a69c09e4fcc199dd653b': 'U_3_2_2', '60c7a6a109e4fcc199dd653e': 'U_3_2_3', '60c7a6a609e4fcc199dd6541': 'U_3_2_4', '60c79614e96056f7d22a6ccf': 'U_1', '60c79619e8eb7ddfeea2da53': 'U_3_1_1', '60c7961ce8eb7ddfeea2da56': 'U_3_1_2', '60c7961ee8eb7ddfeea2da59': 'U_3_1_3', '60c79621e8eb7ddfeea2da5c': 'U_3_1_4', '60c79623e96056f7d22a6cd2': 'U_2', '60c79628e8eb7ddfeea2da5f': 'U_3_2_1', '60c7962be8eb7ddfeea2da62': 'U_3_2_2', '60c7962ee8eb7ddfeea2da65': 'U_3_2_3', '60c79630e8eb7ddfeea2da68': 'U_3_2_4', '60c79b9c7e7d6e19b1d4ac2e': 'U_1', '60c79ba073e1bfc3fbd42d34': 'U_3_1_1', '60c79ba273e1bfc3fbd42d37': 'U_3_1_2', '60c79ba573e1bfc3fbd42d3a': 'U_3_1_3', '60c79ba773e1bfc3fbd42d3d': 'U_3_1_4', '60c79ba97e7d6e19b1d4ac31': 'U_2', '60c79bae73e1bfc3fbd42d40': 'U_3_2_1', '60c79bb073e1bfc3fbd42d43': 'U_3_2_2', '60c79bb373e1bfc3fbd42d46': 'U_3_2_3', '60c79bb573e1bfc3fbd42d49': 'U_3_2_4', '60c7a70f858a0b40613a0aee': 'U_1', '60c7a7189838bb0c7c196759': 'U_3_1_1', '60c7a71d9838bb0c7c19675c': 'U_3_1_2', '60c7a7229838bb0c7c19675f': 'U_3_1_3', '60c7a7279838bb0c7c196762': 'U_3_1_4', '60c7a72c858a0b40613a0af1': 'U_2', '60c7a7369838bb0c7c196765': 'U_3_2_1', '60c7a73b9838bb0c7c196768': 'U_3_2_2', '60c7a7419838bb0c7c19676b': 'U_3_2_3', '60c7a7479838bb0c7c19676e': 'U_3_2_4', '60c79055c4c9c6540836ab23': 'U_1', '60c79058dde34cb12e691558': 'U_3_1_1', '60c7905adde34cb12e69155b': 'U_3_1_2', '60c7905cdde34cb12e69155e': 'U_3_1_3', '60c7905edde34cb12e691561': 'U_3_1_4', '60c79060c4c9c6540836ab26': 'U_2', '60c79064dde34cb12e691564': 'U_3_2_1', '60c79066dde34cb12e691567': 'U_3_2_2', '60c79068dde34cb12e69156a': 'U_3_2_3', '60c7906adde34cb12e69156d': 'U_3_2_4', '60c79475c7f30694f274f0f3': 'U_1', '60c794791f6bc2d186498b5e': 'U_3_1_1', '60c7947b1f6bc2d186498b60': 'U_3_1_2', '60c7947c1f6bc2d186498b62': 'U_3_1_3', '60c7947e1f6bc2d186498b64': 'U_3_1_4', '60c79480c7f30694f274f0f6': 'U_2', '60c794841f6bc2d186498b66': 'U_3_2_1', '60c794861f6bc2d186498b68': 'U_3_2_2', '60c794881f6bc2d186498b6a': 'U_3_2_3', '60c7948a1f6bc2d186498b6c': 'U_3_2_4', '60c7910d285c40c91df03d94': 'U_1', '60c79111e4e7c8d2a8fce820': 'U_3_1_1', '60c79113e4e7c8d2a8fce823': 'U_3_1_2', '60c79115e4e7c8d2a8fce826': 'U_3_1_3', '60c79117e4e7c8d2a8fce829': 'U_3_1_4', '60c79119285c40c91df03d97': 'U_2', '60c7911ce4e7c8d2a8fce82c': 'U_3_2_1', '60c7911fe4e7c8d2a8fce82f': 'U_3_2_2', '60c79121e4e7c8d2a8fce832': 'U_3_2_3', '60c79123e4e7c8d2a8fce835': 'U_3_2_4', '60c79d08e07301c6428943d5': 'U_1', '60c79d0ea0f9f284135b85c5': 'U_3_1_1', '60c79d12a0f9f284135b85c7': 'U_3_1_2', '60c79d17a0f9f284135b85c9': 'U_3_1_3', '60c79d1ba0f9f284135b85cb': 'U_3_1_4', '60c79d1fe07301c6428943d8': 'U_2', '60c79d26a0f9f284135b85cd': 'U_3_2_1', '60c79d2ba0f9f284135b85cf': 'U_3_2_2', '60c79d2fa0f9f284135b85d1': 'U_3_2_3', '60c79d34a0f9f284135b85d3': 'U_3_2_4', '60c795ac3f329581b078fe31': 'U_1', '60c795b12ad6b1fc758403c0': 'U_3_1_1', '60c795b42ad6b1fc758403c3': 'U_3_1_2', '60c795b72ad6b1fc758403c6': 'U_3_1_3', '60c795b92ad6b1fc758403c9': 'U_3_1_4', '60c795bc3f329581b078fe34': 'U_2', '60c795c12ad6b1fc758403cc': 'U_3_2_1', '60c795c32ad6b1fc758403cf': 'U_3_2_2', '60c795c62ad6b1fc758403d2': 'U_3_2_3', '60c795c82ad6b1fc758403d5': 'U_3_2_4', '60c7990241956d06e7a27df1': 'U_1', '60c799074649cd542c56ed5f': 'U_3_1_1', '60c799094649cd542c56ed61': 'U_3_1_2', '60c7990c4649cd542c56ed63': 'U_3_1_3', '60c7990e4649cd542c56ed65': 'U_3_1_4', '60c7991141956d06e7a27df4': 'U_2', '60c799164649cd542c56ed67': 'U_3_2_1', '60c799194649cd542c56ed69': 'U_3_2_2', '60c7991b4649cd542c56ed6b': 'U_3_2_3', '60c7991e4649cd542c56ed6d': 'U_3_2_4', '60c7a3cd82962fa2a7aad0f2': 'U_1', '60c7a3d3b8175a75c50a30d9': 'U_3_1_1', '60c7a3d5b8175a75c50a30db': 'U_3_1_2', '60c7a3d8b8175a75c50a30dd': 'U_3_1_3', '60c7a3dbb8175a75c50a30df': 'U_3_1_4', '60c7a3de82962fa2a7aad0f5': 'U_2', '60c7a3e3b8175a75c50a30e1': 'U_3_2_1', '60c7a3e6b8175a75c50a30e3': 'U_3_2_2', '60c7a3e9b8175a75c50a30e5': 'U_3_2_3', '60c7a3ecb8175a75c50a30e7': 'U_3_2_4', '60c7a44c3351b4bf51b4ad1c': 'U_1', '60c7a451da6c4c1399c314b2': 'U_3_1_1', '60c7a454da6c4c1399c314b4': 'U_3_1_2', '60c7a457da6c4c1399c314b6': 'U_3_1_3', '60c7a45ada6c4c1399c314b8': 'U_3_1_4', '60c7a45c3351b4bf51b4ad1f': 'U_2', '60c7a462da6c4c1399c314ba': 'U_3_2_1', '60c7a465da6c4c1399c314bc': 'U_3_2_2', '60c7a468da6c4c1399c314be': 'U_3_2_3', '60c7a46bda6c4c1399c314c0': 'U_3_2_4', '60c79e05ae2f0549e967ab80': 'U_1', '60c79e09453fc885aaa9a8fd': 'U_3_1_1', '60c79e0b453fc885aaa9a8ff': 'U_3_1_2', '60c79e0d453fc885aaa9a901': 'U_3_1_3', '60c79e0f453fc885aaa9a903': 'U_3_1_4', '60c79e11ae2f0549e967ab83': 'U_2', '60c79e16453fc885aaa9a905': 'U_3_2_1', '60c79e18453fc885aaa9a907': 'U_3_2_2', '60c79e1a453fc885aaa9a909': 'U_3_2_3', '60c79e1d453fc885aaa9a90b': 'U_3_2_4', '60c7967c7680b82f11fc4b80': 'U_1', '60c796838630a014e92f5f37': 'U_3_1_1', '60c796888630a014e92f5f39': 'U_3_1_2', '60c7968d8630a014e92f5f3b': 'U_3_1_3', '60c796928630a014e92f5f3d': 'U_3_1_4', '60c796977680b82f11fc4b83': 'U_2', '60c7969e8630a014e92f5f3f': 'U_3_2_1', '60c796a48630a014e92f5f41': 'U_3_2_2', '60c796a98630a014e92f5f43': 'U_3_2_3', '60c796ae8630a014e92f5f45': 'U_3_2_4', '60c7a337fca5c19c14928348': 'U_1', '60c7a33fb005437e53375c5e': 'U_3_1_1', '60c7a345b005437e53375c60': 'U_3_1_2', '60c7a34ab005437e53375c62': 'U_3_1_3', '60c7a350b005437e53375c64': 'U_3_1_4', '60c7a356fca5c19c1492834b': 'U_2', '60c7a35eb005437e53375c66': 'U_3_2_1', '60c7a364b005437e53375c68': 'U_3_2_2', '60c7a36bb005437e53375c6a': 'U_3_2_3', '60c7a371b005437e53375c6c': 'U_3_2_4', '60c79170c9964adc9f376650': 'U_1', '60c79176ad16a6e44b36a43d': 'U_3_1_1', '60c7917aad16a6e44b36a43f': 'U_3_1_2', '60c7917ead16a6e44b36a441': 'U_3_1_3', '60c79182ad16a6e44b36a443': 'U_3_1_4', '60c79185c9964adc9f376653': 'U_2', '60c7918bad16a6e44b36a445': 'U_3_2_1', '60c7918fad16a6e44b36a447': 'U_3_2_2', '60c79193ad16a6e44b36a449': 'U_3_2_3', '60c79197ad16a6e44b36a44b': 'U_3_2_4', '60c7a0165246831537feb684': 'U_1', '60c7a01b697fef427bc46a31': 'U_3_1_1', '60c7a01e697fef427bc46a34': 'U_3_1_2', '60c7a020697fef427bc46a37': 'U_3_1_3', '60c7a023697fef427bc46a3a': 'U_3_1_4', '60c7a0265246831537feb687': 'U_2', '60c7a02c697fef427bc46a3d': 'U_3_2_1', '60c7a02e697fef427bc46a40': 'U_3_2_2', '60c7a031697fef427bc46a43': 'U_3_2_3', '60c7a034697fef427bc46a46': 'U_3_2_4', '60c797060f3f84596115fe96': 'U_1', '60c7970e65ae03564c24125b': 'U_3_1_1', '60c7971265ae03564c24125d': 'U_3_1_2', '60c7971765ae03564c24125f': 'U_3_1_3', '60c7971c65ae03564c241261': 'U_3_1_4', '60c797210f3f84596115fe99': 'U_2', '60c7972865ae03564c241263': 'U_3_2_1', '60c7972d65ae03564c241265': 'U_3_2_2', '60c7973265ae03564c241267': 'U_3_2_3', '60c7973765ae03564c241269': 'U_3_2_4', '60c79d86c9d33a04d10e3065': 'U_1', '60c79d8cb7ce87283145771f': 'U_3_1_1', '60c79d91b7ce872831457721': 'U_3_1_2', '60c79d95b7ce872831457723': 'U_3_1_3', '60c79d9ab7ce872831457725': 'U_3_1_4', '60c79d9ec9d33a04d10e3068': 'U_2', '60c79da5b7ce872831457727': 'U_3_2_1', '60c79da9b7ce872831457729': 'U_3_2_2', '60c79daeb7ce87283145772b': 'U_3_2_3', '60c79db3b7ce87283145772d': 'U_3_2_4', '60c79fa2c6c005472ee945f1': 'U_1', '60c79fa87b33d883ea02ae66': 'U_3_1_1', '60c79fab7b33d883ea02ae69': 'U_3_1_2', '60c79fad7b33d883ea02ae6c': 'U_3_1_3', '60c79fb07b33d883ea02ae6f': 'U_3_1_4', '60c79fb3c6c005472ee945f4': 'U_2', '60c79fb97b33d883ea02ae72': 'U_3_2_1', '60c79fbc7b33d883ea02ae75': 'U_3_2_2', '60c79fbf7b33d883ea02ae78': 'U_3_2_3', '60c79fc27b33d883ea02ae7b': 'U_3_2_4', '60c79e6cecbc2fce7032f0bc': 'U_1', '60c79e7055e8d2755c1ffc7e': 'U_3_1_1', '60c79e7255e8d2755c1ffc80': 'U_3_1_2', '60c79e7455e8d2755c1ffc82': 'U_3_1_3', '60c79e7655e8d2755c1ffc84': 'U_3_1_4', '60c79e78ecbc2fce7032f0bf': 'U_2', '60c79e7d55e8d2755c1ffc86': 'U_3_2_1', '60c79e7f55e8d2755c1ffc88': 'U_3_2_2', '60c79e8155e8d2755c1ffc8a': 'U_3_2_3', '60c79e8455e8d2755c1ffc8c': 'U_3_2_4', '60c7a4ccd2a4a130a9fcf0a6': 'U_1', '60c7a4d179fddb9ae6d7b750': 'U_3_1_1', '60c7a4d479fddb9ae6d7b752': 'U_3_1_2', '60c7a4d779fddb9ae6d7b754': 'U_3_1_3', '60c7a4da79fddb9ae6d7b756': 'U_3_1_4', '60c7a4dcd2a4a130a9fcf0a9': 'U_2', '60c7a4e279fddb9ae6d7b758': 'U_3_2_1', '60c7a4e579fddb9ae6d7b75a': 'U_3_2_2', '60c7a4e879fddb9ae6d7b75c': 'U_3_2_3', '60c7a4eb79fddb9ae6d7b75e': 'U_3_2_4', '60c797855b24b54e75385b44': 'U_1', '60c7978c5339a8a79d355a10': 'U_3_1_1', '60c797915339a8a79d355a12': 'U_3_1_2', '60c797965339a8a79d355a14': 'U_3_1_3', '60c7979b5339a8a79d355a16': 'U_3_1_4', '60c7979f5b24b54e75385b47': 'U_2', '60c797a75339a8a79d355a18': 'U_3_2_1', '60c797ac5339a8a79d355a1a': 'U_3_2_2', '60c797b15339a8a79d355a1c': 'U_3_2_3', '60c797b65339a8a79d355a1e': 'U_3_2_4', '60c799e80dde37f77c5f44fd': 'U_1', '60c799ed7a00652ffb0765ea': 'U_3_1_1', '60c799f07a00652ffb0765ec': 'U_3_1_2', '60c799f27a00652ffb0765ee': 'U_3_1_3', '60c799f57a00652ffb0765f0': 'U_3_1_4', '60c799f70dde37f77c5f4500': 'U_2', '60c799fc7a00652ffb0765f2': 'U_3_2_1', '60c799ff7a00652ffb0765f4': 'U_3_2_2', '60c79a017a00652ffb0765f6': 'U_3_2_3', '60c79a047a00652ffb0765f8': 'U_3_2_4', '60c79ed38f54d7d5f5418962': 'U_1', '60c79ed8a9a53441120d5d6c': 'U_3_1_1', '60c79edaa9a53441120d5d6e': 'U_3_1_2', '60c79edca9a53441120d5d70': 'U_3_1_3', '60c79edea9a53441120d5d72': 'U_3_1_4', '60c79ee08f54d7d5f5418965': 'U_2', '60c79ee5a9a53441120d5d74': 'U_3_2_1', '60c79ee7a9a53441120d5d76': 'U_3_2_2', '60c79eeaa9a53441120d5d78': 'U_3_2_3', '60c79eeca9a53441120d5d7a': 'U_3_2_4', '60c79545db427e61d0c93aad': 'U_1', '60c7954a56b9c58873355d16': 'U_3_1_1', '60c7954c56b9c58873355d19': 'U_3_1_2', '60c7954f56b9c58873355d1c': 'U_3_1_3', '60c7955156b9c58873355d1f': 'U_3_1_4', '60c79554db427e61d0c93ab0': 'U_2', '60c7955956b9c58873355d22': 'U_3_2_1', '60c7955b56b9c58873355d25': 'U_3_2_2', '60c7955e56b9c58873355d28': 'U_3_2_3', '60c7956056b9c58873355d2b': 'U_3_2_4', '60c7925701374aca71eb35af': 'U_1', '60c7925d6613b819cc31e2b8': 'U_3_1_1', '60c792616613b819cc31e2ba': 'U_3_1_2', '60c792656613b819cc31e2bc': 'U_3_1_3', '60c792696613b819cc31e2be': 'U_3_1_4', '60c7926d01374aca71eb35b2': 'U_2', '60c792726613b819cc31e2c0': 'U_3_2_1', '60c792766613b819cc31e2c2': 'U_3_2_2', '60c7927a6613b819cc31e2c4': 'U_3_2_3', '60c7927f6613b819cc31e2c6': 'U_3_2_4', '60c794ddb97253ba23198b3a': 'U_1', '60c794e30f304b3d209c1976': 'U_3_1_1', '60c794e50f304b3d209c1979': 'U_3_1_2', '60c794e80f304b3d209c197c': 'U_3_1_3', '60c794ea0f304b3d209c197f': 'U_3_1_4', '60c794edb97253ba23198b3d': 'U_2', '60c794f20f304b3d209c1982': 'U_3_2_1', '60c794f40f304b3d209c1985': 'U_3_2_2', '60c794f70f304b3d209c1988': 'U_3_2_3', '60c794f90f304b3d209c198b': 'U_3_2_4', '60c7940e635d9190efc1a5e1': 'U_1', '60c79411353ccb7f5f3f0575': 'U_3_1_1', '60c79413353ccb7f5f3f0577': 'U_3_1_2', '60c79415353ccb7f5f3f0579': 'U_3_1_3', '60c79417353ccb7f5f3f057b': 'U_3_1_4', '60c79419635d9190efc1a5e4': 'U_2', '60c7941d353ccb7f5f3f057d': 'U_3_2_1', '60c7941f353ccb7f5f3f057f': 'U_3_2_2', '60c79421353ccb7f5f3f0581': 'U_3_2_3', '60c79423353ccb7f5f3f0583': 'U_3_2_4', '60c79b30f338b24feec3bf28': 'U_1', '60c79b3434bb147c187b25cb': 'U_3_1_1', '60c79b3734bb147c187b25ce': 'U_3_1_2', '60c79b3934bb147c187b25d1': 'U_3_1_3', '60c79b3b34bb147c187b25d4': 'U_3_1_4', '60c79b3df338b24feec3bf2b': 'U_2', '60c79b4234bb147c187b25d7': 'U_3_2_1', '60c79b4534bb147c187b25da': 'U_3_2_2', '60c79b4734bb147c187b25dd': 'U_3_2_3', '60c79b4934bb147c187b25e0': 'U_3_2_4', '60c79a65991ff1c5d97e269b': 'U_1', '60c79a6a845f9f6e2caf34e5': 'U_3_1_1', '60c79a6c845f9f6e2caf34e8': 'U_3_1_2', '60c79a6e845f9f6e2caf34eb': 'U_3_1_3', '60c79a70845f9f6e2caf34ee': 'U_3_1_4', '60c79a72991ff1c5d97e269e': 'U_2', '60c79a77845f9f6e2caf34f1': 'U_3_2_1', '60c79a79845f9f6e2caf34f4': 'U_3_2_2', '60c79a7b845f9f6e2caf34f7': 'U_3_2_3', '60c79a7e845f9f6e2caf34fa': 'U_3_2_4', '60c7997570f01a3a8ab21438': 'U_1', '60c7997a0c1051c4c478ae30': 'U_3_1_1', '60c7997d0c1051c4c478ae32': 'U_3_1_2', '60c7997f0c1051c4c478ae34': 'U_3_1_3', '60c799820c1051c4c478ae36': 'U_3_1_4', '60c7998470f01a3a8ab2143b': 'U_2', '60c799890c1051c4c478ae38': 'U_3_2_1', '60c7998c0c1051c4c478ae3a': 'U_3_2_2', '60c7998e0c1051c4c478ae3c': 'U_3_2_3', '60c799910c1051c4c478ae3e': 'U_3_2_4', '60c7a29fa344a8e5c4c21112': 'U_1', '60c7a2a7a56a447336bc4668': 'U_3_1_1', '60c7a2ada56a447336bc466a': 'U_3_1_2', '60c7a2b3a56a447336bc466c': 'U_3_1_3', '60c7a2b8a56a447336bc466e': 'U_3_1_4', '60c7a2bea344a8e5c4c21115': 'U_2', '60c7a2c7a56a447336bc4670': 'U_3_2_1', '60c7a2cda56a447336bc4672': 'U_3_2_2', '60c7a2d3a56a447336bc4674': 'U_3_2_3', '60c7a2d9a56a447336bc4676': 'U_3_2_4', '60c7a5b5e2000f09d65c6765': 'U_1', '60c7a5bd8b9e7200cc135b16': 'U_3_1_1', '60c7a5c28b9e7200cc135b19': 'U_3_1_2', '60c7a5c78b9e7200cc135b1c': 'U_3_1_3', '60c7a5cb8b9e7200cc135b1f': 'U_3_1_4', '60c7a5d0e2000f09d65c6768': 'U_2', '60c7a5d98b9e7200cc135b22': 'U_3_2_1', '60c7a5de8b9e7200cc135b25': 'U_3_2_2', '60c7a5e38b9e7200cc135b28': 'U_3_2_3', '60c7a5e88b9e7200cc135b2b': 'U_3_2_4', '60c791e42b9b44e23933ef70': 'U_1', '60c791eaf97e61bad134cdd9': 'U_3_1_1', '60c791edf97e61bad134cddb': 'U_3_1_2', '60c791f1f97e61bad134cddd': 'U_3_1_3', '60c791f5f97e61bad134cddf': 'U_3_1_4', '60c791f92b9b44e23933ef73': 'U_2', '60c791fff97e61bad134cde1': 'U_3_2_1', '60c79203f97e61bad134cde3': 'U_3_2_2', '60c79207f97e61bad134cde5': 'U_3_2_3', '60c7920bf97e61bad134cde7': 'U_3_2_4', '60c7933e01adf704578333ca': 'U_1', '60c793424f170c228c57b6c3': 'U_3_1_1', '60c793444f170c228c57b6c5': 'U_3_1_2', '60c793464f170c228c57b6c7': 'U_3_1_3', '60c793484f170c228c57b6c9': 'U_3_1_4', '60c7934a01adf704578333cd': 'U_2', '60c7934e4f170c228c57b6cb': 'U_3_2_1', '60c793504f170c228c57b6cd': 'U_3_2_2', '60c793524f170c228c57b6cf': 'U_3_2_3', '60c793544f170c228c57b6d1': 'U_3_2_4', '60c79f3a535c7512dce3eda3': 'U_1', '60c79f3fa857262a63f9f8d1': 'U_3_1_1', '60c79f41a857262a63f9f8d3': 'U_3_1_2', '60c79f43a857262a63f9f8d5': 'U_3_1_3', '60c79f45a857262a63f9f8d7': 'U_3_1_4', '60c79f47535c7512dce3eda6': 'U_2', '60c79f4ca857262a63f9f8d9': 'U_3_2_1', '60c79f4ea857262a63f9f8db': 'U_3_2_2', '60c79f51a857262a63f9f8dd': 'U_3_2_3', '60c79f53a857262a63f9f8df': 'U_3_2_4', '60c79803fef84e554fef6e99': 'U_1', '60c7980b5d02fb6f17d78daa': 'U_3_1_1', '60c7980f5d02fb6f17d78dac': 'U_3_1_2', '60c798145d02fb6f17d78dae': 'U_3_1_3', '60c7981a5d02fb6f17d78db0': 'U_3_1_4', '60c7981ffef84e554fef6e9c': 'U_2', '60c798265d02fb6f17d78db2': 'U_3_2_1', '60c7982b5d02fb6f17d78db4': 'U_3_2_2', '60c798305d02fb6f17d78db6': 'U_3_2_3', '60c798365d02fb6f17d78db8': 'U_3_2_4', '60c7a173795c42087c2a0653': 'U_1', '60c7a17b02cedc5d1dcb67d0': 'U_3_1_1', '60c7a18102cedc5d1dcb67d2': 'U_3_1_2', '60c7a18702cedc5d1dcb67d4': 'U_3_1_3', '60c7a18d02cedc5d1dcb67d6': 'U_3_1_4', '60c7a193795c42087c2a0656': 'U_2', '60c7a19c02cedc5d1dcb67d8': 'U_3_2_1', '60c7a1a202cedc5d1dcb67da': 'U_3_2_2', '60c7a1a802cedc5d1dcb67dc': 'U_3_2_3', '60c7a1b002cedc5d1dcb67de': 'U_3_2_4', '60c7a53f65b677f93bfe5d88': 'U_1', '60c7a545dfdc0e56913b1eb3': 'U_3_1_1', '60c7a548dfdc0e56913b1eb5': 'U_3_1_2', '60c7a54adfdc0e56913b1eb7': 'U_3_1_3', '60c7a54ddfdc0e56913b1eb9': 'U_3_1_4', '60c7a55065b677f93bfe5d8b': 'U_2', '60c7a556dfdc0e56913b1ebb': 'U_3_2_1', '60c7a559dfdc0e56913b1ebd': 'U_3_2_2', '60c7a55cdfdc0e56913b1ebf': 'U_3_2_3', '60c7a55fdfdc0e56913b1ec1': 'U_3_2_4', '60c7a089b8db01bde0666b7d': 'U_1', '60c7a08f1cefcd55e4b4b9f6': 'U_3_1_1', '60c7a0921cefcd55e4b4b9f9': 'U_3_1_2', '60c7a0951cefcd55e4b4b9fc': 'U_3_1_3', '60c7a0981cefcd55e4b4b9ff': 'U_3_1_4', '60c7a09bb8db01bde0666b80': 'U_2', '60c7a0a11cefcd55e4b4ba02': 'U_3_2_1', '60c7a0a41cefcd55e4b4ba05': 'U_3_2_2', '60c7a0a71cefcd55e4b4ba08': 'U_3_2_3', '60c7a0aa1cefcd55e4b4ba0b': 'U_3_2_4', '60c790b16ad1d016f59a385d': 'U_1', '60c790b5cd1c7bd838114d19': 'U_3_1_1', '60c790b7cd1c7bd838114d1c': 'U_3_1_2', '60c790b8cd1c7bd838114d1f': 'U_3_1_3', '60c790bacd1c7bd838114d22': 'U_3_1_4', '60c790bc6ad1d016f59a3860': 'U_2', '60c790c0cd1c7bd838114d25': 'U_3_2_1', '60c790c2cd1c7bd838114d28': 'U_3_2_2', '60c790c4cd1c7bd838114d2b': 'U_3_2_3', '60c790c7cd1c7bd838114d2e': 'U_3_2_4', '60c79accc2f5b4406b96a9a7': 'U_1', '60c79ad152b225e6fac3eb45': 'U_3_1_1', '60c79ad352b225e6fac3eb48': 'U_3_1_2', '60c79ad552b225e6fac3eb4b': 'U_3_1_3', '60c79ad752b225e6fac3eb4e': 'U_3_1_4', '60c79ad9c2f5b4406b96a9aa': 'U_2', '60c79ade52b225e6fac3eb51': 'U_3_2_1', '60c79ae052b225e6fac3eb54': 'U_3_2_2', '60c79ae352b225e6fac3eb57': 'U_3_2_3', '60c79ae552b225e6fac3eb5a': 'U_3_2_4', '60c7a208f13644f1529b6058': 'U_1', '60c7a210111b772020f970ed': 'U_3_1_1', '60c7a215111b772020f970ef': 'U_3_1_2', '60c7a21b111b772020f970f1': 'U_3_1_3', '60c7a222111b772020f970f3': 'U_3_1_4', '60c7a227f13644f1529b605b': 'U_2', '60c7a230111b772020f970f5': 'U_3_2_1', '60c7a236111b772020f970f7': 'U_3_2_2', '60c7a23d111b772020f970f9': 'U_3_2_3', '60c7a243111b772020f970fb': 'U_3_2_4', '60c79c03c1e3ae9e7760560a': 'U_1', '60c79c0a27eec84e2edce91e': 'U_3_1_1', '60c79c0e27eec84e2edce920': 'U_3_1_2', '60c79c1327eec84e2edce922': 'U_3_1_3', '60c79c1727eec84e2edce924': 'U_3_1_4', '60c79c1bc1e3ae9e7760560d': 'U_2', '60c79c2227eec84e2edce926': 'U_3_2_1', '60c79c2727eec84e2edce928': 'U_3_2_2', '60c79c2c27eec84e2edce92a': 'U_3_2_3', '60c79c3127eec84e2edce92c': 'U_3_2_4', '60c792cb4afdaf4f2f9ee400': 'U_1', '60c792d102411a40b4d43a67': 'U_3_1_1', '60c792d402411a40b4d43a69': 'U_3_1_2', '60c792d802411a40b4d43a6b': 'U_3_1_3', '60c792dc02411a40b4d43a6d': 'U_3_1_4', '60c792e04afdaf4f2f9ee403': 'U_2', '60c792e602411a40b4d43a6f': 'U_3_2_1', '60c792ea02411a40b4d43a71': 'U_3_2_2', '60c792ee02411a40b4d43a73': 'U_3_2_3', '60c792f202411a40b4d43a75': 'U_3_2_4', '60c7a0ff6978d90a07bdfdd6': 'U_1', '60c7a105ad5e2954b9c1298a': 'U_3_1_1', '60c7a108ad5e2954b9c1298d': 'U_3_1_2', '60c7a10bad5e2954b9c12990': 'U_3_1_3', '60c7a10ead5e2954b9c12993': 'U_3_1_4', '60c7a1116978d90a07bdfdd9': 'U_2', '60c7a117ad5e2954b9c12996': 'U_3_2_1', '60c7a11aad5e2954b9c12999': 'U_3_2_2', '60c7a11dad5e2954b9c1299c': 'U_3_2_3', '60c7a120ad5e2954b9c1299f': 'U_3_2_4'}\n"
     ]
    }
   ],
   "source": [
    "all_files = all_files_in_dir(ROOT_LOG_DIR)\n",
    "id_to_use_case= [id_use_case_dict(log_file) for log_file in all_files]\n",
    "id_use_case_mapping = {}\n",
    "for d in id_to_use_case:\n",
    "    id_use_case_mapping.update(d)\n",
    "print(id_use_case_mapping)\n"
   ],
   "metadata": {
    "collapsed": false,
    "pycharm": {
     "name": "#%%\n"
    }
   }
  },
  {
   "cell_type": "code",
   "execution_count": 13,
   "outputs": [
    {
     "name": "stdout",
     "output_type": "stream",
     "text": [
      "{'resnet152': {'U_1': 3.898194693, 'U_3_1_1': 3.858245439, 'U_3_1_2': 4.067692296000001, 'U_3_1_3': 3.8347784280000003, 'U_3_1_4': 3.845494931, 'U_2': 3.945320676, 'U_3_2_1': 3.858978661, 'U_3_2_2': 3.8470084300000003, 'U_3_2_3': 3.8249284660000002, 'U_3_2_4': 3.8674146}, 'mobilenet': {'U_1': 1.808538959, 'U_3_1_1': 1.795615661, 'U_3_1_2': 1.8082256870000002, 'U_3_1_3': 1.785332214, 'U_3_1_4': 1.8151715990000001, 'U_2': 1.740166144, 'U_3_2_1': 1.842531901, 'U_3_2_2': 1.7847135820000002, 'U_3_2_3': 1.7828842660000002, 'U_3_2_4': 1.8003549010000002}, 'resnet50': {'U_1': 2.574156374, 'U_3_1_1': 2.5806511210000003, 'U_3_1_2': 2.571129373, 'U_3_1_3': 2.536301137, 'U_3_1_4': 2.599525625, 'U_2': 2.5345018080000004, 'U_3_2_1': 2.611151387, 'U_3_2_2': 2.621178697, 'U_3_2_3': 2.610859714, 'U_3_2_4': 2.567187342}, 'googlenet': {'U_1': 2.245621532, 'U_3_1_1': 2.269061782, 'U_3_1_2': 2.253832662, 'U_3_1_3': 2.2629547700000003, 'U_3_1_4': 2.27135837, 'U_2': 2.162166592, 'U_3_2_1': 2.236680739, 'U_3_2_2': 2.233593717, 'U_3_2_3': 2.302071185, 'U_3_2_4': 2.2414643130000003}, 'resnet18': {'U_1': 2.07717479, 'U_3_1_1': 2.046495327, 'U_3_1_2': 2.0613057240000003, 'U_3_1_3': 2.037057833, 'U_3_1_4': 2.128102867, 'U_2': 2.002708095, 'U_3_2_1': 2.057361572, 'U_3_2_2': 2.017610979, 'U_3_2_3': 2.0387371510000003, 'U_3_2_4': 2.03053138}}\n"
     ]
    }
   ],
   "source": [
    "rec_times = calc_recover_times(baseline_version_food_server_0)\n",
    "print(rec_times)"
   ],
   "metadata": {
    "collapsed": false,
    "pycharm": {
     "name": "#%%\n"
    }
   }
  },
  {
   "cell_type": "code",
   "execution_count": 14,
   "outputs": [
    {
     "data": {
      "text/plain": "<Figure size 432x288 with 1 Axes>",
      "image/png": "[encoded data removed]"
     },
     "metadata": {
      "needs_background": "light"
     },
     "output_type": "display_data"
    },
    {
     "name": "stdout",
     "output_type": "stream",
     "text": [
      "['U_1', 'U_3_1_1', 'U_3_1_2', 'U_3_1_3', 'U_3_1_4', 'U_2', 'U_3_2_1', 'U_3_2_2', 'U_3_2_3', 'U_3_2_4']\n"
     ]
    }
   ],
   "source": [
    "plot_recover_time_one_model(rec_times['mobilenet'])"
   ],
   "metadata": {
    "collapsed": false,
    "pycharm": {
     "name": "#%%\n"
    }
   }
  },
  {
   "cell_type": "code",
   "execution_count": 15,
   "outputs": [
    {
     "data": {
      "text/plain": "<Figure size 432x288 with 1 Axes>",
      "image/png": "[encoded data removed]"
     },
     "metadata": {
      "needs_background": "light"
     },
     "output_type": "display_data"
    }
   ],
   "source": [
    "\n",
    "# set width of bars\n",
    "barWidth = 0.1\n",
    "\n",
    "bars = {}\n",
    "for m in MODELS:\n",
    "    times = save_times[m]\n",
    "    for use_case, time in times.items():\n",
    "        if use_case in bars:\n",
    "            bars[use_case].append(time)\n",
    "        else:\n",
    "            bars[use_case] = [time]\n",
    "\n",
    "# Set position of bar on X axis\n",
    "# l = len(bars[U_1])\n",
    "# print(l)\n",
    "# positions = [np.arange(l)]\n",
    "# for i in range(1, len(bars)):\n",
    "#     prev_positions = positions[-1]\n",
    "#     positions.append(prev_positions)\n",
    "\n",
    "r1 = np.arange(5)\n",
    "r2 = [x + barWidth for x in r1]\n",
    "r3 = [x + barWidth for x in r2]\n",
    "r4 = [x + barWidth for x in r3]\n",
    "r5 = [x + barWidth for x in r4]\n",
    "r6 = [x + barWidth for x in r5]\n",
    "r7 = [x + barWidth for x in r6]\n",
    "r8 = [x + barWidth for x in r7]\n",
    "r9 = [x + barWidth for x in r8]\n",
    "r10 = [x + barWidth for x in r9]\n",
    "positions = [r1, r2, r3, r4, r5, r6, r7, r8, r9, r10]\n",
    "\n",
    "colors = ['orange', 'red', 'green', 'blue', 'yellow', 'orange', 'red', 'green', 'blue', 'yellow']\n",
    "\n",
    "for position, bar, color, label in zip(positions, list(bars.values())[:], colors, list(bars.keys())[:]):\n",
    "    plt.bar(position, bar, color=color, width=barWidth, edgecolor='white', label=label)\n",
    "\n",
    "# # Add xticks on the middle of the group bars\n",
    "# plt.xlabel('group', fontweight='bold')\n",
    "# plt.xticks([r + barWidth for r in range(len(bars1))], ['A', 'B', 'C', 'D', 'E'])\n",
    "\n",
    "# Create legend & Show graphic\n",
    "plt.legend()\n",
    "plt.show()"
   ],
   "metadata": {
    "collapsed": false,
    "pycharm": {
     "name": "#%%\n"
    }
   }
  },
  {
   "cell_type": "code",
   "execution_count": 16,
   "outputs": [
    {
     "name": "stdout",
     "output_type": "stream",
     "text": [
      "U_1: 2.8842182030s \n",
      "_save_full_model -- all: 0.9665351690s \n",
      "\t_save_full_model -- pickle_weights: 0.3958756980s \n",
      "\t_save_full_model -- _get_weights_hash_info: 0.3376685490s \n",
      "\t_save_full_model -- persist_model_info: 0.2312848850s \n",
      "\t\tpersist -- schema_obj(model_info): 0.2310013790s \n",
      "\t\t\tpersist -- schema_obj(recover_info): 0.2141032750s \n",
      "\t\t\t\tmmlib_file_pers -- save_file: 0.0111184090s \n",
      "\t\t\t\tmmlib_file_pers -- save_file: 0.1953713400s \n",
      "\t\t\t\tpersist -- schema_obj(environment): 0.0053620660s \n",
      "\t\t\t\t\tmmlib_dict_pers -- save_dict -- collection(environment): 0.0051576960s \n",
      "\t\t\t\tmmlib_dict_pers -- save_dict -- collection(recover_info): 0.0020130820s \n",
      "\t\t\tmmlib_dict_pers -- save_dict -- collection(model_info): 0.0138720360s \n",
      "\n",
      "U_2: 2.9756380500s \n",
      "_save_full_model -- all: 0.9676845530s \n",
      "\t_save_full_model -- pickle_weights: 0.4156039900s \n",
      "\t_save_full_model -- _get_weights_hash_info: 0.3246627070s \n",
      "\t_save_full_model -- persist_model_info: 0.2262196590s \n",
      "\t\tpersist -- schema_obj(model_info): 0.2259506190s \n",
      "\t\t\tpersist -- schema_obj(recover_info): 0.2171822230s \n",
      "\t\t\t\tmmlib_file_pers -- save_file: 0.0221450860s \n",
      "\t\t\t\tmmlib_file_pers -- save_file: 0.1911050980s \n",
      "\t\t\t\tpersist -- schema_obj(environment): 0.0028569350s \n",
      "\t\t\t\t\tmmlib_dict_pers -- save_dict -- collection(environment): 0.0025563630s \n",
      "\t\t\t\tmmlib_dict_pers -- save_dict -- collection(recover_info): 0.0008149110s \n",
      "\t\t\tmmlib_dict_pers -- save_dict -- collection(model_info): 0.0068337110s \n",
      "\n"
     ]
    }
   ],
   "source": [
    "meta, events = baseline_version_food_server_0[0]\n",
    "e_u1 = events[0]\n",
    "e_u2 = events[5]\n",
    "print(e_u1)\n",
    "print(e_u2)\n",
    "\n"
   ],
   "metadata": {
    "collapsed": false,
    "pycharm": {
     "name": "#%%\n"
    }
   }
  },
  {
   "cell_type": "code",
   "execution_count": 17,
   "outputs": [
    {
     "ename": "NameError",
     "evalue": "name 'extract_event_and_and_meta' is not defined",
     "output_type": "error",
     "traceback": [
      "\u001B[0;31m---------------------------------------------------------------------------\u001B[0m",
      "\u001B[0;31mNameError\u001B[0m                                 Traceback (most recent call last)",
      "\u001B[0;32m<ipython-input-17-3d6a5cd3639d>\u001B[0m in \u001B[0;36m<module>\u001B[0;34m\u001B[0m\n\u001B[0;32m----> 1\u001B[0;31m \u001B[0mmeta\u001B[0m\u001B[0;34m,\u001B[0m \u001B[0mevents\u001B[0m \u001B[0;34m=\u001B[0m \u001B[0mextract_event_and_and_meta\u001B[0m\u001B[0;34m(\u001B[0m\u001B[0;34m'/Users/nils/Downloads/test-env-log.txt'\u001B[0m\u001B[0;34m)\u001B[0m\u001B[0;34m\u001B[0m\u001B[0;34m\u001B[0m\u001B[0m\n\u001B[0m\u001B[1;32m      2\u001B[0m \u001B[0;34m\u001B[0m\u001B[0m\n",
      "\u001B[0;31mNameError\u001B[0m: name 'extract_event_and_and_meta' is not defined"
     ]
    }
   ],
   "source": [
    "meta, events = extract_event_and_and_meta('/Users/nils/Downloads/test-env-log.txt')"
   ],
   "metadata": {
    "collapsed": false,
    "pycharm": {
     "name": "#%%\n"
    }
   }
  },
  {
   "cell_type": "code",
   "execution_count": null,
   "outputs": [],
   "source": [
    "for e in events:\n",
    "    print(e)"
   ],
   "metadata": {
    "collapsed": false,
    "pycharm": {
     "name": "#%%\n"
    }
   }
  },
  {
   "cell_type": "code",
   "execution_count": null,
   "outputs": [],
   "source": [],
   "metadata": {
    "collapsed": false,
    "pycharm": {
     "name": "#%%\n"
    }
   }
  }
 ],
 "metadata": {
  "kernelspec": {
   "display_name": "Python 3",
   "language": "python",
   "name": "python3"
  },
  "language_info": {
   "codemirror_mode": {
    "name": "ipython",
    "version": 2
   },
   "file_extension": ".py",
   "mimetype": "text/x-python",
   "name": "python",
   "nbconvert_exporter": "python",
   "pygments_lexer": "ipython2",
   "version": "2.7.6"
  }
 },
 "nbformat": 4,
 "nbformat_minor": 0
}