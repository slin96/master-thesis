{
 "cells": [
  {
   "cell_type": "code",
   "execution_count": 1,
   "outputs": [],
   "source": [
    "import matplotlib\n",
    "import numpy as np\n",
    "from matplotlib import pyplot as plt\n"
   ],
   "metadata": {
    "collapsed": false,
    "pycharm": {
     "name": "#%%\n"
    }
   }
  },
  {
   "cell_type": "code",
   "execution_count": null,
   "outputs": [],
   "source": [
    "from matplotlib.ticker import FormatStrFormatter\n",
    "\n",
    "from experiments.plots.util import A_RED, A_YELLOW\n",
    "from experiments.util.extract_data import ns2s, median_values, extract_data\n",
    "\n",
    "HPI_ORANGE = '#DE6207'\n",
    "HPI_LIGHT_ORANGE = '#F7A900'\n",
    "HPI_RED = '#B1083A'"
   ],
   "metadata": {
    "collapsed": false,
    "pycharm": {
     "name": "#%%\n",
     "is_executing": true
    }
   }
  },
  {
   "cell_type": "code",
   "execution_count": null,
   "outputs": [],
   "source": [
    "def plot_compare_to_device_forward_backward(non_deterministic_data_path, deterministic_data_path, save_to,\n",
    "                                            include_legend=False, y_min_max=None):\n",
    "    def export_legend(legend, filename=\"./plots/legend.pdf\", expand=[-5, -5, 5, 5]):\n",
    "        fig = legend.figure\n",
    "        fig.canvas.draw()\n",
    "        bbox = legend.get_window_extent()\n",
    "        bbox = bbox.from_extents(*(bbox.extents + np.array(expand)))\n",
    "        bbox = bbox.transformed(fig.dpi_scale_trans.inverted())\n",
    "        fig.savefig(filename, dpi=\"figure\", bbox_inches=bbox)\n",
    "\n",
    "    matplotlib.rcParams.update({'font.size': 28})\n",
    "    fig = plt.figure(figsize=(10, 5))\n",
    "    x_labels = ['to device', 'forward', 'backward']\n",
    "    non_deterministic = list(map(ns2s, median_values(extract_data(non_deterministic_data_path))))[2:]\n",
    "    print('non-deterministic medians: {}'.format(non_deterministic))\n",
    "    deterministic = list(map(ns2s, median_values(extract_data(deterministic_data_path))))[2:]\n",
    "    print('deterministic medians: {}'.format(deterministic))\n",
    "    ind = np.arange(len(x_labels))  # the x locations for the groups\n",
    "    width = 0.4  # the width of the bars\n",
    "    fig = plt.figure()\n",
    "    ax = fig.add_subplot(111)\n",
    "    rects1 = ax.bar(ind + width / 2, non_deterministic, width, color=HPI_LIGHT_ORANGE)\n",
    "    rects2 = ax.bar(ind + 1.5 * width, deterministic, width, color=HPI_RED)\n",
    "    ax.set_ylabel('time in seconds')\n",
    "    ax.set_xticks(ind + width)\n",
    "    ax.set_xticklabels(x_labels)\n",
    "    ax.yaxis.set_major_formatter(FormatStrFormatter('%.2f'))\n",
    "    plt.xticks(rotation=25)\n",
    "\n",
    "    if y_min_max:\n",
    "        axes = plt.gca()\n",
    "        axes.set_ylim(y_min_max)\n",
    "    if include_legend:\n",
    "        legend = ax.legend((rects1[0], rects2[0]), ('non-deterministic', 'deterministic'),\n",
    "                           bbox_to_anchor=(1.04, 1), borderaxespad=0)\n",
    "    fig.savefig(save_to, bbox_inches='tight')\n",
    "\n",
    "    plt.show()"
   ],
   "metadata": {
    "collapsed": false,
    "pycharm": {
     "name": "#%%\n",
     "is_executing": true
    }
   }
  },
  {
   "cell_type": "code",
   "execution_count": null,
   "outputs": [],
   "source": [
    "print('COMPARE EXECUTION TIMES FOR MOBILENET')\n",
    "plot_compare_to_device_forward_backward(\n",
    "    non_deterministic_data_path='./results/non-deterministic-mobilenet.txt',\n",
    "    deterministic_data_path='./results/deterministic-mobilenet.txt',\n",
    "    include_legend=True,\n",
    "    save_to='./plots/mobilenet.pdf')"
   ],
   "metadata": {
    "collapsed": false,
    "pycharm": {
     "name": "#%%\n",
     "is_executing": true
    }
   }
  },
  {
   "cell_type": "code",
   "execution_count": null,
   "outputs": [],
   "source": [
    "print('COMPARE EXECUTION TIMES FOR GOOGLENET')\n",
    "plot_compare_to_device_forward_backward(\n",
    "    non_deterministic_data_path='./results/non-deterministic-googlenet.txt',\n",
    "    deterministic_data_path='./results/deterministic-googlenet.txt',\n",
    "    save_to='./plots/googlenet.pdf')"
   ],
   "metadata": {
    "collapsed": false,
    "pycharm": {
     "name": "#%%\n",
     "is_executing": true
    }
   }
  },
  {
   "cell_type": "code",
   "execution_count": null,
   "outputs": [],
   "source": [
    "print('COMPARE EXECUTION TIMES FOR RESNET18')\n",
    "plot_compare_to_device_forward_backward(\n",
    "    non_deterministic_data_path='./results/non-deterministic-resnet18.txt',\n",
    "    deterministic_data_path='./results/deterministic-resnet18.txt',\n",
    "    save_to='./plots/resnet18.pdf')"
   ],
   "metadata": {
    "collapsed": false,
    "pycharm": {
     "name": "#%%\n",
     "is_executing": true
    }
   }
  },
  {
   "cell_type": "code",
   "execution_count": null,
   "outputs": [],
   "source": [
    "print('COMPARE EXECUTION TIMES FOR RESNET50')\n",
    "plot_compare_to_device_forward_backward(\n",
    "    non_deterministic_data_path='./results/non-deterministic-resnet50.txt',\n",
    "    deterministic_data_path='./results/deterministic-resnet50.txt',\n",
    "    y_min_max=[0, 0.08],\n",
    "    save_to='./plots/resnet50.pdf')"
   ],
   "metadata": {
    "collapsed": false,
    "pycharm": {
     "name": "#%%\n",
     "is_executing": true
    }
   }
  },
  {
   "cell_type": "code",
   "execution_count": null,
   "outputs": [],
   "source": [
    "print('COMPARE EXECUTION TIMES FOR RESNET152')\n",
    "plot_compare_to_device_forward_backward(\n",
    "    non_deterministic_data_path='./results/non-deterministic-resnet152.txt',\n",
    "    deterministic_data_path='./results/deterministic-resnet152.txt',\n",
    "    include_legend=True,\n",
    "    save_to='./plots/resnet152.pdf')"
   ],
   "metadata": {
    "collapsed": false,
    "pycharm": {
     "name": "#%%\n",
     "is_executing": true
    }
   }
  },
  {
   "cell_type": "code",
   "execution_count": null,
   "outputs": [],
   "source": [
    "\n",
    "\n",
    "\n",
    "plt.subplot(1, 2, 1)\n",
    "print('COMPARE EXECUTION TIMES FOR RESNET50')\n",
    "plot_compare_to_device_forward_backward(\n",
    "    non_deterministic_data_path='./results/non-deterministic-resnet50.txt',\n",
    "    deterministic_data_path='./results/deterministic-resnet50.txt',\n",
    "    y_min_max=[0, 0.08],\n",
    "    save_to='./plots/resnet50.pdf')\n",
    "\n",
    "plt.subplot(1, 2, 2)\n",
    "print('COMPARE EXECUTION TIMES FOR RESNET152')\n",
    "plot_compare_to_device_forward_backward(\n",
    "    non_deterministic_data_path='./results/non-deterministic-resnet152.txt',\n",
    "    deterministic_data_path='./results/deterministic-resnet152.txt',\n",
    "    include_legend=True,\n",
    "    save_to='./plots/resnet152.pdf')\n",
    "plt.show()"
   ],
   "metadata": {
    "collapsed": false,
    "pycharm": {
     "name": "#%%\n",
     "is_executing": true
    }
   }
  },
  {
   "cell_type": "code",
   "execution_count": null,
   "outputs": [],
   "source": [
    "deterministic_data_paths = [\n",
    "    './results/deterministic-resnet18.txt',\n",
    "    './results/deterministic-resnet50.txt',\n",
    "    './results/deterministic-resnet152.txt']\n",
    "non_deterministic_data_paths = [\n",
    "    './results/non-deterministic-resnet18.txt',\n",
    "    './results/non-deterministic-resnet50.txt',\n",
    "    './results/non-deterministic-resnet152.txt']\n",
    "\n",
    "titles = ['ResNet18', 'ResNet50', 'ResNet152']\n",
    "\n",
    "matplotlib.rcParams.update({'font.size': 40})\n",
    "x_labels = ['to device', 'forward', 'backward']\n",
    "\n",
    "ind = np.arange(len(x_labels))  # the x locations for the groups\n",
    "width = 0.4  # the width of the bars\n",
    "\n",
    "fig, axes = plt.subplots(nrows=1, ncols=3, figsize=(20, 10))\n",
    "\n",
    "for i in range(3):\n",
    "    non_deterministic_data_path = non_deterministic_data_paths[i]\n",
    "    non_deterministic = list(map(ns2s, median_values(extract_data(non_deterministic_data_path))))[2:]\n",
    "\n",
    "    deterministic_data_path = deterministic_data_paths[i]\n",
    "    deterministic = list(map(ns2s, median_values(extract_data(deterministic_data_path))))[2:]\n",
    "\n",
    "    ax = axes[i]\n",
    "    ax.title.set_text(titles[i])\n",
    "    rects1 = ax.bar(ind + width / 2, non_deterministic, width, color=A_RED)\n",
    "    rects2 = ax.bar(ind + 1.5 * width, deterministic, width, color=A_YELLOW)\n",
    "    ax.set_ylabel('Time in seconds')\n",
    "    ax.set_xticks(ind + width)\n",
    "    ax.set_xticklabels(x_labels)\n",
    "    ax.yaxis.set_major_formatter(FormatStrFormatter('%.2f'))\n",
    "\n",
    "    matplotlib.pyplot.sca(ax)\n",
    "    plt.xticks(rotation=60)\n",
    "\n",
    "rects1 = ax.bar(ind + width / 2, non_deterministic, width, color=A_RED)\n",
    "rects2 = ax.bar(ind + 1.5 * width, deterministic, width, color=A_YELLOW)\n",
    "fig.legend((rects1[0], rects2[0]), ('non-deterministic', 'deterministic'), loc=\"upper center\",\n",
    "           bbox_to_anchor=(0.5, 1.10), ncol=2)\n",
    "fig.tight_layout()\n",
    "fig.savefig('./plots/resnets.pdf', bbox_inches='tight')\n",
    "fig.savefig('./plots/resnets.png', bbox_inches='tight')\n",
    "plt.show()"
   ],
   "metadata": {
    "collapsed": false,
    "pycharm": {
     "name": "#%%\n",
     "is_executing": true
    }
   }
  },
  {
   "cell_type": "code",
   "execution_count": null,
   "outputs": [],
   "source": [
    "deterministic_data_paths = [\n",
    "    './results/coco-food-results/deterministic-resnet18-0.txt',\n",
    "    './results/coco-food-results/deterministic-resnet50-0.txt',\n",
    "    './results/coco-food-results/deterministic-resnet152-0.txt']\n",
    "\n",
    "non_deterministic_data_paths = [\n",
    "    './results/coco-food-results/non-deterministic-resnet18-0.txt',\n",
    "    './results/coco-food-results/non-deterministic-resnet50-0.txt',\n",
    "    './results/coco-food-results/non-deterministic-resnet152-0.txt']\n",
    "\n",
    "titles = ['ResNet18', 'ResNet50', 'ResNet152']\n",
    "\n",
    "matplotlib.rcParams.update({'font.size': 40})\n",
    "x_labels = ['to device', 'forward', 'backward']\n",
    "\n",
    "ind = np.arange(len(x_labels))  # the x locations for the groups\n",
    "width = 0.4  # the width of the bars\n",
    "\n",
    "fig, axes = plt.subplots(nrows=1, ncols=3, figsize=(20, 10))\n",
    "\n",
    "for i in range(3):\n",
    "    non_deterministic_data_path = non_deterministic_data_paths[i]\n",
    "    non_deterministic = list(map(ns2s, median_values(extract_data(non_deterministic_data_path))))[2:]\n",
    "\n",
    "    deterministic_data_path = deterministic_data_paths[i]\n",
    "    deterministic = list(map(ns2s, median_values(extract_data(deterministic_data_path))))[2:]\n",
    "\n",
    "    ax = axes[i]\n",
    "    ax.title.set_text(titles[i])\n",
    "    rects1 = ax.bar(ind + width / 2, non_deterministic, width, color=A_RED)\n",
    "    rects2 = ax.bar(ind + 1.5 * width, deterministic, width, color=A_YELLOW)\n",
    "    ax.set_ylabel('Time in seconds')\n",
    "    ax.set_xticks(ind + width)\n",
    "    ax.set_xticklabels(x_labels)\n",
    "    ax.yaxis.set_major_formatter(FormatStrFormatter('%.2f'))\n",
    "\n",
    "    matplotlib.pyplot.sca(ax)\n",
    "    plt.xticks(rotation=60)\n",
    "\n",
    "rects1 = ax.bar(ind + width / 2, non_deterministic, width, color=A_RED)\n",
    "rects2 = ax.bar(ind + 1.5 * width, deterministic, width, color=A_YELLOW)\n",
    "fig.legend((rects1[0], rects2[0]), ('non-deterministic', 'deterministic'), loc=\"upper center\",\n",
    "           bbox_to_anchor=(0.5, 1.10), ncol=2)\n",
    "fig.tight_layout()\n",
    "fig.savefig('./plots/resnets.pdf', bbox_inches='tight')\n",
    "fig.savefig('./plots/resnets.png', bbox_inches='tight')\n",
    "plt.show()\n"
   ],
   "metadata": {
    "collapsed": false,
    "pycharm": {
     "name": "#%%\n",
     "is_executing": true
    }
   }
  },
  {
   "cell_type": "code",
   "execution_count": null,
   "outputs": [],
   "source": [
    "from experiments.util.extract_data import sum_values\n",
    "\n",
    "def get_median_sums(model, deterministic):\n",
    "    flag = \"\"\n",
    "    if not deterministic:\n",
    "        flag = \"non-\"\n",
    "    load = []\n",
    "    forward = []\n",
    "    backward = []\n",
    "\n",
    "    for counter in range(5):\n",
    "        data_path = f'./results/coco-food-results/{flag}deterministic-{model}-{counter}.txt'\n",
    "        l, f, b = list(map(ns2s, sum_values(extract_data(data_path))))[2:]\n",
    "        load.append(l)\n",
    "        forward.append(f)\n",
    "        backward.append(b)\n",
    "\n",
    "    return np.median(np.array(load)), np.median(np.array(forward)), np.median(np.array(backward))\n",
    "\n",
    "determ_sums = get_median_sums(\"resnet18\", True)\n",
    "non_determ_sums = get_median_sums(\"resnet18\", False)\n",
    "\n",
    "\n",
    "\n",
    "\n",
    "# list(map(ns2s, median_values(extract_data(non_deterministic_data_path))))[2:]\n",
    "print('test')"
   ],
   "metadata": {
    "collapsed": false,
    "pycharm": {
     "name": "#%%\n",
     "is_executing": true
    }
   }
  },
  {
   "cell_type": "code",
   "execution_count": null,
   "outputs": [],
   "source": [],
   "metadata": {
    "collapsed": false,
    "pycharm": {
     "name": "#%%\n",
     "is_executing": true
    }
   }
  },
  {
   "cell_type": "code",
   "execution_count": null,
   "outputs": [],
   "source": [
    "\n",
    "models = ['resnet18', 'resnet50', 'resnet152']\n",
    "titles = ['ResNet18', 'ResNet50', 'ResNet152']\n",
    "\n",
    "matplotlib.rcParams.update({'font.size': 40})\n",
    "x_labels = ['to device', 'forward', 'backward']\n",
    "\n",
    "ind = np.arange(len(x_labels))  # the x locations for the groups\n",
    "width = 0.4  # the width of the bars\n",
    "\n",
    "fig, axes = plt.subplots(nrows=1, ncols=3, figsize=(20, 10))\n",
    "\n",
    "for i in range(3):\n",
    "    deterministic = get_median_sums(models[i], deterministic=True)\n",
    "    non_deterministic = get_median_sums(models[i], deterministic=False)\n",
    "\n",
    "    ax = axes[i]\n",
    "    ax.title.set_text(titles[i])\n",
    "    rects1 = ax.bar(ind + width / 2, non_deterministic, width, color=A_RED)\n",
    "    rects2 = ax.bar(ind + 1.5 * width, deterministic, width, color=A_YELLOW)\n",
    "    ax.set_ylabel('Time in seconds')\n",
    "    ax.set_xticks(ind + width)\n",
    "    ax.set_xticklabels(x_labels)\n",
    "    ax.yaxis.set_major_formatter(FormatStrFormatter('%.2f'))\n",
    "\n",
    "    matplotlib.pyplot.sca(ax)\n",
    "    plt.xticks(rotation=60)\n",
    "\n",
    "rects1 = ax.bar(ind + width / 2, non_deterministic, width, color=A_RED)\n",
    "rects2 = ax.bar(ind + 1.5 * width, deterministic, width, color=A_YELLOW)\n",
    "fig.legend((rects1[0], rects2[0]), ('non-deterministic', 'deterministic'), loc=\"upper center\",\n",
    "           bbox_to_anchor=(0.5, 1.10), ncol=2)\n",
    "fig.tight_layout()\n",
    "fig.savefig('./plots/coco-food-5-epochs-resnets.pdf', bbox_inches='tight')\n",
    "fig.savefig('./plots/coco-food-5-epochs-resnets.png', bbox_inches='tight')\n",
    "plt.show()\n"
   ],
   "metadata": {
    "collapsed": false,
    "pycharm": {
     "name": "#%%\n",
     "is_executing": true
    }
   }
  },
  {
   "cell_type": "code",
   "execution_count": null,
   "outputs": [],
   "source": [],
   "metadata": {
    "collapsed": false,
    "pycharm": {
     "name": "#%%\n",
     "is_executing": true
    }
   }
  }
 ],
 "metadata": {
  "kernelspec": {
   "display_name": "Python 3",
   "language": "python",
   "name": "python3"
  },
  "language_info": {
   "codemirror_mode": {
    "name": "ipython",
    "version": 2
   },
   "file_extension": ".py",
   "mimetype": "text/x-python",
   "name": "python",
   "nbconvert_exporter": "python",
   "pygments_lexer": "ipython2",
   "version": "2.7.6"
  },
  "pycharm": {
   "stem_cell": {
    "cell_type": "raw",
    "source": [
     "\n"
    ],
    "metadata": {
     "collapsed": false
    }
   }
  }
 },
 "nbformat": 4,
 "nbformat_minor": 0
}