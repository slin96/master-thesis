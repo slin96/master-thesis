{
 "cells": [
  {
   "cell_type": "code",
   "execution_count": null,
   "metadata": {
    "collapsed": true,
    "pycharm": {
     "name": "#%%\n"
    }
   },
   "outputs": [],
   "source": [
    "train_root_path = '/hpi/fs00/home/nils.strassenburg/datasets/coco/train2017'\n",
    "train_annotations = '/hpi/fs00/home/nils.strassenburg/datasets/coco/annotations/instances_train2017.json'\n",
    "\n",
    "test_root_path = '/hpi/fs00/home/nils.strassenburg/datasets/coco/test2017'\n",
    "test_annotations = '/hpi/fs00/home/nils.strassenburg/datasets/coco/annotations/instances_test2017.json'\n",
    "\n",
    "val_root_path = '/hpi/fs00/home/nils.strassenburg/datasets/coco/val2017'\n",
    "val_annotations = '/hpi/fs00/home/nils.strassenburg/datasets/coco/annotations/instances_val2017.json'\n",
    "\n",
    "\n"
   ]
  }
 ],
 "metadata": {
  "kernelspec": {
   "display_name": "Python 3",
   "language": "python",
   "name": "python3"
  },
  "language_info": {
   "codemirror_mode": {
    "name": "ipython",
    "version": 2
   },
   "file_extension": ".py",
   "mimetype": "text/x-python",
   "name": "python",
   "nbconvert_exporter": "python",
   "pygments_lexer": "ipython2",
   "version": "2.7.6"
  }
 },
 "nbformat": 4,
 "nbformat_minor": 0
}