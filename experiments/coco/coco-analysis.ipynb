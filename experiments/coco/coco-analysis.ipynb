{
 "cells": [
  {
   "cell_type": "code",
   "execution_count": 2,
   "metadata": {
    "collapsed": true,
    "pycharm": {
     "name": "#%%\n"
    }
   },
   "outputs": [],
   "source": [
    "import json\n",
    "import torchvision\n",
    "\n",
    "train_root_path = '/hpi/fs00/share/fg/rabl/strassenburg/datasets/coco/train2017'\n",
    "train_annotations = '/hpi/fs00/share/fg/rabl/strassenburg/datasets/coco/annotations/instances_train2017.json'\n",
    "\n",
    "val_root_path = '/hpi/fs00/share/fg/rabl/strassenburg/datasets/coco/val2017'\n",
    "val_annotations = '/hpi/fs00/share/fg/rabl/strassenburg/datasets/coco/annotations/instances_val2017.json'"
   ]
  },
  {
   "cell_type": "code",
   "execution_count": 3,
   "outputs": [],
   "source": [
    "%matplotlib inline"
   ],
   "metadata": {
    "collapsed": false,
    "pycharm": {
     "name": "#%%\n"
    }
   }
  },
  {
   "cell_type": "code",
   "execution_count": 4,
   "outputs": [],
   "source": [
    "def id_to_class_index(annotations_path):\n",
    "    index = {}\n",
    "    with open(annotations_path, 'r') as COCO:\n",
    "        js = json.loads(COCO.read())\n",
    "        cats = js['categories']\n",
    "\n",
    "        for cat in cats:\n",
    "            index[cat['id']] = cat['name']\n",
    "\n",
    "    return index\n"
   ],
   "metadata": {
    "collapsed": false,
    "pycharm": {
     "name": "#%%\n"
    }
   }
  },
  {
   "cell_type": "code",
   "execution_count": 5,
   "outputs": [],
   "source": [
    "train_cat_index = id_to_class_index(train_annotations)\n",
    "val_cat_index = id_to_class_index(val_annotations)"
   ],
   "metadata": {
    "collapsed": false,
    "pycharm": {
     "name": "#%%\n"
    }
   }
  },
  {
   "cell_type": "code",
   "execution_count": 6,
   "outputs": [
    {
     "name": "stdout",
     "output_type": "stream",
     "text": [
      "80\n",
      "80\n",
      "True\n"
     ]
    }
   ],
   "source": [
    "print(len(train_cat_index))\n",
    "print(len(val_cat_index))\n",
    "\n",
    "print(val_cat_index == train_cat_index)"
   ],
   "metadata": {
    "collapsed": false,
    "pycharm": {
     "name": "#%%\n"
    }
   }
  },
  {
   "cell_type": "code",
   "execution_count": 7,
   "outputs": [
    {
     "name": "stdout",
     "output_type": "stream",
     "text": [
      "all categories\n",
      "dict_values(['person', 'bicycle', 'car', 'motorcycle', 'airplane', 'bus', 'train', 'truck', 'boat', 'traffic light', 'fire hydrant', 'stop sign', 'parking meter', 'bench', 'bird', 'cat', 'dog', 'horse', 'sheep', 'cow', 'elephant', 'bear', 'zebra', 'giraffe', 'backpack', 'umbrella', 'handbag', 'tie', 'suitcase', 'frisbee', 'skis', 'snowboard', 'sports ball', 'kite', 'baseball bat', 'baseball glove', 'skateboard', 'surfboard', 'tennis racket', 'bottle', 'wine glass', 'cup', 'fork', 'knife', 'spoon', 'bowl', 'banana', 'apple', 'sandwich', 'orange', 'broccoli', 'carrot', 'hot dog', 'pizza', 'donut', 'cake', 'chair', 'couch', 'potted plant', 'bed', 'dining table', 'toilet', 'tv', 'laptop', 'mouse', 'remote', 'keyboard', 'cell phone', 'microwave', 'oven', 'toaster', 'sink', 'refrigerator', 'book', 'clock', 'vase', 'scissors', 'teddy bear', 'hair drier', 'toothbrush'])\n"
     ]
    }
   ],
   "source": [
    "print('all categories')\n",
    "print(train_cat_index.values())"
   ],
   "metadata": {
    "collapsed": false,
    "pycharm": {
     "name": "#%%\n"
    }
   }
  },
  {
   "cell_type": "code",
   "execution_count": 8,
   "outputs": [
    {
     "name": "stdout",
     "output_type": "stream",
     "text": [
      "loading annotations into memory...\n",
      "Done (t=11.15s)\n",
      "creating index...\n",
      "index created!\n",
      "loading annotations into memory...\n",
      "Done (t=0.40s)\n",
      "creating index...\n",
      "index created!\n"
     ]
    }
   ],
   "source": [
    "train_coco_data = torchvision.datasets.CocoDetection(train_root_path, train_annotations)\n",
    "val_coco_data = torchvision.datasets.CocoDetection(val_root_path, val_annotations)"
   ],
   "metadata": {
    "collapsed": false,
    "pycharm": {
     "name": "#%%\n"
    }
   }
  },
  {
   "cell_type": "code",
   "execution_count": 9,
   "outputs": [],
   "source": [
    "def category_ids(annotation):\n",
    "    cat_ids = set()\n",
    "    for a in annotation:\n",
    "        cat_ids.add(a['category_id'])\n",
    "\n",
    "    return cat_ids\n",
    "\n",
    "\n",
    "def filter_number_of_categories(elements, num_categories):\n",
    "    return [e for e in elements if len(category_ids(e[1])) <= num_categories]\n",
    "\n"
   ],
   "metadata": {
    "collapsed": false,
    "pycharm": {
     "name": "#%%\n"
    }
   }
  },
  {
   "cell_type": "code",
   "execution_count": 10,
   "outputs": [
    {
     "name": "stdout",
     "output_type": "stream",
     "text": [
      "val set\n",
      "num pictures with max 3 categories: 3575\n",
      "num pictures with max 2 categories: 2595\n",
      "num pictures with max 1 categories: 1073\n"
     ]
    }
   ],
   "source": [
    "print('val set')\n",
    "val_three_cats = filter_number_of_categories(val_coco_data, 3)\n",
    "print('num pictures with max 3 categories: {}'.format(len(val_three_cats)))\n",
    "val_two_cats = filter_number_of_categories(val_three_cats, 2)\n",
    "print('num pictures with max 2 categories: {}'.format(len(val_two_cats)))\n",
    "val_one_cat = filter_number_of_categories(val_two_cats, 1)\n",
    "print('num pictures with max 1 categories: {}'.format(len(val_one_cat)))\n",
    "\n",
    "\n"
   ],
   "metadata": {
    "collapsed": false,
    "pycharm": {
     "name": "#%%\n"
    }
   }
  },
  {
   "cell_type": "code",
   "execution_count": 11,
   "outputs": [
    {
     "name": "stdout",
     "output_type": "stream",
     "text": [
      "train set\n",
      "num pictures with 3 categories: 85234\n",
      "num pictures with 2 categories: 61065\n",
      "num pictures with 1 categories: 25207\n"
     ]
    }
   ],
   "source": [
    "print('train set')\n",
    "train_three_cats = filter_number_of_categories(train_coco_data, 3)\n",
    "print('num pictures with 3 categories: {}'.format(len(train_three_cats)))\n",
    "train_two_cats = filter_number_of_categories(train_three_cats, 2)\n",
    "print('num pictures with 2 categories: {}'.format(len(train_two_cats)))\n",
    "train_one_cat = filter_number_of_categories(train_two_cats, 1)\n",
    "print('num pictures with 1 categories: {}'.format(len(train_one_cat)))\n",
    "\n"
   ],
   "metadata": {
    "collapsed": false,
    "pycharm": {
     "name": "#%%\n"
    }
   }
  },
  {
   "cell_type": "code",
   "execution_count": 11,
   "outputs": [],
   "source": [],
   "metadata": {
    "collapsed": false,
    "pycharm": {
     "name": "#%%\n"
    }
   }
  }
 ],
 "metadata": {
  "kernelspec": {
   "display_name": "Python 3",
   "language": "python",
   "name": "python3"
  },
  "language_info": {
   "codemirror_mode": {
    "name": "ipython",
    "version": 2
   },
   "file_extension": ".py",
   "mimetype": "text/x-python",
   "name": "python",
   "nbconvert_exporter": "python",
   "pygments_lexer": "ipython2",
   "version": "2.7.6"
  }
 },
 "nbformat": 4,
 "nbformat_minor": 0
}