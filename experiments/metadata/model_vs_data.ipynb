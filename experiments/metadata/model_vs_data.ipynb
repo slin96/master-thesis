{
 "cells": [
  {
   "cell_type": "code",
   "execution_count": 1,
   "metadata": {
    "collapsed": true
   },
   "outputs": [],
   "source": [
    "import os\n",
    "from os import listdir\n",
    "from os.path import isfile, join\n",
    "\n",
    "import numpy as np\n",
    "import torch\n",
    "from torchvision import models\n",
    "\n",
    "TMP_PT = 'tmp.pt'\n",
    "\n",
    "# to execute locally change path, not in repo\n",
    "IMAGENET_VAL_ROOT = '../../tmp/imgnet/ILSVRC2012_img_val'"
   ]
  },
  {
   "cell_type": "code",
   "execution_count": 2,
   "outputs": [],
   "source": [
    "\n",
    "image_sizes = [os.path.getsize(join(IMAGENET_VAL_ROOT, f)) for f in listdir(IMAGENET_VAL_ROOT) if\n",
    "               isfile(join(IMAGENET_VAL_ROOT, f))]\n",
    "image_sizes = np.array(image_sizes)"
   ],
   "metadata": {
    "collapsed": false,
    "pycharm": {
     "name": "#%%\n"
    }
   }
  },
  {
   "cell_type": "code",
   "execution_count": 3,
   "outputs": [
    {
     "name": "stdout",
     "output_type": "stream",
     "text": [
      "Average image size in bytes: \n",
      "134131.20638\n",
      "Median image size in bytes: \n",
      "126689.0\n",
      "Average image size in kilobytes: \n",
      "134.13120637999998\n",
      "Median image size in kilobytes: \n",
      "126.689\n"
     ]
    }
   ],
   "source": [
    "print('Average image size in bytes: ')\n",
    "avg_image_size = np.average(image_sizes)\n",
    "print(avg_image_size)\n",
    "print('Median image size in bytes: ')\n",
    "print(np.median(image_sizes))\n",
    "\n",
    "print('Average image size in kilobytes: ')\n",
    "print(np.average(image_sizes) / 1000)\n",
    "print('Median image size in kilobytes: ')\n",
    "print(np.median(image_sizes) / 1000)"
   ],
   "metadata": {
    "collapsed": false,
    "pycharm": {
     "name": "#%%\n"
    }
   }
  },
  {
   "cell_type": "code",
   "execution_count": 4,
   "outputs": [],
   "source": [
    "models = [models.mobilenet_v2, models.googlenet, models.resnet18, models.resnet50, models.resnet152]\n",
    "model_names = [m.__name__ for m in models]"
   ],
   "metadata": {
    "collapsed": false,
    "pycharm": {
     "name": "#%%\n"
    }
   }
  },
  {
   "cell_type": "code",
   "execution_count": 5,
   "outputs": [
    {
     "name": "stdout",
     "output_type": "stream",
     "text": [
      "mobilenet_v2 \t state_dict size: \t 14.266675 megabyte\n",
      "googlenet \t state_dict size: \t 26.681183 megabyte\n",
      "resnet18 \t state_dict size: \t 46.837875 megabyte\n",
      "resnet50 \t state_dict size: \t 102.548719 megabyte\n",
      "resnet152 \t state_dict size: \t 241.692183 megabyte\n"
     ]
    }
   ],
   "source": [
    "state_dict_sizes = []\n",
    "\n",
    "for model in models:\n",
    "    tmp_model = model(pretrained=True)\n",
    "    torch.save(tmp_model.state_dict(), TMP_PT)\n",
    "    state_dict_size = os.path.getsize(TMP_PT)\n",
    "    state_dict_sizes.append(state_dict_size)\n",
    "    print('{} \\t state_dict size: \\t {} megabyte'.format(model.__name__, state_dict_size/ 10 ** 6))\n",
    "    os.remove(TMP_PT)\n"
   ],
   "metadata": {
    "collapsed": false,
    "pycharm": {
     "name": "#%%\n"
    }
   }
  },
  {
   "cell_type": "code",
   "execution_count": 6,
   "outputs": [
    {
     "name": "stdout",
     "output_type": "stream",
     "text": [
      "Uncompressed images\n",
      "mobilenet_v2 \t images instead of state_dict: \t 106.36357776117991\n",
      "googlenet \t images instead of state_dict: \t 198.91853447147085\n",
      "resnet18 \t images instead of state_dict: \t 349.1944661058673\n",
      "resnet50 \t images instead of state_dict: \t 764.5403464833879\n",
      "resnet152 \t images instead of state_dict: \t 1801.9086648283378\n"
     ]
    }
   ],
   "source": [
    "print(\"Uncompressed images\")\n",
    "for model_name, dict_size in zip(model_names, state_dict_sizes):\n",
    "    per_state_dict = dict_size / avg_image_size\n",
    "    print('{} \\t images instead of state_dict: \\t {}'.format(model_name, per_state_dict))"
   ],
   "metadata": {
    "collapsed": false,
    "pycharm": {
     "name": "#%%\n"
    }
   }
  },
  {
   "cell_type": "code",
   "execution_count": 6,
   "outputs": [],
   "source": [],
   "metadata": {
    "collapsed": false,
    "pycharm": {
     "name": "#%%\n"
    }
   }
  },
  {
   "cell_type": "code",
   "execution_count": 6,
   "outputs": [],
   "source": [
    "\n",
    "\n",
    "\n",
    "\n",
    "\n",
    "\n",
    "\n",
    "\n",
    "\n",
    "\n",
    "\n",
    "\n",
    "\n"
   ],
   "metadata": {
    "collapsed": false,
    "pycharm": {
     "name": "#%%\n"
    }
   }
  },
  {
   "cell_type": "code",
   "execution_count": 6,
   "outputs": [],
   "source": [],
   "metadata": {
    "collapsed": false,
    "pycharm": {
     "name": "#%%\n"
    }
   }
  }
 ],
 "metadata": {
  "kernelspec": {
   "display_name": "Python 3",
   "language": "python",
   "name": "python3"
  },
  "language_info": {
   "codemirror_mode": {
    "name": "ipython",
    "version": 2
   },
   "file_extension": ".py",
   "mimetype": "text/x-python",
   "name": "python",
   "nbconvert_exporter": "python",
   "pygments_lexer": "ipython2",
   "version": "2.7.6"
  }
 },
 "nbformat": 4,
 "nbformat_minor": 0
}