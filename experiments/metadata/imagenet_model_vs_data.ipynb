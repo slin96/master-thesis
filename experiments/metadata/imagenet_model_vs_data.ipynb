{
 "cells": [
  {
   "cell_type": "code",
   "execution_count": 1,
   "metadata": {
    "collapsed": true
   },
   "outputs": [],
   "source": [
    "import os\n",
    "from os import listdir\n",
    "from os.path import isfile, join\n",
    "\n",
    "import numpy as np\n",
    "import torch\n",
    "from torchvision import models\n",
    "from pathlib import Path"
   ]
  },
  {
   "cell_type": "code",
   "execution_count": 2,
   "outputs": [],
   "source": [
    "TMP_PT = 'tmp.pt'\n",
    "\n",
    "# to execute locally change path not in repo\n",
    "IMAGENET_VAL_ROOT = '../../tmp/imgnet/val'\n",
    "CUSTOM_COCO_ROOT = '../../tmp/cutsom-coco-data/images'"
   ],
   "metadata": {
    "collapsed": false,
    "pycharm": {
     "name": "#%%\n"
    }
   }
  },
  {
   "cell_type": "code",
   "execution_count": 3,
   "outputs": [],
   "source": [
    "imagenet_images = [os.path.abspath(p) for p in Path(IMAGENET_VAL_ROOT).rglob('*.JPEG')]"
   ],
   "metadata": {
    "collapsed": false,
    "pycharm": {
     "name": "#%%\n"
    }
   }
  },
  {
   "cell_type": "code",
   "execution_count": 4,
   "outputs": [],
   "source": [
    "coco_images = [os.path.abspath(p) for p in Path(CUSTOM_COCO_ROOT).rglob('*.jpg')]"
   ],
   "metadata": {
    "collapsed": false,
    "pycharm": {
     "name": "#%%\n"
    }
   }
  },
  {
   "cell_type": "code",
   "execution_count": 5,
   "outputs": [],
   "source": [
    "imagenet_image_sizes = [os.path.getsize(f) for f in imagenet_images]\n",
    "imagenet_image_sizes = np.array(imagenet_image_sizes)"
   ],
   "metadata": {
    "collapsed": false,
    "pycharm": {
     "name": "#%%\n"
    }
   }
  },
  {
   "cell_type": "code",
   "execution_count": 6,
   "outputs": [],
   "source": [
    "coco_image_sizes = [os.path.getsize(f) for f in coco_images]\n",
    "coco_image_sizes = np.array(coco_image_sizes)"
   ],
   "metadata": {
    "collapsed": false,
    "pycharm": {
     "name": "#%%\n"
    }
   }
  },
  {
   "cell_type": "code",
   "execution_count": 7,
   "outputs": [
    {
     "name": "stdout",
     "output_type": "stream",
     "text": [
      "IMAGENET\n",
      "Average image size in bytes: \n",
      "134131.20638\n",
      "Median image size in bytes: \n",
      "126689.0\n",
      "Average image size in kilobytes: \n",
      "134.13120637999998\n",
      "Median image size in kilobytes: \n",
      "126.689\n"
     ]
    }
   ],
   "source": [
    "print('IMAGENET')\n",
    "print('Average image size in bytes: ')\n",
    "avg_imagenet_image_size = np.average(imagenet_image_sizes)\n",
    "print(avg_imagenet_image_size)\n",
    "print('Median image size in bytes: ')\n",
    "print(np.median(imagenet_image_sizes))\n",
    "\n",
    "print('Average image size in kilobytes: ')\n",
    "print(np.average(imagenet_image_sizes) / 1000)\n",
    "print('Median image size in kilobytes: ')\n",
    "print(np.median(imagenet_image_sizes) / 1000)\n"
   ],
   "metadata": {
    "collapsed": false,
    "pycharm": {
     "name": "#%%\n"
    }
   }
  },
  {
   "cell_type": "code",
   "execution_count": 8,
   "outputs": [
    {
     "name": "stdout",
     "output_type": "stream",
     "text": [
      "CUSTOM COCO\n",
      "Average image size in bytes: \n",
      "168029.00979216627\n",
      "Median image size in bytes: \n",
      "159030.5\n",
      "Average image size in kilobytes: \n",
      "168.02900979216628\n",
      "Median image size in kilobytes: \n",
      "159.0305\n"
     ]
    }
   ],
   "source": [
    "print('CUSTOM COCO')\n",
    "print('Average image size in bytes: ')\n",
    "avg_coco_image_size = np.average(coco_image_sizes)\n",
    "print(avg_coco_image_size)\n",
    "print('Median image size in bytes: ')\n",
    "print(np.median(coco_image_sizes))\n",
    "\n",
    "print('Average image size in kilobytes: ')\n",
    "print(np.average(coco_image_sizes) / 1000)\n",
    "print('Median image size in kilobytes: ')\n",
    "print(np.median(coco_image_sizes) / 1000)"
   ],
   "metadata": {
    "collapsed": false,
    "pycharm": {
     "name": "#%%\n"
    }
   }
  },
  {
   "cell_type": "code",
   "execution_count": 9,
   "outputs": [],
   "source": [
    "models = [models.mobilenet_v2, models.googlenet, models.resnet18, models.resnet50, models.resnet152]\n",
    "model_names = [m.__name__ for m in models]"
   ],
   "metadata": {
    "collapsed": false,
    "pycharm": {
     "name": "#%%\n"
    }
   }
  },
  {
   "cell_type": "code",
   "execution_count": 10,
   "outputs": [
    {
     "name": "stdout",
     "output_type": "stream",
     "text": [
      "mobilenet_v2 \t state_dict size: \t 14.266675 megabyte\n",
      "googlenet \t state_dict size: \t 26.681183 megabyte\n",
      "resnet18 \t state_dict size: \t 46.837875 megabyte\n",
      "resnet50 \t state_dict size: \t 102.548719 megabyte\n",
      "resnet152 \t state_dict size: \t 241.692183 megabyte\n"
     ]
    }
   ],
   "source": [
    "state_dict_sizes = []\n",
    "\n",
    "for model in models:\n",
    "    tmp_model = model(pretrained=True)\n",
    "    torch.save(tmp_model.state_dict(), TMP_PT)\n",
    "    state_dict_size = os.path.getsize(TMP_PT)\n",
    "    state_dict_sizes.append(state_dict_size)\n",
    "    print('{} \\t state_dict size: \\t {} megabyte'.format(model.__name__, state_dict_size / 10 ** 6))\n",
    "    os.remove(TMP_PT)\n"
   ],
   "metadata": {
    "collapsed": false,
    "pycharm": {
     "name": "#%%\n"
    }
   }
  },
  {
   "cell_type": "code",
   "execution_count": 11,
   "outputs": [
    {
     "name": "stdout",
     "output_type": "stream",
     "text": [
      "IMAGENET: Uncompressed images\n",
      "mobilenet_v2 \t images instead of state_dict: \t 106.36357776117991\n",
      "googlenet \t images instead of state_dict: \t 198.91853447147085\n",
      "resnet18 \t images instead of state_dict: \t 349.1944661058673\n",
      "resnet50 \t images instead of state_dict: \t 764.5403464833879\n",
      "resnet152 \t images instead of state_dict: \t 1801.9086648283378\n"
     ]
    }
   ],
   "source": [
    "print(\"IMAGENET: Uncompressed images\")\n",
    "for model_name, dict_size in zip(model_names, state_dict_sizes):\n",
    "    per_state_dict = dict_size / avg_imagenet_image_size\n",
    "    print('{} \\t images instead of state_dict: \\t {}'.format(model_name, per_state_dict))"
   ],
   "metadata": {
    "collapsed": false,
    "pycharm": {
     "name": "#%%\n"
    }
   }
  },
  {
   "cell_type": "code",
   "execution_count": 12,
   "outputs": [
    {
     "name": "stdout",
     "output_type": "stream",
     "text": [
      "COCO: Uncompressed images\n",
      "mobilenet_v2 \t images instead of state_dict: \t 84.90602317805917\n",
      "googlenet \t images instead of state_dict: \t 158.789146189707\n",
      "resnet18 \t images instead of state_dict: \t 278.74874141038737\n",
      "resnet50 \t images instead of state_dict: \t 610.3036560582109\n",
      "resnet152 \t images instead of state_dict: \t 1438.3955681161672\n"
     ]
    }
   ],
   "source": [
    "print(\"COCO: Uncompressed images\")\n",
    "for model_name, dict_size in zip(model_names, state_dict_sizes):\n",
    "    per_state_dict = dict_size / avg_coco_image_size\n",
    "    print('{} \\t images instead of state_dict: \\t {}'.format(model_name, per_state_dict))\n",
    "\n",
    "\n"
   ],
   "metadata": {
    "collapsed": false,
    "pycharm": {
     "name": "#%%\n"
    }
   }
  },
  {
   "cell_type": "code",
   "execution_count": 12,
   "outputs": [],
   "source": [],
   "metadata": {
    "collapsed": false,
    "pycharm": {
     "name": "#%%\n"
    }
   }
  }
 ],
 "metadata": {
  "kernelspec": {
   "display_name": "Python 3",
   "language": "python",
   "name": "python3"
  },
  "language_info": {
   "codemirror_mode": {
    "name": "ipython",
    "version": 2
   },
   "file_extension": ".py",
   "mimetype": "text/x-python",
   "name": "python",
   "nbconvert_exporter": "python",
   "pygments_lexer": "ipython2",
   "version": "2.7.6"
  }
 },
 "nbformat": 4,
 "nbformat_minor": 0
}