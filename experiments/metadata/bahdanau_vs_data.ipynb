{
 "cells": [
  {
   "cell_type": "code",
   "execution_count": 1,
   "metadata": {
    "collapsed": true
   },
   "outputs": [],
   "source": [
    "import os\n",
    "\n",
    "import torch\n",
    "\n",
    "from experiments.metadata.bahdanau import get_bahdanau_model"
   ]
  },
  {
   "cell_type": "code",
   "execution_count": 2,
   "outputs": [],
   "source": [
    "TMP_PT = 'tmp.pt'\n",
    "\n",
    "model = get_bahdanau_model()"
   ],
   "metadata": {
    "collapsed": false,
    "pycharm": {
     "name": "#%%\n"
    }
   }
  },
  {
   "cell_type": "code",
   "execution_count": 3,
   "outputs": [
    {
     "name": "stdout",
     "output_type": "stream",
     "text": [
      "Model state_dict size: \t 131.488119 MB\n"
     ]
    }
   ],
   "source": [
    "torch.save(model.state_dict(), TMP_PT)\n",
    "state_dict_size = os.path.getsize(TMP_PT)\n",
    "print('Model state_dict size: \\t {} MB'.format(state_dict_size / 10 ** 6))\n",
    "os.remove(TMP_PT)"
   ],
   "metadata": {
    "collapsed": false,
    "pycharm": {
     "name": "#%%\n"
    }
   }
  },
  {
   "cell_type": "code",
   "execution_count": 4,
   "outputs": [
    {
     "name": "stdout",
     "output_type": "stream",
     "text": [
      "DE size: 637.044 kB\n"
     ]
    }
   ],
   "source": [
    "train_data_de = 'https://raw.githubusercontent.com/multi30k/dataset/master/data/task1/raw/train.de.gz'\n",
    "os.system('wget {} -O {}'.format(train_data_de, TMP_PT))\n",
    "de_size = os.path.getsize(TMP_PT)\n",
    "print('DE size: {} kB'.format(de_size / 1000))\n",
    "os.remove(TMP_PT)\n"
   ],
   "metadata": {
    "collapsed": false,
    "pycharm": {
     "name": "#%%\n"
    }
   }
  },
  {
   "cell_type": "code",
   "execution_count": 5,
   "outputs": [
    {
     "name": "stdout",
     "output_type": "stream",
     "text": [
      "EN size: 568.929 kB\n"
     ]
    }
   ],
   "source": [
    "train_data_en = 'https://raw.githubusercontent.com/multi30k/dataset/master/data/task1/raw/train.en.gz'\n",
    "os.system('wget {} -O {}'.format(train_data_en, TMP_PT))\n",
    "en_size = os.path.getsize(TMP_PT)\n",
    "print('EN size: {} kB'.format(en_size / 1000))\n",
    "os.remove(TMP_PT)"
   ],
   "metadata": {
    "collapsed": false,
    "pycharm": {
     "name": "#%%\n"
    }
   }
  },
  {
   "cell_type": "code",
   "execution_count": 6,
   "outputs": [
    {
     "name": "stdout",
     "output_type": "stream",
     "text": [
      "size of training data: 1.205973 MB\n"
     ]
    }
   ],
   "source": [
    "train_size = de_size + en_size\n",
    "print('size of training data: {} MB'.format(train_size / 10 ** 6))"
   ],
   "metadata": {
    "collapsed": false,
    "pycharm": {
     "name": "#%%\n"
    }
   }
  },
  {
   "cell_type": "code",
   "execution_count": 7,
   "outputs": [
    {
     "name": "stdout",
     "output_type": "stream",
     "text": [
      "for saving the model we could save THE WHOLE TRAINING SET approx 109 times\n"
     ]
    }
   ],
   "source": [
    "factor = int(state_dict_size / train_size)\n",
    "print('for saving the model we could save THE WHOLE TRAINING SET approx {} times'.format(factor))\n"
   ],
   "metadata": {
    "collapsed": false,
    "pycharm": {
     "name": "#%%\n"
    }
   }
  },
  {
   "cell_type": "code",
   "execution_count": 7,
   "outputs": [],
   "source": [],
   "metadata": {
    "collapsed": false,
    "pycharm": {
     "name": "#%%\n"
    }
   }
  }
 ],
 "metadata": {
  "kernelspec": {
   "display_name": "Python 3",
   "language": "python",
   "name": "python3"
  },
  "language_info": {
   "codemirror_mode": {
    "name": "ipython",
    "version": 2
   },
   "file_extension": ".py",
   "mimetype": "text/x-python",
   "name": "python",
   "nbconvert_exporter": "python",
   "pygments_lexer": "ipython2",
   "version": "2.7.6"
  }
 },
 "nbformat": 4,
 "nbformat_minor": 0
}